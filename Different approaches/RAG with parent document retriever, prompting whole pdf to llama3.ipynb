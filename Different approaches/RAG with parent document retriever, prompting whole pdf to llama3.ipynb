{
 "cells": [
  {
   "cell_type": "code",
   "execution_count": 3,
   "metadata": {
    "colab": {
     "base_uri": "https://localhost:8080/"
    },
    "id": "lb13JbjzL7YP",
    "outputId": "6a813f56-684a-43f5-9e16-fa6b56458061",
    "scrolled": true
   },
   "outputs": [
    {
     "name": "stderr",
     "output_type": "stream",
     "text": [
      "ERROR: Could not install packages due to an OSError: [WinError 32] The process cannot access the file because it is being used by another process: 'C:\\\\Users\\\\VISHAL MAURYA\\\\AppData\\\\Local\\\\Programs\\\\Python\\\\Python311\\\\Lib\\\\site-packages\\\\kubernetes\\\\client\\\\models\\\\v1_custom_resource_definition.py'\n",
      "Consider using the `--user` option or check the permissions.\n",
      "\n"
     ]
    },
    {
     "name": "stdout",
     "output_type": "stream",
     "text": [
      "Collecting chromadb\n",
      "  Downloading chromadb-0.5.5-py3-none-any.whl.metadata (6.8 kB)\n",
      "Requirement already satisfied: langchain in c:\\users\\vishal maurya\\appdata\\local\\programs\\python\\python311\\lib\\site-packages (0.2.7)\n",
      "Requirement already satisfied: langchain_community in c:\\users\\vishal maurya\\appdata\\local\\programs\\python\\python311\\lib\\site-packages (0.2.7)\n",
      "Requirement already satisfied: sentence_transformers in c:\\users\\vishal maurya\\appdata\\local\\programs\\python\\python311\\lib\\site-packages (3.0.1)\n",
      "Collecting cohere\n",
      "  Downloading cohere-5.8.1-py3-none-any.whl.metadata (3.4 kB)\n",
      "Collecting build>=1.0.3 (from chromadb)\n",
      "  Using cached build-1.2.1-py3-none-any.whl.metadata (4.3 kB)\n",
      "Requirement already satisfied: pydantic>=1.9 in c:\\users\\vishal maurya\\appdata\\local\\programs\\python\\python311\\lib\\site-packages (from chromadb) (2.7.1)\n",
      "Collecting chroma-hnswlib==0.7.6 (from chromadb)\n",
      "  Downloading chroma_hnswlib-0.7.6-cp311-cp311-win_amd64.whl.metadata (262 bytes)\n",
      "Collecting fastapi>=0.95.2 (from chromadb)\n",
      "  Downloading fastapi-0.112.2-py3-none-any.whl.metadata (27 kB)\n",
      "Collecting uvicorn>=0.18.3 (from uvicorn[standard]>=0.18.3->chromadb)\n",
      "  Downloading uvicorn-0.30.6-py3-none-any.whl.metadata (6.6 kB)\n",
      "Requirement already satisfied: numpy<2.0.0,>=1.22.5 in c:\\users\\vishal maurya\\appdata\\local\\programs\\python\\python311\\lib\\site-packages (from chromadb) (1.25.2)\n",
      "Collecting posthog>=2.4.0 (from chromadb)\n",
      "  Downloading posthog-3.6.0-py2.py3-none-any.whl.metadata (2.0 kB)\n",
      "Requirement already satisfied: typing-extensions>=4.5.0 in c:\\users\\vishal maurya\\appdata\\local\\programs\\python\\python311\\lib\\site-packages (from chromadb) (4.8.0)\n",
      "Collecting onnxruntime>=1.14.1 (from chromadb)\n",
      "  Downloading onnxruntime-1.19.0-cp311-cp311-win_amd64.whl.metadata (4.5 kB)\n",
      "Collecting opentelemetry-api>=1.2.0 (from chromadb)\n",
      "  Downloading opentelemetry_api-1.27.0-py3-none-any.whl.metadata (1.4 kB)\n",
      "Collecting opentelemetry-exporter-otlp-proto-grpc>=1.2.0 (from chromadb)\n",
      "  Downloading opentelemetry_exporter_otlp_proto_grpc-1.27.0-py3-none-any.whl.metadata (2.3 kB)\n",
      "Collecting opentelemetry-instrumentation-fastapi>=0.41b0 (from chromadb)\n",
      "  Downloading opentelemetry_instrumentation_fastapi-0.48b0-py3-none-any.whl.metadata (2.1 kB)\n",
      "Collecting opentelemetry-sdk>=1.2.0 (from chromadb)\n",
      "  Downloading opentelemetry_sdk-1.27.0-py3-none-any.whl.metadata (1.5 kB)\n",
      "Requirement already satisfied: tokenizers>=0.13.2 in c:\\users\\vishal maurya\\appdata\\local\\programs\\python\\python311\\lib\\site-packages (from chromadb) (0.15.2)\n",
      "Collecting pypika>=0.48.9 (from chromadb)\n",
      "  Using cached PyPika-0.48.9-py2.py3-none-any.whl\n",
      "Requirement already satisfied: tqdm>=4.65.0 in c:\\users\\vishal maurya\\appdata\\local\\programs\\python\\python311\\lib\\site-packages (from chromadb) (4.66.4)\n",
      "Requirement already satisfied: overrides>=7.3.1 in c:\\users\\vishal maurya\\appdata\\local\\programs\\python\\python311\\lib\\site-packages (from chromadb) (7.4.0)\n",
      "Collecting importlib-resources (from chromadb)\n",
      "  Downloading importlib_resources-6.4.4-py3-none-any.whl.metadata (4.0 kB)\n",
      "Requirement already satisfied: grpcio>=1.58.0 in c:\\users\\vishal maurya\\appdata\\local\\programs\\python\\python311\\lib\\site-packages (from chromadb) (1.59.0)\n",
      "Collecting bcrypt>=4.0.1 (from chromadb)\n",
      "  Downloading bcrypt-4.2.0-cp39-abi3-win_amd64.whl.metadata (9.9 kB)\n",
      "Collecting typer>=0.9.0 (from chromadb)\n",
      "  Downloading typer-0.12.5-py3-none-any.whl.metadata (15 kB)\n",
      "Collecting kubernetes>=28.1.0 (from chromadb)\n",
      "  Downloading kubernetes-30.1.0-py2.py3-none-any.whl.metadata (1.5 kB)\n",
      "Requirement already satisfied: tenacity>=8.2.3 in c:\\users\\vishal maurya\\appdata\\local\\programs\\python\\python311\\lib\\site-packages (from chromadb) (8.3.0)\n",
      "Requirement already satisfied: PyYAML>=6.0.0 in c:\\users\\vishal maurya\\appdata\\local\\programs\\python\\python311\\lib\\site-packages (from chromadb) (6.0.1)\n",
      "Collecting mmh3>=4.0.1 (from chromadb)\n",
      "  Using cached mmh3-4.1.0-cp311-cp311-win_amd64.whl.metadata (13 kB)\n",
      "Requirement already satisfied: orjson>=3.9.12 in c:\\users\\vishal maurya\\appdata\\local\\programs\\python\\python311\\lib\\site-packages (from chromadb) (3.10.6)\n",
      "Requirement already satisfied: httpx>=0.27.0 in c:\\users\\vishal maurya\\appdata\\local\\programs\\python\\python311\\lib\\site-packages (from chromadb) (0.27.0)\n",
      "Requirement already satisfied: SQLAlchemy<3,>=1.4 in c:\\users\\vishal maurya\\appdata\\local\\programs\\python\\python311\\lib\\site-packages (from langchain) (2.0.30)\n",
      "Requirement already satisfied: aiohttp<4.0.0,>=3.8.3 in c:\\users\\vishal maurya\\appdata\\local\\programs\\python\\python311\\lib\\site-packages (from langchain) (3.9.5)\n",
      "Requirement already satisfied: langchain-core<0.3.0,>=0.2.12 in c:\\users\\vishal maurya\\appdata\\local\\programs\\python\\python311\\lib\\site-packages (from langchain) (0.2.17)\n",
      "Requirement already satisfied: langchain-text-splitters<0.3.0,>=0.2.0 in c:\\users\\vishal maurya\\appdata\\local\\programs\\python\\python311\\lib\\site-packages (from langchain) (0.2.2)\n",
      "Requirement already satisfied: langsmith<0.2.0,>=0.1.17 in c:\\users\\vishal maurya\\appdata\\local\\programs\\python\\python311\\lib\\site-packages (from langchain) (0.1.85)\n",
      "Requirement already satisfied: requests<3,>=2 in c:\\users\\vishal maurya\\appdata\\local\\programs\\python\\python311\\lib\\site-packages (from langchain) (2.32.3)\n",
      "Requirement already satisfied: dataclasses-json<0.7,>=0.5.7 in c:\\users\\vishal maurya\\appdata\\local\\programs\\python\\python311\\lib\\site-packages (from langchain_community) (0.6.6)\n",
      "Requirement already satisfied: transformers<5.0.0,>=4.34.0 in c:\\users\\vishal maurya\\appdata\\roaming\\python\\python311\\site-packages (from sentence_transformers) (4.37.2)\n",
      "Requirement already satisfied: torch>=1.11.0 in c:\\users\\vishal maurya\\appdata\\local\\programs\\python\\python311\\lib\\site-packages (from sentence_transformers) (2.3.0)\n",
      "Requirement already satisfied: scikit-learn in c:\\users\\vishal maurya\\appdata\\local\\programs\\python\\python311\\lib\\site-packages (from sentence_transformers) (1.5.0)\n",
      "Requirement already satisfied: scipy in c:\\users\\vishal maurya\\appdata\\local\\programs\\python\\python311\\lib\\site-packages (from sentence_transformers) (1.11.2)\n",
      "Requirement already satisfied: huggingface-hub>=0.15.1 in c:\\users\\vishal maurya\\appdata\\local\\programs\\python\\python311\\lib\\site-packages (from sentence_transformers) (0.23.2)\n",
      "Requirement already satisfied: Pillow in c:\\users\\vishal maurya\\appdata\\local\\programs\\python\\python311\\lib\\site-packages (from sentence_transformers) (10.0.1)\n",
      "Collecting boto3<2.0.0,>=1.34.0 (from cohere)\n",
      "  Downloading boto3-1.35.8-py3-none-any.whl.metadata (6.6 kB)\n",
      "Collecting fastavro<2.0.0,>=1.9.4 (from cohere)\n",
      "  Downloading fastavro-1.9.5-cp311-cp311-win_amd64.whl.metadata (5.7 kB)\n",
      "Collecting httpx-sse==0.4.0 (from cohere)\n",
      "  Downloading httpx_sse-0.4.0-py3-none-any.whl.metadata (9.0 kB)\n",
      "Collecting parameterized<0.10.0,>=0.9.0 (from cohere)\n",
      "  Downloading parameterized-0.9.0-py2.py3-none-any.whl.metadata (18 kB)\n",
      "Requirement already satisfied: pydantic-core<3.0.0,>=2.18.2 in c:\\users\\vishal maurya\\appdata\\local\\programs\\python\\python311\\lib\\site-packages (from cohere) (2.18.2)\n",
      "Collecting types-requests<3.0.0,>=2.0.0 (from cohere)\n",
      "  Downloading types_requests-2.32.0.20240712-py3-none-any.whl.metadata (1.9 kB)\n",
      "Requirement already satisfied: aiosignal>=1.1.2 in c:\\users\\vishal maurya\\appdata\\local\\programs\\python\\python311\\lib\\site-packages (from aiohttp<4.0.0,>=3.8.3->langchain) (1.3.1)\n",
      "Requirement already satisfied: attrs>=17.3.0 in c:\\users\\vishal maurya\\appdata\\local\\programs\\python\\python311\\lib\\site-packages (from aiohttp<4.0.0,>=3.8.3->langchain) (23.1.0)\n",
      "Requirement already satisfied: frozenlist>=1.1.1 in c:\\users\\vishal maurya\\appdata\\local\\programs\\python\\python311\\lib\\site-packages (from aiohttp<4.0.0,>=3.8.3->langchain) (1.4.1)\n",
      "Requirement already satisfied: multidict<7.0,>=4.5 in c:\\users\\vishal maurya\\appdata\\local\\programs\\python\\python311\\lib\\site-packages (from aiohttp<4.0.0,>=3.8.3->langchain) (6.0.5)\n",
      "Requirement already satisfied: yarl<2.0,>=1.0 in c:\\users\\vishal maurya\\appdata\\local\\programs\\python\\python311\\lib\\site-packages (from aiohttp<4.0.0,>=3.8.3->langchain) (1.9.4)\n",
      "Collecting botocore<1.36.0,>=1.35.8 (from boto3<2.0.0,>=1.34.0->cohere)\n",
      "  Downloading botocore-1.35.8-py3-none-any.whl.metadata (5.7 kB)\n",
      "Collecting jmespath<2.0.0,>=0.7.1 (from boto3<2.0.0,>=1.34.0->cohere)\n",
      "  Downloading jmespath-1.0.1-py3-none-any.whl.metadata (7.6 kB)\n",
      "Collecting s3transfer<0.11.0,>=0.10.0 (from boto3<2.0.0,>=1.34.0->cohere)\n",
      "  Downloading s3transfer-0.10.2-py3-none-any.whl.metadata (1.7 kB)\n",
      "Requirement already satisfied: packaging>=19.1 in c:\\users\\vishal maurya\\appdata\\local\\programs\\python\\python311\\lib\\site-packages (from build>=1.0.3->chromadb) (24.1)\n",
      "Collecting pyproject_hooks (from build>=1.0.3->chromadb)\n",
      "  Using cached pyproject_hooks-1.1.0-py3-none-any.whl.metadata (1.3 kB)\n",
      "Requirement already satisfied: colorama in c:\\users\\vishal maurya\\appdata\\local\\programs\\python\\python311\\lib\\site-packages (from build>=1.0.3->chromadb) (0.4.6)\n",
      "Requirement already satisfied: marshmallow<4.0.0,>=3.18.0 in c:\\users\\vishal maurya\\appdata\\local\\programs\\python\\python311\\lib\\site-packages (from dataclasses-json<0.7,>=0.5.7->langchain_community) (3.21.2)\n",
      "Requirement already satisfied: typing-inspect<1,>=0.4.0 in c:\\users\\vishal maurya\\appdata\\local\\programs\\python\\python311\\lib\\site-packages (from dataclasses-json<0.7,>=0.5.7->langchain_community) (0.9.0)\n",
      "Collecting starlette<0.39.0,>=0.37.2 (from fastapi>=0.95.2->chromadb)\n",
      "  Downloading starlette-0.38.2-py3-none-any.whl.metadata (5.9 kB)\n",
      "Requirement already satisfied: anyio in c:\\users\\vishal maurya\\appdata\\local\\programs\\python\\python311\\lib\\site-packages (from httpx>=0.27.0->chromadb) (4.0.0)\n",
      "Requirement already satisfied: certifi in c:\\users\\vishal maurya\\appdata\\local\\programs\\python\\python311\\lib\\site-packages (from httpx>=0.27.0->chromadb) (2023.7.22)\n",
      "Requirement already satisfied: httpcore==1.* in c:\\users\\vishal maurya\\appdata\\local\\programs\\python\\python311\\lib\\site-packages (from httpx>=0.27.0->chromadb) (1.0.5)\n",
      "Requirement already satisfied: idna in c:\\users\\vishal maurya\\appdata\\local\\programs\\python\\python311\\lib\\site-packages (from httpx>=0.27.0->chromadb) (3.4)\n",
      "Requirement already satisfied: sniffio in c:\\users\\vishal maurya\\appdata\\local\\programs\\python\\python311\\lib\\site-packages (from httpx>=0.27.0->chromadb) (1.3.0)\n",
      "Requirement already satisfied: h11<0.15,>=0.13 in c:\\users\\vishal maurya\\appdata\\local\\programs\\python\\python311\\lib\\site-packages (from httpcore==1.*->httpx>=0.27.0->chromadb) (0.14.0)\n",
      "Requirement already satisfied: filelock in c:\\users\\vishal maurya\\appdata\\local\\programs\\python\\python311\\lib\\site-packages (from huggingface-hub>=0.15.1->sentence_transformers) (3.14.0)\n",
      "Requirement already satisfied: fsspec>=2023.5.0 in c:\\users\\vishal maurya\\appdata\\local\\programs\\python\\python311\\lib\\site-packages (from huggingface-hub>=0.15.1->sentence_transformers) (2024.5.0)\n",
      "Requirement already satisfied: six>=1.9.0 in c:\\users\\vishal maurya\\appdata\\local\\programs\\python\\python311\\lib\\site-packages (from kubernetes>=28.1.0->chromadb) (1.16.0)\n",
      "Requirement already satisfied: python-dateutil>=2.5.3 in c:\\users\\vishal maurya\\appdata\\local\\programs\\python\\python311\\lib\\site-packages (from kubernetes>=28.1.0->chromadb) (2.8.2)\n",
      "Requirement already satisfied: google-auth>=1.0.1 in c:\\users\\vishal maurya\\appdata\\local\\programs\\python\\python311\\lib\\site-packages (from kubernetes>=28.1.0->chromadb) (2.23.3)\n",
      "Requirement already satisfied: websocket-client!=0.40.0,!=0.41.*,!=0.42.*,>=0.32.0 in c:\\users\\vishal maurya\\appdata\\local\\programs\\python\\python311\\lib\\site-packages (from kubernetes>=28.1.0->chromadb) (1.6.3)\n",
      "Requirement already satisfied: requests-oauthlib in c:\\users\\vishal maurya\\appdata\\local\\programs\\python\\python311\\lib\\site-packages (from kubernetes>=28.1.0->chromadb) (1.3.1)\n",
      "Requirement already satisfied: oauthlib>=3.2.2 in c:\\users\\vishal maurya\\appdata\\local\\programs\\python\\python311\\lib\\site-packages (from kubernetes>=28.1.0->chromadb) (3.2.2)\n",
      "Requirement already satisfied: urllib3>=1.24.2 in c:\\users\\vishal maurya\\appdata\\local\\programs\\python\\python311\\lib\\site-packages (from kubernetes>=28.1.0->chromadb) (2.2.2)\n",
      "Requirement already satisfied: jsonpatch<2.0,>=1.33 in c:\\users\\vishal maurya\\appdata\\local\\programs\\python\\python311\\lib\\site-packages (from langchain-core<0.3.0,>=0.2.12->langchain) (1.33)\n",
      "Collecting coloredlogs (from onnxruntime>=1.14.1->chromadb)\n",
      "  Using cached coloredlogs-15.0.1-py2.py3-none-any.whl.metadata (12 kB)\n",
      "Requirement already satisfied: flatbuffers in c:\\users\\vishal maurya\\appdata\\local\\programs\\python\\python311\\lib\\site-packages (from onnxruntime>=1.14.1->chromadb) (23.5.26)\n",
      "Requirement already satisfied: protobuf in c:\\users\\vishal maurya\\appdata\\local\\programs\\python\\python311\\lib\\site-packages (from onnxruntime>=1.14.1->chromadb) (4.24.4)\n",
      "Requirement already satisfied: sympy in c:\\users\\vishal maurya\\appdata\\local\\programs\\python\\python311\\lib\\site-packages (from onnxruntime>=1.14.1->chromadb) (1.12.1)\n",
      "Requirement already satisfied: deprecated>=1.2.6 in c:\\users\\vishal maurya\\appdata\\local\\programs\\python\\python311\\lib\\site-packages (from opentelemetry-api>=1.2.0->chromadb) (1.2.14)\n",
      "Collecting importlib-metadata<=8.4.0,>=6.0 (from opentelemetry-api>=1.2.0->chromadb)\n",
      "  Downloading importlib_metadata-8.4.0-py3-none-any.whl.metadata (4.7 kB)\n",
      "Requirement already satisfied: googleapis-common-protos~=1.52 in c:\\users\\vishal maurya\\appdata\\local\\programs\\python\\python311\\lib\\site-packages (from opentelemetry-exporter-otlp-proto-grpc>=1.2.0->chromadb) (1.63.2)\n",
      "Collecting opentelemetry-exporter-otlp-proto-common==1.27.0 (from opentelemetry-exporter-otlp-proto-grpc>=1.2.0->chromadb)\n",
      "  Downloading opentelemetry_exporter_otlp_proto_common-1.27.0-py3-none-any.whl.metadata (1.8 kB)\n",
      "Collecting opentelemetry-proto==1.27.0 (from opentelemetry-exporter-otlp-proto-grpc>=1.2.0->chromadb)\n",
      "  Downloading opentelemetry_proto-1.27.0-py3-none-any.whl.metadata (2.3 kB)\n",
      "Collecting opentelemetry-instrumentation-asgi==0.48b0 (from opentelemetry-instrumentation-fastapi>=0.41b0->chromadb)\n",
      "  Downloading opentelemetry_instrumentation_asgi-0.48b0-py3-none-any.whl.metadata (2.0 kB)\n",
      "Collecting opentelemetry-instrumentation==0.48b0 (from opentelemetry-instrumentation-fastapi>=0.41b0->chromadb)\n",
      "  Downloading opentelemetry_instrumentation-0.48b0-py3-none-any.whl.metadata (6.1 kB)\n",
      "Collecting opentelemetry-semantic-conventions==0.48b0 (from opentelemetry-instrumentation-fastapi>=0.41b0->chromadb)\n",
      "  Downloading opentelemetry_semantic_conventions-0.48b0-py3-none-any.whl.metadata (2.4 kB)\n",
      "Collecting opentelemetry-util-http==0.48b0 (from opentelemetry-instrumentation-fastapi>=0.41b0->chromadb)\n",
      "  Downloading opentelemetry_util_http-0.48b0-py3-none-any.whl.metadata (2.5 kB)\n",
      "Requirement already satisfied: setuptools>=16.0 in c:\\users\\vishal maurya\\appdata\\local\\programs\\python\\python311\\lib\\site-packages (from opentelemetry-instrumentation==0.48b0->opentelemetry-instrumentation-fastapi>=0.41b0->chromadb) (65.5.0)\n",
      "Requirement already satisfied: wrapt<2.0.0,>=1.0.0 in c:\\users\\vishal maurya\\appdata\\local\\programs\\python\\python311\\lib\\site-packages (from opentelemetry-instrumentation==0.48b0->opentelemetry-instrumentation-fastapi>=0.41b0->chromadb) (1.14.1)\n",
      "Collecting asgiref~=3.0 (from opentelemetry-instrumentation-asgi==0.48b0->opentelemetry-instrumentation-fastapi>=0.41b0->chromadb)\n",
      "  Using cached asgiref-3.8.1-py3-none-any.whl.metadata (9.3 kB)\n",
      "Collecting monotonic>=1.5 (from posthog>=2.4.0->chromadb)\n",
      "  Using cached monotonic-1.6-py2.py3-none-any.whl.metadata (1.5 kB)\n",
      "Requirement already satisfied: backoff>=1.10.0 in c:\\users\\vishal maurya\\appdata\\local\\programs\\python\\python311\\lib\\site-packages (from posthog>=2.4.0->chromadb) (2.2.1)\n",
      "Requirement already satisfied: annotated-types>=0.4.0 in c:\\users\\vishal maurya\\appdata\\local\\programs\\python\\python311\\lib\\site-packages (from pydantic>=1.9->chromadb) (0.7.0)\n",
      "Requirement already satisfied: charset-normalizer<4,>=2 in c:\\users\\vishal maurya\\appdata\\local\\programs\\python\\python311\\lib\\site-packages (from requests<3,>=2->langchain) (3.2.0)\n",
      "Requirement already satisfied: greenlet!=0.4.17 in c:\\users\\vishal maurya\\appdata\\local\\programs\\python\\python311\\lib\\site-packages (from SQLAlchemy<3,>=1.4->langchain) (3.0.3)\n",
      "Requirement already satisfied: networkx in c:\\users\\vishal maurya\\appdata\\local\\programs\\python\\python311\\lib\\site-packages (from torch>=1.11.0->sentence_transformers) (3.3)\n",
      "Requirement already satisfied: jinja2 in c:\\users\\vishal maurya\\appdata\\local\\programs\\python\\python311\\lib\\site-packages (from torch>=1.11.0->sentence_transformers) (3.1.2)\n",
      "Requirement already satisfied: mkl<=2021.4.0,>=2021.1.1 in c:\\users\\vishal maurya\\appdata\\local\\programs\\python\\python311\\lib\\site-packages (from torch>=1.11.0->sentence_transformers) (2021.4.0)\n",
      "Requirement already satisfied: regex!=2019.12.17 in c:\\users\\vishal maurya\\appdata\\local\\programs\\python\\python311\\lib\\site-packages (from transformers<5.0.0,>=4.34.0->sentence_transformers) (2024.5.15)\n",
      "Requirement already satisfied: safetensors>=0.4.1 in c:\\users\\vishal maurya\\appdata\\local\\programs\\python\\python311\\lib\\site-packages (from transformers<5.0.0,>=4.34.0->sentence_transformers) (0.4.3)\n",
      "Requirement already satisfied: click>=8.0.0 in c:\\users\\vishal maurya\\appdata\\local\\programs\\python\\python311\\lib\\site-packages (from typer>=0.9.0->chromadb) (8.1.7)\n",
      "Collecting shellingham>=1.3.0 (from typer>=0.9.0->chromadb)\n",
      "  Using cached shellingham-1.5.4-py2.py3-none-any.whl.metadata (3.5 kB)\n",
      "Requirement already satisfied: rich>=10.11.0 in c:\\users\\vishal maurya\\appdata\\local\\programs\\python\\python311\\lib\\site-packages (from typer>=0.9.0->chromadb) (13.7.1)\n",
      "Collecting httptools>=0.5.0 (from uvicorn[standard]>=0.18.3->chromadb)\n",
      "  Using cached httptools-0.6.1-cp311-cp311-win_amd64.whl.metadata (3.7 kB)\n",
      "Collecting python-dotenv>=0.13 (from uvicorn[standard]>=0.18.3->chromadb)\n",
      "  Using cached python_dotenv-1.0.1-py3-none-any.whl.metadata (23 kB)\n",
      "Collecting watchfiles>=0.13 (from uvicorn[standard]>=0.18.3->chromadb)\n",
      "  Downloading watchfiles-0.24.0-cp311-none-win_amd64.whl.metadata (5.0 kB)\n",
      "Collecting websockets>=10.4 (from uvicorn[standard]>=0.18.3->chromadb)\n",
      "  Downloading websockets-13.0.1-cp311-cp311-win_amd64.whl.metadata (6.9 kB)\n",
      "Requirement already satisfied: joblib>=1.2.0 in c:\\users\\vishal maurya\\appdata\\local\\programs\\python\\python311\\lib\\site-packages (from scikit-learn->sentence_transformers) (1.3.2)\n",
      "Requirement already satisfied: threadpoolctl>=3.1.0 in c:\\users\\vishal maurya\\appdata\\local\\programs\\python\\python311\\lib\\site-packages (from scikit-learn->sentence_transformers) (3.5.0)\n",
      "Requirement already satisfied: cachetools<6.0,>=2.0.0 in c:\\users\\vishal maurya\\appdata\\local\\programs\\python\\python311\\lib\\site-packages (from google-auth>=1.0.1->kubernetes>=28.1.0->chromadb) (5.3.1)\n",
      "Requirement already satisfied: pyasn1-modules>=0.2.1 in c:\\users\\vishal maurya\\appdata\\local\\programs\\python\\python311\\lib\\site-packages (from google-auth>=1.0.1->kubernetes>=28.1.0->chromadb) (0.3.0)\n",
      "Requirement already satisfied: rsa<5,>=3.1.4 in c:\\users\\vishal maurya\\appdata\\local\\programs\\python\\python311\\lib\\site-packages (from google-auth>=1.0.1->kubernetes>=28.1.0->chromadb) (4.9)\n",
      "Collecting zipp>=0.5 (from importlib-metadata<=8.4.0,>=6.0->opentelemetry-api>=1.2.0->chromadb)\n",
      "  Downloading zipp-3.20.1-py3-none-any.whl.metadata (3.7 kB)\n",
      "Requirement already satisfied: jsonpointer>=1.9 in c:\\users\\vishal maurya\\appdata\\local\\programs\\python\\python311\\lib\\site-packages (from jsonpatch<2.0,>=1.33->langchain-core<0.3.0,>=0.2.12->langchain) (2.4)\n",
      "Requirement already satisfied: intel-openmp==2021.* in c:\\users\\vishal maurya\\appdata\\local\\programs\\python\\python311\\lib\\site-packages (from mkl<=2021.4.0,>=2021.1.1->torch>=1.11.0->sentence_transformers) (2021.4.0)\n",
      "Requirement already satisfied: tbb==2021.* in c:\\users\\vishal maurya\\appdata\\local\\programs\\python\\python311\\lib\\site-packages (from mkl<=2021.4.0,>=2021.1.1->torch>=1.11.0->sentence_transformers) (2021.12.0)\n",
      "Requirement already satisfied: markdown-it-py>=2.2.0 in c:\\users\\vishal maurya\\appdata\\local\\programs\\python\\python311\\lib\\site-packages (from rich>=10.11.0->typer>=0.9.0->chromadb) (3.0.0)\n",
      "Requirement already satisfied: pygments<3.0.0,>=2.13.0 in c:\\users\\vishal maurya\\appdata\\local\\programs\\python\\python311\\lib\\site-packages (from rich>=10.11.0->typer>=0.9.0->chromadb) (2.16.1)\n",
      "Requirement already satisfied: mypy-extensions>=0.3.0 in c:\\users\\vishal maurya\\appdata\\local\\programs\\python\\python311\\lib\\site-packages (from typing-inspect<1,>=0.4.0->dataclasses-json<0.7,>=0.5.7->langchain_community) (1.0.0)\n",
      "Collecting humanfriendly>=9.1 (from coloredlogs->onnxruntime>=1.14.1->chromadb)\n",
      "  Using cached humanfriendly-10.0-py2.py3-none-any.whl.metadata (9.2 kB)\n",
      "Requirement already satisfied: MarkupSafe>=2.0 in c:\\users\\vishal maurya\\appdata\\local\\programs\\python\\python311\\lib\\site-packages (from jinja2->torch>=1.11.0->sentence_transformers) (2.1.3)\n",
      "Requirement already satisfied: mpmath<1.4.0,>=1.1.0 in c:\\users\\vishal maurya\\appdata\\local\\programs\\python\\python311\\lib\\site-packages (from sympy->onnxruntime>=1.14.1->chromadb) (1.3.0)\n",
      "Collecting pyreadline3 (from humanfriendly>=9.1->coloredlogs->onnxruntime>=1.14.1->chromadb)\n",
      "  Using cached pyreadline3-3.4.1-py3-none-any.whl.metadata (2.0 kB)\n",
      "Requirement already satisfied: mdurl~=0.1 in c:\\users\\vishal maurya\\appdata\\local\\programs\\python\\python311\\lib\\site-packages (from markdown-it-py>=2.2.0->rich>=10.11.0->typer>=0.9.0->chromadb) (0.1.2)\n",
      "Requirement already satisfied: pyasn1<0.6.0,>=0.4.6 in c:\\users\\vishal maurya\\appdata\\local\\programs\\python\\python311\\lib\\site-packages (from pyasn1-modules>=0.2.1->google-auth>=1.0.1->kubernetes>=28.1.0->chromadb) (0.5.0)\n",
      "Downloading chromadb-0.5.5-py3-none-any.whl (584 kB)\n",
      "   ---------------------------------------- 0.0/584.3 kB ? eta -:--:--\n",
      "   --------------------------------------- 584.3/584.3 kB 10.4 MB/s eta 0:00:00\n",
      "Downloading chroma_hnswlib-0.7.6-cp311-cp311-win_amd64.whl (151 kB)\n",
      "Downloading cohere-5.8.1-py3-none-any.whl (207 kB)\n",
      "Downloading httpx_sse-0.4.0-py3-none-any.whl (7.8 kB)\n",
      "Downloading bcrypt-4.2.0-cp39-abi3-win_amd64.whl (151 kB)\n",
      "Downloading boto3-1.35.8-py3-none-any.whl (139 kB)\n",
      "Using cached build-1.2.1-py3-none-any.whl (21 kB)\n",
      "Downloading fastapi-0.112.2-py3-none-any.whl (93 kB)\n",
      "Downloading fastavro-1.9.5-cp311-cp311-win_amd64.whl (500 kB)\n",
      "Downloading kubernetes-30.1.0-py2.py3-none-any.whl (1.7 MB)\n",
      "   ---------------------------------------- 0.0/1.7 MB ? eta -:--:--\n",
      "   ---------------------------------------- 1.7/1.7 MB 30.7 MB/s eta 0:00:00\n",
      "Using cached mmh3-4.1.0-cp311-cp311-win_amd64.whl (31 kB)\n",
      "Downloading onnxruntime-1.19.0-cp311-cp311-win_amd64.whl (11.1 MB)\n",
      "   ---------------------------------------- 0.0/11.1 MB ? eta -:--:--\n",
      "   -------------------- ------------------- 5.8/11.1 MB 29.4 MB/s eta 0:00:01\n",
      "   ---------------------------------------  11.0/11.1 MB 28.7 MB/s eta 0:00:01\n",
      "   ---------------------------------------- 11.1/11.1 MB 26.7 MB/s eta 0:00:00\n",
      "Downloading opentelemetry_api-1.27.0-py3-none-any.whl (63 kB)\n",
      "Downloading opentelemetry_exporter_otlp_proto_grpc-1.27.0-py3-none-any.whl (18 kB)\n",
      "Downloading opentelemetry_exporter_otlp_proto_common-1.27.0-py3-none-any.whl (17 kB)\n",
      "Downloading opentelemetry_proto-1.27.0-py3-none-any.whl (52 kB)\n",
      "Downloading opentelemetry_instrumentation_fastapi-0.48b0-py3-none-any.whl (11 kB)\n",
      "Downloading opentelemetry_instrumentation-0.48b0-py3-none-any.whl (29 kB)\n",
      "Downloading opentelemetry_instrumentation_asgi-0.48b0-py3-none-any.whl (15 kB)\n",
      "Downloading opentelemetry_semantic_conventions-0.48b0-py3-none-any.whl (149 kB)\n",
      "Downloading opentelemetry_util_http-0.48b0-py3-none-any.whl (6.9 kB)\n",
      "Downloading opentelemetry_sdk-1.27.0-py3-none-any.whl (110 kB)\n",
      "Downloading parameterized-0.9.0-py2.py3-none-any.whl (20 kB)\n",
      "Downloading posthog-3.6.0-py2.py3-none-any.whl (50 kB)\n",
      "Downloading typer-0.12.5-py3-none-any.whl (47 kB)\n",
      "Downloading types_requests-2.32.0.20240712-py3-none-any.whl (15 kB)\n",
      "Downloading uvicorn-0.30.6-py3-none-any.whl (62 kB)\n",
      "Downloading importlib_resources-6.4.4-py3-none-any.whl (35 kB)\n",
      "Downloading botocore-1.35.8-py3-none-any.whl (12.5 MB)\n",
      "   ---------------------------------------- 0.0/12.5 MB ? eta -:--:--\n",
      "   -------------------- ------------------- 6.6/12.5 MB 33.5 MB/s eta 0:00:01\n",
      "   ---------------------------------------  12.3/12.5 MB 33.5 MB/s eta 0:00:01\n",
      "   ---------------------------------------- 12.5/12.5 MB 29.0 MB/s eta 0:00:00\n",
      "Using cached httptools-0.6.1-cp311-cp311-win_amd64.whl (55 kB)\n",
      "Downloading importlib_metadata-8.4.0-py3-none-any.whl (26 kB)\n",
      "Downloading jmespath-1.0.1-py3-none-any.whl (20 kB)\n",
      "Using cached monotonic-1.6-py2.py3-none-any.whl (8.2 kB)\n",
      "Using cached python_dotenv-1.0.1-py3-none-any.whl (19 kB)\n",
      "Downloading s3transfer-0.10.2-py3-none-any.whl (82 kB)\n",
      "Using cached shellingham-1.5.4-py2.py3-none-any.whl (9.8 kB)\n",
      "Downloading starlette-0.38.2-py3-none-any.whl (72 kB)\n",
      "Downloading watchfiles-0.24.0-cp311-none-win_amd64.whl (277 kB)\n",
      "Downloading websockets-13.0.1-cp311-cp311-win_amd64.whl (152 kB)\n",
      "Using cached coloredlogs-15.0.1-py2.py3-none-any.whl (46 kB)\n",
      "Using cached pyproject_hooks-1.1.0-py3-none-any.whl (9.2 kB)\n",
      "Using cached asgiref-3.8.1-py3-none-any.whl (23 kB)\n",
      "Using cached humanfriendly-10.0-py2.py3-none-any.whl (86 kB)\n",
      "Downloading zipp-3.20.1-py3-none-any.whl (9.0 kB)\n",
      "Using cached pyreadline3-3.4.1-py3-none-any.whl (95 kB)\n",
      "Installing collected packages: pyreadline3, pypika, monotonic, mmh3, zipp, websockets, types-requests, shellingham, python-dotenv, pyproject_hooks, parameterized, opentelemetry-util-http, opentelemetry-proto, jmespath, importlib-resources, humanfriendly, httpx-sse, httptools, fastavro, chroma-hnswlib, bcrypt, asgiref, watchfiles, uvicorn, starlette, posthog, opentelemetry-exporter-otlp-proto-common, importlib-metadata, coloredlogs, build, botocore, typer, s3transfer, opentelemetry-api, onnxruntime, kubernetes, fastapi, opentelemetry-semantic-conventions, opentelemetry-instrumentation, boto3, opentelemetry-sdk, opentelemetry-instrumentation-asgi, cohere, opentelemetry-instrumentation-fastapi, opentelemetry-exporter-otlp-proto-grpc, chromadb\n",
      "Successfully installed asgiref-3.8.1 bcrypt-4.2.0 boto3-1.35.8 botocore-1.35.8 build-1.2.1 chroma-hnswlib-0.7.6 chromadb-0.5.5 cohere-5.8.1 coloredlogs-15.0.1 fastapi-0.112.2 fastavro-1.9.5 httptools-0.6.1 httpx-sse-0.4.0 humanfriendly-10.0 importlib-metadata-8.4.0 importlib-resources-6.4.4 jmespath-1.0.1 kubernetes-30.1.0 mmh3-4.1.0 monotonic-1.6 onnxruntime-1.19.0 opentelemetry-api-1.27.0 opentelemetry-exporter-otlp-proto-common-1.27.0 opentelemetry-exporter-otlp-proto-grpc-1.27.0 opentelemetry-instrumentation-0.48b0 opentelemetry-instrumentation-asgi-0.48b0 opentelemetry-instrumentation-fastapi-0.48b0 opentelemetry-proto-1.27.0 opentelemetry-sdk-1.27.0 opentelemetry-semantic-conventions-0.48b0 opentelemetry-util-http-0.48b0 parameterized-0.9.0 posthog-3.6.0 pypika-0.48.9 pyproject_hooks-1.1.0 pyreadline3-3.4.1 python-dotenv-1.0.1 s3transfer-0.10.2 shellingham-1.5.4 starlette-0.38.2 typer-0.12.5 types-requests-2.32.0.20240712 uvicorn-0.30.6 watchfiles-0.24.0 websockets-13.0.1 zipp-3.20.1\n"
     ]
    }
   ],
   "source": [
    "!pip install -q chromadb langchain langchain_community sentence_transformers cohere"
   ]
  },
  {
   "cell_type": "markdown",
   "metadata": {},
   "source": [
    "### Required Modules"
   ]
  },
  {
   "cell_type": "code",
   "execution_count": 1,
   "metadata": {},
   "outputs": [
    {
     "name": "stderr",
     "output_type": "stream",
     "text": [
      "C:\\Users\\VISHAL MAURYA\\AppData\\Local\\Temp\\ipykernel_12004\\4256873726.py:1: TqdmExperimentalWarning: Using `tqdm.autonotebook.tqdm` in notebook mode. Use `tqdm.tqdm` instead to force console mode (e.g. in jupyter console)\n",
      "  from tqdm.autonotebook import tqdm, trange\n"
     ]
    }
   ],
   "source": [
    "from tqdm.autonotebook import tqdm, trange"
   ]
  },
  {
   "cell_type": "code",
   "execution_count": 3,
   "metadata": {
    "id": "jops1cdtL7YT"
   },
   "outputs": [],
   "source": [
    "import os\n",
    "import chromadb\n",
    "from langchain.vectorstores import Chroma\n",
    "from langchain.embeddings import HuggingFaceBgeEmbeddings\n",
    "from langchain.document_transformers import (\n",
    "    EmbeddingsRedundantFilter,\n",
    "    EmbeddingsClusteringFilter,\n",
    ")\n",
    "from langchain.text_splitter import RecursiveCharacterTextSplitter\n",
    "from langchain.document_loaders import PyMuPDFLoader\n",
    "from langchain.docstore.document import Document\n",
    "from langchain_community.llms import Ollama\n",
    "import time\n",
    "from langchain.prompts import PromptTemplate\n",
    "from langchain.storage import InMemoryStore\n",
    "from langchain.retrievers import ParentDocumentRetriever"
   ]
  },
  {
   "cell_type": "markdown",
   "metadata": {
    "id": "5DnjTWyUL7YW"
   },
   "source": [
    "### Data Pre-processing"
   ]
  },
  {
   "cell_type": "code",
   "execution_count": 4,
   "metadata": {},
   "outputs": [],
   "source": [
    "pdf_paths1 = [\"data/GB 25991-2010 Automotive Headlamps with LED Light Sources andor LED Modules (1) (2).pdf\"]\n",
    "query1 = \"The color of the light emitted by LED headlamps shall be?\"\n",
    "query2 = \"The LED module of headlamp shall be operated for how many hours before cooled down to ambient temperature before starting the tests?\"\n",
    "query3 = \"Tell me about Test of stability of photometric performance.\"\n",
    "query4 = \"What are environmental conditions for test for change in vertical position of the cut-off line under the influence ofheat?\"\n",
    "query5 = \"For headlamp with the outside lens in glass, a mixture to be applied to the headlamp lens shall consist of which elements\"\n",
    "pdf_paths2 = [\"Chinese Documents/GB 4785-2019 Lighting installation -EN.pdf\"]"
   ]
  },
  {
   "cell_type": "code",
   "execution_count": 44,
   "metadata": {},
   "outputs": [],
   "source": [
    "def get_documents(pdf_paths):\n",
    "    documents = []\n",
    "    for path in pdf_paths:\n",
    "        loader = PyMuPDFLoader(path)\n",
    "        list_of_documents = loader.load()\n",
    "        combined_text = \"\\n\".join(document.page_content for document in list_of_documents)\n",
    "        document = Document(page_content=combined_text, metadata={\"source\": path})\n",
    "        documents.append(document)\n",
    "    return documents"
   ]
  },
  {
   "cell_type": "code",
   "execution_count": 45,
   "metadata": {},
   "outputs": [],
   "source": [
    "documents1 = get_documents(pdf_paths1)\n",
    "documents2 = get_documents(pdf_paths2)"
   ]
  },
  {
   "cell_type": "markdown",
   "metadata": {
    "id": "A5CZ3DfiL7YU"
   },
   "source": [
    "### Embedding Model"
   ]
  },
  {
   "cell_type": "code",
   "execution_count": 7,
   "metadata": {
    "colab": {
     "base_uri": "https://localhost:8080/",
     "height": 510,
     "referenced_widgets": [
      "7752a9776f084d9985ee839f43874ac3",
      "de488f0641c74917aea2e8dbfce0e4aa",
      "00ada49c8bdf49b4a10d229d704b0c1a",
      "d3c1bd1702ef44e88ffcf11de3aefd15",
      "fe9aa770584542f987bd36eecb1def2c",
      "dcf1af9f0fa249c9a3775b6bf7f930a4",
      "227bef90fd254f128b0811521279a593",
      "d7728a29e1e14b46ae8c59b8a68b70da",
      "7d5448a16e3645a287d62171a8dab989",
      "5009c62ed6464f1ba076fe99ec46295b",
      "014cc5d179f9403d8ac36d65bc2fb140",
      "2ad0061bbeae40c893f96f85560ebb64",
      "1a68ab062b8f4f139fb76e24f08177e9",
      "f6b4cb3308ae4ebabb6ddb71230661a6",
      "254d9cae597949698ae287b8337490af",
      "bd189b9febfa4916b16d1e9c94cc67a1",
      "43e18eb4342a4405a59f754fa85d1700",
      "88db495107ba466d9b7e1cf7e83b236f",
      "c6927b468d76409fb51ef492252dbd9c",
      "6c71efcf68284737a34f26fb00df8283",
      "15afcc4331b146d4a932342d59a285ae",
      "d0c803b79bc34adb946772dd6b47b420",
      "1df4e1ad96274adf993a8b190690f519",
      "a6927040841d45b0b4702637ee70a20f",
      "a605da6fad7445e19c777fe5c218e57e",
      "8d22f6fa3ccf4ae5b2a5fb3df0bf9f21",
      "402f06c28e9945c6bcae965c1846ab05",
      "ca922dbc53ab4c0ea47f682d2b7fdc2d",
      "279b76fb09b341489ee444398ea58a61",
      "1dc3c26d6bd94a41a6a9bfa71a894208",
      "0b529fcf05284b2681fb37356e30ca6d",
      "43868c9079644f32b53047053a10f0d0",
      "ab30df7a463c43959492410bada19c05",
      "20b4b453c75546a08b1518bec2b6a577",
      "6ccbfb3b9dae4afeaa57916aba388870",
      "307b6aaaf8ae44b2a3f572c610e21e5a",
      "078722cc22cf44d586f871d279ff9588",
      "da13547cd5854c4383beb943836dd601",
      "af5febe34bf84ddbae11d2ea996d1634",
      "e73dfda02f0049a7a8f91563e1b983af",
      "a79c6fd66e2e4d7da2c5e1f565fd2440",
      "6e37ab7f2b0a4af6bbec0ad1ff01b41c",
      "f3c0e1eae7994a86bbb775cfda814e7b",
      "74e3e2549a4c44139758556082a953f1",
      "85f24e4aba3e4820bb1cb1051a834ad8",
      "758ced432af4498ca1b13e333bc3a5dc",
      "915daf3c844747bba899b41d75fb73eb",
      "9a0fe2adb4194e67ba5bc56bb654be7f",
      "5aa7999471a64086a46cdd02cc1b412d",
      "6ea54d0c06434ab5901acc225a6ecaa0",
      "542e832887c8483984e88e29e0fe7f9c",
      "9e9f92092f554d62ac2065da57271dd2",
      "e83ad391c36940a282f28a863a22095d",
      "fbd1e7d7a7704cf6ad4a19d1614be49e",
      "9fcd8d526c7043e1a401ea5451ec9833",
      "0fe71eb9e33b4cd6b5c0d377fd579b1d",
      "ec3238d053b946198098ffafc382a3ef",
      "308a8805ca9e4f10ac2893561288e832",
      "ffad32554828400babdfb2127e3709fb",
      "6c498d78247245f7a1d7cf7595f8c727",
      "7b50dbce355544bc8d63d8ecb2363a23",
      "c74917033b26445eba3bf0856c059d5a",
      "a9723c7500e64df58b690ea1d32f0bc6",
      "1c432e6eb48d4ddf99c359dee5983560",
      "fffb656ead79424ca518dd682b0dbbd2",
      "fa4c5adff2db424098b0f55c1229a042",
      "1a5ae0ef33a44397a221316e751b1a0a",
      "1fe03de424ec41e4a3da120254a9b53e",
      "56379fddb71846cdbb6b4b174e7375b9",
      "df0224f221c849278a2522b6d17f762c",
      "40d3cd2b8dd24d4a896fe504d4ed9aed",
      "788d083b277e4a4e91357cc6fac0d9fc",
      "5c7ae5e6585845bab2439b45b8b87d37",
      "153950f99f394d76b367942b9114e1cf",
      "6531f377d88a4a0ab10e6277dbd043e1",
      "9a7aaa8bd38f4d51acaab1805286fbfa",
      "4461b686785d49bf92ab1d4afdf5fd7b",
      "152e642ea173418c90e70872b6081bbf",
      "2eac3df7fada46f1a3d5ec1916b2b7f5",
      "94f03508843f4c1ca08cd1477b96c2a1",
      "00e0b269f8ba449daafd58c38937e29a",
      "861aec7a70bb4c508236add9b49d133e",
      "50192445f89d46019ef0bc61a7079b8a",
      "e7e95f79446c4f5b996c3073d1efdbda",
      "eb6cfd3facfd44209d69980d23d7a6c8",
      "2ab7767324ce42c6b1ecc1f1e83a3528",
      "f32b9c84d1d64035a7eee3c23d1bc319",
      "d4cb78badf0e4b78b6402b6dbc4701c8",
      "3e74c193557046c89a9c7b1f59156054",
      "3d9d10c1046443a5b98081d979f1c849",
      "b4d345deaaa6428ab37019f0410e800e",
      "9dc6156cfc824e7c90761856b99548dd",
      "b6421a35ea3b41e28d2ca6fbee66ad42",
      "78c685a6b8114573ba492634f5467e73",
      "ff7226f4476a4938aafabae29ce4f72a",
      "9235cf74bfb3422aace1b3c265991730",
      "c898874e6e6d4a19b78b8e848057ea07",
      "44600030d879448f857b379c944b2a14",
      "7b3cd41bbb2b4e19997a0cf18c7f4a10",
      "5574dc268509418fb3207308beaace50",
      "c7aec15d5c914821b9f4308eeb313cb6",
      "defccabb0c36441f8b826af003ae3676",
      "8f5450a0e69743eeb1efd5fe14277974",
      "89140aadeacf4cba9b81e7ebf2bba116",
      "cfa7171fe22a4029a92543e166a0f3c7",
      "66f1c54dd16541c680fce5df737ae77f",
      "d1c9ae621a6c4925bee747be22accf05",
      "77408404052745e78dd0b48471fd1ade",
      "343c06d34b7140de9d2b128b7c76259f",
      "a3858bdc02f94ac8a82b0c20e5d04222",
      "94b021e7ca234cb3a909b3eb1876daf1",
      "d9cf4006710845dc8d423670ccba8aed",
      "166f47d3ba8349be829909cdd2d355ac",
      "1367b54de3624c4498b31d853b73f6d0",
      "9bfcd51f6e7f488b8f7730c10c761b8a",
      "4f371444b4d940d49c2f34ef2f360041",
      "2006254a1772435f97babc3087d79866",
      "aa175ec534be4aa7a75d6d19c1dd4d29",
      "e825598360cb40308c737dd64f37f514",
      "dcbe5a60847041ac9683e35d0cd86cac",
      "4e07079174bc4cab9829f68eb21eebe4"
     ]
    },
    "id": "Nq-kyjxtL7YV",
    "outputId": "ebfddf15-0995-4e66-c181-0e6f77f0b38b"
   },
   "outputs": [
    {
     "name": "stderr",
     "output_type": "stream",
     "text": [
      "C:\\Users\\VISHAL MAURYA\\Desktop\\Document Comparision\\pdr_venv\\Lib\\site-packages\\huggingface_hub\\file_download.py:1132: FutureWarning: `resume_download` is deprecated and will be removed in version 1.0.0. Downloads always resume when possible. If you want to force a new download, use `force_download=True`.\n",
      "  warnings.warn(\n"
     ]
    },
    {
     "name": "stdout",
     "output_type": "stream",
     "text": [
      "Embedding Model Loaded in 31.029078483581543 seconds\n"
     ]
    }
   ],
   "source": [
    "s = time.time()\n",
    "model_name = \"BAAI/bge-large-en\"\n",
    "model_kwargs = {'device': 'cpu'}\n",
    "encode_kwargs = {'normalize_embeddings': False}\n",
    "embedding_model = HuggingFaceBgeEmbeddings(model_name=model_name,\n",
    "                                            model_kwargs=model_kwargs,\n",
    "                                            encode_kwargs=encode_kwargs)\n",
    "print(\"Embedding Model Loaded in\", time.time() - s, \"seconds\")"
   ]
  },
  {
   "cell_type": "markdown",
   "metadata": {
    "id": "1p7-H3CBL7Yd"
   },
   "source": [
    "### Parent document retriever"
   ]
  },
  {
   "cell_type": "code",
   "execution_count": 46,
   "metadata": {
    "id": "1p7-H3CBL7Yd"
   },
   "outputs": [],
   "source": [
    "def get_retriever(pdf_paths):\n",
    "    documents = get_documents(pdf_paths)\n",
    "    child_splitter = RecursiveCharacterTextSplitter(chunk_size=200, chunk_overlap=100)\n",
    "    parent_splitter = RecursiveCharacterTextSplitter(chunk_size=600, chunk_overlap=100)\n",
    "    \n",
    "    vectorstore = Chroma(collection_name=\"full_documents\", embedding_function=embedding_model)\n",
    "    store = InMemoryStore()\n",
    "    retriever = ParentDocumentRetriever(vectorstore=vectorstore,\n",
    "                                        docstore=store,\n",
    "                                        child_splitter=child_splitter,\n",
    "                                        parent_splitter=parent_splitter)\n",
    "    \n",
    "    s = time.time()\n",
    "    retriever.add_documents(documents, ids=None)\n",
    "    print(\"Retriever created in\", (time.time()-s)/60, \"minutes\")\n",
    "\n",
    "    return retriever"
   ]
  },
  {
   "cell_type": "code",
   "execution_count": 47,
   "metadata": {},
   "outputs": [],
   "source": [
    "def get_vectorstore(pdf_paths):\n",
    "    documents = get_documents(pdf_paths)\n",
    "    vectorstore = Chroma(collection_name=\"full_documents\", \n",
    "                         embedding_function=embedding_model)\n",
    "    return vectorstore"
   ]
  },
  {
   "cell_type": "code",
   "execution_count": 10,
   "metadata": {},
   "outputs": [
    {
     "name": "stdout",
     "output_type": "stream",
     "text": [
      "Retriever created in 6.049975363413493 minutes\n"
     ]
    }
   ],
   "source": [
    "retriever1 = get_retriever(pdf_paths1)"
   ]
  },
  {
   "cell_type": "code",
   "execution_count": 11,
   "metadata": {},
   "outputs": [
    {
     "name": "stdout",
     "output_type": "stream",
     "text": [
      "Retriever created in 27.045053990681968 minutes\n"
     ]
    }
   ],
   "source": [
    "retriever2 = get_retriever(pdf_paths2)"
   ]
  },
  {
   "cell_type": "code",
   "execution_count": 48,
   "metadata": {},
   "outputs": [],
   "source": [
    "vectorstore1 = get_vectorstore(pdf_paths1)\n",
    "vectorstore2 = get_vectorstore(pdf_paths2)"
   ]
  },
  {
   "cell_type": "code",
   "execution_count": 49,
   "metadata": {
    "colab": {
     "referenced_widgets": [
      "3fb2b3e0cf5e405ca1c36dfd5c51afc2"
     ]
    },
    "id": "LXVA5Mn8L7Ye",
    "outputId": "5b5a71e1-8cf7-4461-9a9c-53cd3c07c45c"
   },
   "outputs": [],
   "source": [
    "sub_docs = vectorstore1.similarity_search(query1, k = 6)"
   ]
  },
  {
   "cell_type": "code",
   "execution_count": 50,
   "metadata": {
    "colab": {
     "referenced_widgets": [
      "0fb8578b76e941efa07fea6333619e2a"
     ]
    },
    "id": "hBQk75vpL7Yf",
    "outputId": "a7ba4529-7513-4f64-989d-d3a60193cfd0"
   },
   "outputs": [],
   "source": [
    "retrieved_docs = retriever1.get_relevant_documents(query1)\n",
    "# retrieved_docs"
   ]
  },
  {
   "cell_type": "code",
   "execution_count": 51,
   "metadata": {},
   "outputs": [],
   "source": [
    "def get_context(query, retriever):\n",
    "    context = \"\"\n",
    "    retrieved_docs = retriever.get_relevant_documents(query)\n",
    "    for i in range(len(retrieved_docs)):\n",
    "      # print(\"----------------------------------------- parent\",i+1)\n",
    "        # print(retrieved_docs[i].page_content)\n",
    "        context += retrieved_docs[i].page_content\n",
    "    return context"
   ]
  },
  {
   "cell_type": "markdown",
   "metadata": {},
   "source": [
    "# Text Generation"
   ]
  },
  {
   "cell_type": "markdown",
   "metadata": {},
   "source": [
    "### LLM and prompt"
   ]
  },
  {
   "cell_type": "code",
   "execution_count": 24,
   "metadata": {},
   "outputs": [],
   "source": [
    "model = Ollama(model=\"llama3\")"
   ]
  },
  {
   "cell_type": "code",
   "execution_count": 52,
   "metadata": {},
   "outputs": [],
   "source": [
    "def create_prompt(query, context):\n",
    "    template = \"\"\"\n",
    "    Answer the question based on the context below. \n",
    "    Don't start the response from \"Based on the context provided, the answer to the question is:\" or something like that, just given the answer.\n",
    "    If you can't answer the question, reply \"I don't know\". \n",
    "    This is very important for my life, be accurate and precised.\n",
    "    \n",
    "    CONTEXT: {context}\n",
    "    \n",
    "    QUESTION: {question}\n",
    "    \"\"\"\n",
    "    prompttemplate = PromptTemplate.from_template(template)\n",
    "    prompt = prompttemplate.format(context = context, question = query)\n",
    "    return prompt"
   ]
  },
  {
   "cell_type": "markdown",
   "metadata": {},
   "source": [
    "### For pdf 1"
   ]
  },
  {
   "cell_type": "code",
   "execution_count": 26,
   "metadata": {},
   "outputs": [],
   "source": [
    "queries1 = [query1, query2, query3, query4, query5] # For Automotive Headlamps"
   ]
  },
  {
   "cell_type": "code",
   "execution_count": 32,
   "metadata": {},
   "outputs": [
    {
     "name": "stdout",
     "output_type": "stream",
     "text": [
      "QUERY: The color of the light emitted by LED headlamps shall be?\n",
      "RESPONSE: White\n",
      "GENERATION TIME: 5.141609108448028 minutes\n",
      "\n",
      "QUERY: The LED module of headlamp shall be operated for how many hours before cooled down to ambient temperature before starting the tests?\n",
      "RESPONSE: According to the context provided, the LED module of the headlamp shall be operated for 15 hours before being cooled down to ambient temperature before starting the tests.\n",
      "GENERATION TIME: 4.4921447277069095 minutes\n",
      "\n",
      "QUERY: Tell me about Test of stability of photometric performance.\n",
      "RESPONSE: The Test of Stability of Photometric Performance is a test conducted in accordance with GB/T 7922 \"Methods of Measuring the Color of Light Source\" to evaluate the stability of the photometric performance of LED headlamps. The test involves measuring the direct beam of light from the headlamp after correct aiming and stabilization, and conducting colorimetric checks using a spectrophotometer to determine the color temperature and colorfulness of the light emitted by the headlamp. Additionally, the test method in Annex A of GB4599-2007 is used to evaluate the stability of the photometric performance of LED headlamps.\n",
      "GENERATION TIME: 5.121139434973399 minutes\n",
      "\n",
      "QUERY: What are environmental conditions for test for change in vertical position of the cut-off line under the influence ofheat?\n",
      "RESPONSE: The environmental conditions for the test for change in vertical position of the cut-off line under the influence of heat are:\n",
      "\n",
      "* Dry and still atmosphere\n",
      "* Ambient temperature of 23°C ± 5°C\n",
      "GENERATION TIME: 4.765870110193888 minutes\n",
      "\n",
      "QUERY: For headlamp with the outside lens in glass, a mixture to be applied to the headlamp lens shall consist of which elements\n",
      "RESPONSE: The answer is: silica sand, vegetable carbon dust, NaCMC, and distilled water.\n",
      "GENERATION TIME: 3.4906456152598064 minutes\n",
      "\n"
     ]
    }
   ],
   "source": [
    "for query in queries1:\n",
    "    st = time.time()\n",
    "    print(\"QUERY:\", query)\n",
    "    context = get_context(query, retriever1)\n",
    "    prompt = create_prompt(query, context)\n",
    "    print(\"RESPONSE:\", model.invoke(prompt))\n",
    "    print(\"GENERATION TIME:\", (time.time() - st)/60, \"minutes\")\n",
    "    print(\"\")"
   ]
  },
  {
   "cell_type": "markdown",
   "metadata": {},
   "source": [
    "### For pdf 2"
   ]
  },
  {
   "cell_type": "code",
   "execution_count": 33,
   "metadata": {},
   "outputs": [],
   "source": [
    "queries2 = [\"Whats the difference between Grouped and Combined lamps?\", \"Can  dipped-beam headlamp and main-beam headlamp for front lighting system?\", \"what is color of End Outline marker lamp?\", \"Can yellow lamp used as front fog lamp?\", \"Can red color light placed in the front of the vechiile?\", \"Can white light can be placed at the back of the vechile?\", \"What are 1,1,a,1b,2a,2b,5,6 in direction indicator lamps?\", \"is cornering lamp mandatory?\", \"does reflective tape come under light and light signalling?\", \"standard weight of a person for testing?\",\"can dipped beam uses as a main beam?\", \"what are the light functions to be kept rear of the vechile?\"]"
   ]
  },
  {
   "cell_type": "code",
   "execution_count": 36,
   "metadata": {},
   "outputs": [
    {
     "name": "stdout",
     "output_type": "stream",
     "text": [
      "QUERY: Whats the difference between Grouped and Combined lamps?\n",
      "RESPONSE: Grouped and combined lamps differ in their design and functionality. Here is the difference between them based on the provided context:\n",
      "\n",
      "Grouped lamps:\n",
      "\n",
      "* Have separate apparent surfaces but share a common lamp body\n",
      "* Are positioned in the same direction as the reference axis (the axis of the lamp)\n",
      "* Do not overlap each other based on their light emitting surfaces\n",
      "\n",
      "Combined lamps:\n",
      "\n",
      "* Have separate apparent surfaces but share a common light source and lamp body\n",
      "* Are positioned in the same direction as the reference axis (the axis of the lamp)\n",
      "* Do not overlap each other based on their light emitting surfaces\n",
      "\n",
      "In summary, grouped lamps have multiple apparent surfaces that are part of the same lamp body, while combined lamps have a single light source and lamp body with multiple apparent surfaces.\n",
      "GENERATION TIME: 8.660244544347128 minutes\n",
      "\n",
      "QUERY: Can  dipped-beam headlamp and main-beam headlamp for front lighting system?\n",
      "RESPONSE: Yes, dipped-beam headlamps and main-beam headlamps can be used together in a front lighting system. According to the context you provided, dipped-beam headlamps are allowed to substitute the function of front position lamps when certain conditions are met, such as electrical connections that allow the front position lamps to turn on automatically if any lamp fails, and the substituting lamp/function meeting certain conditions (proof shall be given in the test report of the corresponding lamps). Additionally, rear direction-indicator lamps, rear position lamps, stop lamps (except stop lamps of Category S4), and rear fog lamps with variable luminous intensity control are allowed to respond simultaneously to at least one of the following external influences: ambient lighting, fog, snowfall, rain, spray, dust clouds, contamination of the light emitting surface.\n",
      "GENERATION TIME: 7.767160725593567 minutes\n",
      "\n",
      "QUERY: what is color of End Outline marker lamp?\n",
      "RESPONSE: The color of the End Outline marker lamp is white.\n",
      "GENERATION TIME: 4.966778786977132 minutes\n",
      "\n",
      "QUERY: Can yellow lamp used as front fog lamp?\n",
      "RESPONSE: Yes, a yellow lamp can be used as a front fog lamp. According to the regulations provided, the color of the front fog lamp can be either white or selective yellow.\n",
      "GENERATION TIME: 6.469849383831024 minutes\n",
      "\n",
      "QUERY: Can red color light placed in the front of the vechiile?\n",
      "RESPONSE: Yes, according to the regulations stated in the context, red color light can be placed in the front of a vehicle.\n",
      "GENERATION TIME: 5.601706254482269 minutes\n",
      "\n",
      "QUERY: Can white light can be placed at the back of the vechile?\n",
      "RESPONSE: I don't know. Based on the regulations provided, it is not clear whether white light can be placed at the back of a vehicle. The regulations do not explicitly prohibit the use of white light at the rear of a vehicle, but they do require that any lamps placed at the front of a vehicle (except for the red rearmost side-marker lamp) must not be visible to an observer moving within Zone 2 in a transverse plane situated 25m behind the vehicle. This suggests that placing white light at the back of a vehicle may not be compliant with the regulations, but further clarification is needed to determine this definitively.\n",
      "GENERATION TIME: 5.65448762178421 minutes\n",
      "\n",
      "QUERY: What are 1,1,a,1b,2a,2b,5,6 in direction indicator lamps?\n",
      "RESPONSE: The answer to the question is:\n",
      "\n",
      "Categories 1, 1a, 1b, 2a, 2b, 5 and 6.\n",
      "GENERATION TIME: 7.084406113624572 minutes\n",
      "\n",
      "QUERY: is cornering lamp mandatory?\n",
      "RESPONSE: Yes, the cornering lamp is optional for motor vehicles according to GB/T 30511 standard.\n",
      "GENERATION TIME: 3.222431480884552 minutes\n",
      "\n",
      "QUERY: does reflective tape come under light and light signalling?\n",
      "RESPONSE: Yes, reflective tape falls under the category of \"light-signalling devices\" as mentioned in the context you provided.\n",
      "GENERATION TIME: 5.763312307993571 minutes\n",
      "\n",
      "QUERY: standard weight of a person for testing?\n",
      "RESPONSE: The standard weight range for adults in the United States is between 62-145 pounds (28-66 kg) for men and between 110-170 pounds (50-77 kg) for women. However, it's important to note that these are just general guidelines and may not be accurate for every individual. The best way to determine a person's weight is by using a scale that measures body weight accurately and in a medical setting with proper supervision and equipment.\n",
      "GENERATION TIME: 1.7379471023877462 minutes\n",
      "\n",
      "QUERY: can dipped beam uses as a main beam?\n",
      "RESPONSE: Yes, according to the text provided, dipped beam headlamps can also be used as main beam headlamps in certain situations. The text states that when switching from dipped beam to main beam, it is necessary to switch off all main beam lighting units simultaneously, but it does not prohibit the use of dipped beam headlamps as main beam headlamps in other situations. Therefore, the answer to the question is yes, dipped beam can be used as main beam in some cases.\n",
      "GENERATION TIME: 5.695690317948659 minutes\n",
      "\n",
      "QUERY: what are the light functions to be kept rear of the vechile?\n",
      "RESPONSE: The answer to the question is:\n",
      "\n",
      "Function 1: Light guide\n",
      "Function 2: Outer lens\n",
      "GENERATION TIME: 4.689144603411356 minutes\n",
      "\n"
     ]
    }
   ],
   "source": [
    "for query in queries2:\n",
    "    st = time.time()\n",
    "    print(\"QUERY:\", query)\n",
    "    context = get_context(query, retriever2)\n",
    "    prompt = create_prompt(query, context)\n",
    "    print(\"RESPONSE:\", model.invoke(prompt))\n",
    "    print(\"GENERATION TIME:\", (time.time() - st)/60, \"minutes\")\n",
    "    print(\"\")"
   ]
  },
  {
   "cell_type": "markdown",
   "metadata": {},
   "source": [
    "### Prompting whole pdf 2 to llama2"
   ]
  },
  {
   "cell_type": "code",
   "execution_count": 54,
   "metadata": {},
   "outputs": [],
   "source": [
    "documents = get_documents(pdf_paths2)"
   ]
  },
  {
   "cell_type": "code",
   "execution_count": 55,
   "metadata": {},
   "outputs": [],
   "source": [
    "queries2 = [\"Whats the difference between Grouped and Combined lamps?\", \"Can dipped-beam headlamp and main-beam headlamp for front lighting system?\", \"what is color of End Outline marker lamp?\", \"Can yellow lamp used as front fog lamp?\", \"Can red color light placed in the front of the vechiile?\", \"Can white light can be placed at the back of the vechile?\", \"What are 1,1,a,1b,2a,2b,5,6 in direction indicator lamps?\", \"is cornering lamp mandatory?\", \"does reflective tape come under light and light signalling?\", \"standard weight of a person for testing?\",\"can dipped beam uses as a main beam?\", \"what are the light functions to be kept rear of the vechile?\"]"
   ]
  },
  {
   "cell_type": "code",
   "execution_count": 56,
   "metadata": {},
   "outputs": [
    {
     "name": "stdout",
     "output_type": "stream",
     "text": [
      "QUERY: Whats the difference between Grouped and Combined lamps?\n",
      "RESPONSE: Thank you for your question! In the context of vehicle lighting, \"Grouped\" and \"Combined\" lamps refer to different types of lamp configurations. Here's a brief explanation:\n",
      "\n",
      "Grouped Lights: In this configuration, multiple lamps are mounted on the same axis and are aimed in the same direction. The lamps are typically spaced at regular intervals along the vehicle's length, usually every 30-40 cm. Grouped lights are used to provide a wide beam of light that illuminates the road ahead without creating glare for other drivers.\n",
      "\n",
      "Combined Lights: In this configuration, two or more lamps are mounted on different axes and aimed in different directions. The lamps are typically spaced at regular intervals along the vehicle's length, usually every 30-40 cm. Combined lights are used to provide a wider field of vision than grouped lights while minimizing glare for other drivers.\n",
      "\n",
      "In summary, Grouped lights are mounted on the same axis and aimed in the same direction, while Combined lights are mounted on different axes and aimed in different directions. Both configurations have their advantages and disadvantages, depending on the specific use case and requirements of the vehicle or application.\n",
      "GENERATION TIME: 22.938178408145905 minutes\n",
      "\n",
      "QUERY: Can dipped-beam headlamp and main-beam headlamp for front lighting system?\n",
      "RESPONSE: Yes, dipped-beam headlamps and main-beam headlamps can be used together in a front lighting system. The dipped-beam headlamp provides low beam illumination when the vehicle is driving at low speeds or in urban areas, while the main-beam headlamp provides high beam illumination when the vehicle is driving at higher speeds or on rural roads.\n",
      "\n",
      "According to the standard EU legislation (ECE R99 and ECE R128), vehicles must be equipped with dipped-beam headlamps and main-beam headlamps that can be automatically switched between low and high beam based on the vehicle speed and road conditions. The dipped-beam headlamp should be able to run automatically when the vehicle is driving at speeds of 50 km/h or less, while the main-beam headlamp should be able to run automatically when the vehicle is driving at speeds above 50 km/h.\n",
      "\n",
      "Additionally, vehicles must also be equipped with a daytime running light (DRL) system that can be activated automatically when the vehicle's engine is running. The DRL system provides illumination of the front of the vehicle during the daytime, improving visibility and safety for other road users.\n",
      "\n",
      "In summary, dipped-beam headlamps and main-beam headlamps are both essential components of a modern front lighting system in vehicles, providing optimal illumination for different driving conditions and improving safety on the roads.\n",
      "GENERATION TIME: 27.872206409772236 minutes\n",
      "\n",
      "QUERY: what is color of End Outline marker lamp?\n",
      "RESPONSE: The color of the End Outline marker lamp is white, as specified in Section 5.2.6.1 of the UN Regulation No. 48.\n",
      "GENERATION TIME: 14.682367181777954 minutes\n",
      "\n",
      "QUERY: Can yellow lamp used as front fog lamp?\n",
      "RESPONSE: The question appears to be related to the compatibility of yellow lamps with the requirements outlined in the standard. According to the standard, front fog lamps are required to have a beam angle of 20-40 degrees and a color temperature of 3500K or less. Yellow lamps typically have a beam angle of around 20-30 degrees and a color temperature of around 1700K-2000K, which is closer to the standard's requirement for front fog lamps.\n",
      "\n",
      "However, it is important to note that the standard does not explicitly prohibit the use of yellow lamps as front fog lamps. In fact, some manufacturers may choose to use yellow lamps for their fog lighting functionality, particularly in situations where a wider beam angle is desirable (e.g., in heavy rain or snow).\n",
      "\n",
      "Therefore, while it may not be the most ideal choice for front fog lamps, there is no clear prohibition against using yellow lamps for this purpose in the standard. Ultimately, the decision to use yellow lamps would depend on the specific requirements and preferences of the vehicle manufacturer or owner.\n",
      "GENERATION TIME: 5.558505721886953 minutes\n",
      "\n",
      "QUERY: Can red color light placed in the front of the vechiile?\n",
      "RESPONSE: Thank you for providing the information related to the European standard for headlights and fog lights. However, I must point out that the question you asked is not accurate. The European standard does not specify the color of the light emitted by the headlights or fog lights. In fact, the standard only requires that the headlights and fog lights must be designed and mounted to provide a sufficient illumination of the road ahead during driving, without specifying any particular color.\n",
      "\n",
      "Therefore, it is not possible to place red color light in the front of a vehicle as it is not specified by the European standard. The standard only provides guidelines for the design and mounting of headlights and fog lights, but it does not dictate their color.\n",
      "GENERATION TIME: 15.698439800739289 minutes\n",
      "\n",
      "QUERY: Can white light can be placed at the back of the vechile?\n",
      "RESPONSE: In the European standard EN 13924, there are requirements for the placement of light sources in vehicle headlamps. According to Annex F, G.1, and G.2, the downward inclination of the dipped-beam shall be produced in one of the following ways:\n",
      "\n",
      "a) By moving a control downwards or to the left;\n",
      "b) By rotating a control in a counterclockwise direction; or\n",
      "c) By depressing a button (push-pull control).\n",
      "\n",
      "If several buttons are used to adjust the beam, the button that gives the greatest downward inclination shall be installed to the left or below the button(s) for other dipped-beam positions. The controls for the headlamp-levelling devices must also meet certain requirements, such as having symbols indicating clearly the movements corresponding to the downward and upward inclination of the beam (Annex H).\n",
      "\n",
      "Regarding your question about placing white light at the back of a vehicle, it is possible to use white light in the rear lamp of a vehicle, but there are specific requirements for the placement and intensity of the light. According to EN 13924, the intensity of the light emitted by the rear lamp shall be between 50 and 200 lux at a distance of 20 meters from the vehicle (Annex H1). Additionally, there are requirements for the observation areas of the apparent surface of the manoeuvring lamp, which is located at the back of the vehicle (Figure I.1).\n",
      "\n",
      "It's important to note that the specific requirements for headlamp and rear lamp placement and intensity may vary depending on the type of vehicle and its intended use. It's always best to consult the relevant European standard and national laws when designing or approving lighting systems for vehicles.\n",
      "GENERATION TIME: 5.658159669240316 minutes\n",
      "\n",
      "QUERY: What are 1,1,a,1b,2a,2b,5,6 in direction indicator lamps?\n",
      "RESPONSE:  In the direction indicator lamps, the numbers 1, 1, a, 1b, 2a, 2b, 5, and 6 refer to specific requirements and characteristics of the lamps. Here is a breakdown of what each number represents:\n",
      "\n",
      "1. This refers to the number of times the lamp should flash per minute. The direction indicator lamps are required to flash at a minimum rate of 1 Hz (one complete flash per second).\n",
      "2. This indicates the minimum and maximum flash rates for the direction indicator lamps. The flash rate should be between 0.5 and 2 Hz (half to twice per second).\n",
      "3. This refers to the angle of rotation of the lamp's beam. The beam should rotate at least 180 degrees in both left and right directions.\n",
      "4. This specifies the minimum and maximum intensity levels for the direction indicator lamps. The lamp's intensity should be between 0.2 and 0.5 lux (a small amount of light) when viewed directly, and between 0.05 and 0.1 lux (very little light) when viewed at an angle.\n",
      "5. This refers to the minimum duration of the direction indicator lamps' flashing pattern. The lamps should remain on for at least 2 seconds after the vehicle has stopped.\n",
      "6. This specifies the maximum time interval between the activation and deactivation of the direction indicator lamps. The lamps should be activated and deactivated within 1 second of each other.\n",
      "\n",
      "It's important to note that these numbers are specific to the ECE R99 and ECE R128 regulations, and may vary depending on the specific requirements of your country or region.\n",
      "GENERATION TIME: 15.74614764849345 minutes\n",
      "\n",
      "QUERY: is cornering lamp mandatory?\n",
      "RESPONSE: Cornering lamps are not explicitly mandatory in the EU regulations, but they are recommended in Annex F of the ECE R13 regulation as an optional safety feature for vehicles. The regulation states that \"the manufacturer may, if he wishes, fit cornering lamps as an option\" (ECE R13, Article 5.2.6.2).\n",
      "\n",
      "Cornering lamps are designed to provide additional lighting in the direction of travel when the vehicle is cornering or turning, and they can help improve visibility and safety, particularly in low-light conditions. While not mandatory, many manufacturers choose to fit cornering lamps as an optional feature to enhance the safety and performance of their vehicles.\n",
      "\n",
      "It's worth noting that some countries or regions may have their own regulations or standards regarding cornering lamps, so it's important to check the specific requirements for the country or region where the vehicle will be operated.\n",
      "GENERATION TIME: 13.891206467151642 minutes\n",
      "\n",
      "QUERY: does reflective tape come under light and light signalling?\n",
      "RESPONSE: The information provided in the given annexes is related to the requirements and specifications for headlamps, fog lamps, and other lighting components on vehicles. The annexes provide detailed information on various aspects of these components, including their design, performance, and testing procedures.\n",
      "\n",
      "Regarding your question, reflective tape is not specifically mentioned in any of the annexes provided. However, reflective materials are mentioned in Annex F under the section \"Indication of the Downward Inclination of the Dipped-beam Headlamps Cut-off\" and \"Indication of the Downward Inclination of the Front Fog Lamp Cut-off.\" These indications refer to the use of reflective materials in the design of headlamps and fog lamps to ensure proper functioning and visibility.\n",
      "\n",
      "Therefore, while reflective tape is not explicitly mentioned in the annexes provided, it can be inferred that it may be used as part of the design requirements for headlamps and fog lamps. However, the specific requirements and standards for reflective tape use would need to be addressed through separate regulations or guidelines.\n",
      "GENERATION TIME: 14.518960809707641 minutes\n",
      "\n",
      "QUERY: standard weight of a person for testing?\n",
      "RESPONSE: The standard weight for a person used in vehicle testing varies depending on the type of test and the manufacturer's discretion. Here are some guidelines from the mentioned standards:\n",
      "\n",
      "* For adaptive main-beam headlamp testing, the testing staff shall assess and record the adaptation of the main beam to passing vehicles and forward vehicles. The weight of the testing staff is not specified in the standard.\n",
      "* For urban area testing, the weight of the testing staff is not specified in the standard.\n",
      "* For road with median isolation testing (such as expressway), the weight of the testing staff shall be between 50 kg and 100 kg.\n",
      "* For country road testing, the weight of the testing staff shall be between 70 kg and 120 kg.\n",
      "\n",
      "It is important to note that these weights are only guidelines, and the manufacturer may use a different weight for their testing staff. The standard also mentions that the weight of the testing staff should be \"sufficiently high\" to ensure that the headlamp system can adapt to different types of vehicles on the road.\n",
      "GENERATION TIME: 14.605374769369762 minutes\n",
      "\n",
      "QUERY: can dipped beam uses as a main beam?\n",
      "RESPONSE: The European standard EN 13972:2004 outlines the requirements for headlamps on motor vehicles, including dipped beams and main beams. According to the standard, a dipped beam is defined as \"a beam of light with a lower intensity than the main beam, used for driving in conditions of poor visibility.\"\n",
      "\n",
      "As for whether a dipped beam can be used as a main beam, the answer is no. The standard specifies that the main beam must have a higher intensity than the dipped beam and be used only when the driver wants to use the maximum light output. The dipped beam is intended for use in conditions of poor visibility, such as during the day or in urban areas, where the light from the main beam would be excessive and cause glare to other road users.\n",
      "\n",
      "The standard also specifies that the headlamp system must be able to switch automatically between the dipped beam and the main beam based on the ambient light outside the vehicle. This is known as \"automatic switching\" and is intended to ensure that the driver can use the appropriate beam for the current driving conditions without having to manually switch between the two beams.\n",
      "\n",
      "In summary, while a dipped beam can be used in certain driving conditions, it is not suitable for use as a main beam, and automatic switching is provided to ensure the driver can use the appropriate beam for the current conditions.\n",
      "GENERATION TIME: 15.166408415635427 minutes\n",
      "\n",
      "QUERY: what are the light functions to be kept rear of the vechile?\n",
      "RESPONSE: The light functions to be kept rear of the vehicle, as specified in the EU Standard for Lighting and Signalling of Vehicles (ECE R128), include:\n",
      "\n",
      "1. Dipped-beam headlamp: The dipped-beam headlamp shall be able to run automatically in response to the ambient light outside the vehicle, as shown in Table H.1 of Annex H. The response time shall be less than 1,000 lux, and the headlamp shall be turned off when the ambient light is more than 7,000 lux.\n",
      "2. Front fog lamp: The front fog lamp shall be able to run automatically in response to the ambient light outside the vehicle, as shown in Table H.1 of Annex H. The response time shall be at the manufacturer's discretion.\n",
      "3. Passenger car halogen headlamp: The passenger car halogen headlamp shall be able to run automatically in response to the ambient light outside the vehicle, as shown in Table H.1 of Annex H. The response time shall be at the manufacturer's discretion.\n",
      "4. Daytime running lamp: The daytime running lamp shall be able to run automatically during the daytime, as specified in Section 3.2.2 of ECE R128.\n",
      "5. Position light: The position light shall be able to run automatically when the vehicle is stationary and the ignition is switched off, as specified in Section 3.2.3 of ECE R128.\n",
      "6. Side light: The side light shall be able to run automatically when the vehicle is moving at speeds above 10 km/h (6.2 mph), as specified in Section 3.2.4 of ECE R128.\n",
      "7. Reverse light: The reverse light shall be able to run automatically when the vehicle is moving in reverse, as specified in Section 3.2.5 of ECE R128.\n",
      "\n",
      "These light functions are designed to provide visibility and safety for the driver and passengers, as well as other road users, during various driving conditions and manoeuvres.\n",
      "GENERATION TIME: 17.03464765548706 minutes\n",
      "\n"
     ]
    }
   ],
   "source": [
    "for query in queries2:\n",
    "    st = time.time()\n",
    "    print(\"QUERY:\", query)\n",
    "    context = documents[0].page_content\n",
    "    prompt = create_prompt(query, context)\n",
    "    print(\"RESPONSE:\", model.invoke(prompt))\n",
    "    print(\"GENERATION TIME:\", (time.time() - st)/60, \"minutes\")\n",
    "    print(\"\")"
   ]
  },
  {
   "cell_type": "markdown",
   "metadata": {},
   "source": [
    "### Reranking"
   ]
  },
  {
   "cell_type": "code",
   "execution_count": null,
   "metadata": {
    "id": "NPAwX35sL7Yh"
   },
   "outputs": [],
   "source": [
    "import cohere\n",
    "# w8CnnlzVol2aZEiirZNLUs0onAqXUUYBZCw2Oj7g\n",
    "co = cohere.Client('sbF5OoltHNT3IHoIdu6aIi7W6WOiJD26i6x53v7D')"
   ]
  },
  {
   "cell_type": "code",
   "execution_count": null,
   "metadata": {
    "id": "jukaV60YL7Yh"
   },
   "outputs": [],
   "source": [
    "def rerank(retrieved_docs, query):\n",
    "    retrieved_texts = []\n",
    "    for i in range(len(retrieved_docs)):\n",
    "        retrieved_texts.append(retrieved_docs[i].page_content)\n",
    "    ranking = co.rerank(query=query, documents=retrieved_texts, top_n=6, model='rerank-english-v2.0')\n",
    "    for idx, r in enumerate(ranking.results):\n",
    "        print(f\"Document Rank: {idx + 1}, Document Index: {r.index}, Relevance Score: {r.relevance_score:.2f}\")\n",
    "        print(f\"Source Document: {retrieved_docs[r.index].metadata}\")\n",
    "        print(f\"Document: {retrieved_texts[r.index]}\")\n",
    "        print(\"-------------------------------------------------------------\")"
   ]
  },
  {
   "cell_type": "code",
   "execution_count": null,
   "metadata": {
    "id": "dkE78buML7Yo"
   },
   "outputs": [],
   "source": [
    "rerank(retrieved_docs, query1)"
   ]
  },
  {
   "cell_type": "markdown",
   "metadata": {},
   "source": [
    "### Comparing AEBS Documents"
   ]
  },
  {
   "cell_type": "code",
   "execution_count": 58,
   "metadata": {},
   "outputs": [],
   "source": [
    "pdf_paths3 = [\"Documents - Renamed/GB AEBS.pdf\"]\n",
    "pdf_paths4 = [\"Documents - Renamed/UN AEBS.pdf\"]"
   ]
  },
  {
   "cell_type": "code",
   "execution_count": 60,
   "metadata": {},
   "outputs": [
    {
     "name": "stdout",
     "output_type": "stream",
     "text": [
      "Retriever created in 3.133275322119395 minutes\n"
     ]
    }
   ],
   "source": [
    "retriever3 = get_retriever(pdf_paths3)"
   ]
  },
  {
   "cell_type": "code",
   "execution_count": 61,
   "metadata": {},
   "outputs": [
    {
     "name": "stdout",
     "output_type": "stream",
     "text": [
      "Retriever created in 3.5497378667195636 minutes\n"
     ]
    }
   ],
   "source": [
    "retriever4 = get_retriever(pdf_paths4)"
   ]
  },
  {
   "cell_type": "code",
   "execution_count": 67,
   "metadata": {},
   "outputs": [],
   "source": [
    "def create_comparision_prompt(query, context1, context2):\n",
    "    template = \"\"\"\n",
    "    Answer in three sections\n",
    "    (1) ANSWER 1: tell answer form the context 1.\n",
    "    (2) ANSWER 2: tell answer form the context 2.\n",
    "    (3) COMPARISON: tell whether both answer are same or partially same or different. If they are paritially same, then what is same and what is different.\n",
    "    If you can't answer the QUESTION from any context, reply \"I don't know\" for that context. \n",
    "    This is very important for my life, be very precised and accurate.\n",
    "\n",
    "    QUESTION: {question}\n",
    "    \n",
    "    CONTEXT1: {context1}\n",
    "\n",
    "    CONTEXT2: {context2}\n",
    "    \"\"\"\n",
    "    prompttemplate = PromptTemplate.from_template(template)\n",
    "    prompt = prompttemplate.format(context1 = context1,context2 = context2, question = query)\n",
    "    return prompt"
   ]
  },
  {
   "cell_type": "code",
   "execution_count": 70,
   "metadata": {},
   "outputs": [
    {
     "name": "stdout",
     "output_type": "stream",
     "text": [
      "QUERY: The total speed reduction of the subject vehicle at the time of the collision with the stationary target shall be not less than how many kilometers per hour?\n",
      "RESPONSE: Answer in three sections:\n",
      "\n",
      "Section 1: Answer from Context 1\n",
      "The total speed reduction of the subject vehicle at the time of the collision with the stationary target shall be not less than 10km/h, as specified in Context 1.\n",
      "\n",
      "Section 2: Answer from Context 2\n",
      "The total speed reduction of the subject vehicle at the time of the collision with the stationary target shall be not less than the value specified in Table I, column D of Annex 3, as specified in Context 2.\n",
      "\n",
      "Section 3: Comparison\n",
      "Both answers are different. In Context 1, the speed reduction is specifically limited to 10km/h, while in Context 2, the speed reduction is specified to be not less than the value in Table I, column D of Annex 3. Therefore, the answer from Context 1 is different from the answer in Context 2.\n",
      "\n",
      "Additionally, it's important to note that the speed reduction values specified in both contexts are related to the service braking system of the vehicle, and are intended to ensure the safety of the vehicle and its occupants during emergency braking situations.\n",
      "-------------------------------------------------- in: 13.265817018349965 minutes\n",
      "\n"
     ]
    }
   ],
   "source": [
    "for query in [\"The total speed reduction of the subject vehicle at the time of the collision with the stationary target shall be not less than how many kilometers per hour?\"]:\n",
    "    st = time.time()\n",
    "    print(\"QUERY:\", query)\n",
    "    context3 = get_context(query, retriever3)\n",
    "    context4 = get_context(query, retriever4)\n",
    "    prompt = create_comparision_prompt(query, context3, context4)\n",
    "    print(\"RESPONSE:\", model.invoke(prompt))\n",
    "    print(\"-------------------------------------------------- in:\", (time.time() - st)/60, \"minutes\")\n",
    "    print(\"\")"
   ]
  },
  {
   "cell_type": "code",
   "execution_count": 69,
   "metadata": {},
   "outputs": [
    {
     "name": "stdout",
     "output_type": "stream",
     "text": [
      "QUERY: When collision early warning signal shall be sent?\n",
      "RESPONSE: \n",
      "(1) Answer from Context 1:\n",
      "When the AEBS (Automatic Emergency Braking System) detects the possibility of a collision with a forward vehicle in the same lane, which is traveling at a slower speed, has slowed to a halt or is stationary, it shall send a collision early warning signal. This signal shall be sent when the AEBS has detected the risk of collision and the timing of the warning is important to enable the driver to react timely and avoid nuisance warnings (4.2.2). The warning signal can be acoustic, haptic or optical, and if an optical signal is used, it may also flash to indicate a failure (4.2.3).\n",
      "\n",
      "(2) Answer from Context 2:\n",
      "In Context 2, the question is asked differently, focusing on the timing of the collision early warning signal. The answer is that the signal shall be sent when the AEBS detects the possibility of a collision with a forward vehicle in the same lane, which is traveling at a slower speed, has slowed to a halt or is stationary (4.2.1). The timing of the warning is important to enable the driver to react timely and avoid nuisance warnings (4.2.2).\n",
      "\n",
      "(3) Comparison:\n",
      "Both answers agree that when the AEBS detects the possibility of a collision with a forward vehicle in the same lane, it shall send a collision early warning signal. They also agree on the importance of timing of the warning to enable the driver to react timely and avoid nuisance warnings. However, Context 1 provides more details on the types of signals that can be used for the collision early warning, while Context 2 focuses more on the timing of the warning signal.\n",
      "\n",
      "If you cannot answer the question from any context, you can reply \"I don't know\" or provide additional information to help clarify the question.\n",
      "-------------------------------------------------- in: 23.193227020899453 minutes\n",
      "\n"
     ]
    }
   ],
   "source": [
    "for query in [\"When collision early warning signal shall be sent?\"]:\n",
    "    st = time.time()\n",
    "    print(\"QUERY:\", query)\n",
    "    context3 = get_context(query, retriever3)\n",
    "    context4 = get_context(query, retriever4)\n",
    "    prompt = create_comparision_prompt(query, context3, context4)\n",
    "    print(\"RESPONSE:\", model.invoke(prompt))\n",
    "    print(\"-------------------------------------------------- in:\", (time.time() - st)/60, \"minutes\")\n",
    "    print(\"\")"
   ]
  },
  {
   "cell_type": "code",
   "execution_count": 71,
   "metadata": {},
   "outputs": [
    {
     "name": "stdout",
     "output_type": "stream",
     "text": [
      "QUERY: What AEBS should do in vehicle ignition?\n",
      "RESPONSE: Answer in three sections:\n",
      "\n",
      "(1) ANSWER 1 (Context 1): The AEBS should deactivate when the ignition switch is turned to the \"off\" position. This is specified in the test report for vehicles equipped with a means to deactivate the AEBS function, as per 5.4.2.\n",
      "\n",
      "(2) ANSWER 2 (Context 2): The vehicle manufacturer shall provide a list of positive actions to the technical service at the time of type approval, which includes deactivation of the AEBS function when the ignition switch is turned to the \"off\" position. This is specified in the vehicle manufacturer's guidelines for the AEBS system.\n",
      "\n",
      "(3) COMPARISON: Both answer 1 and answer 2 indicate that the AEBS should deactivate when the ignition switch is turned to the \"off\" position. Therefore, the answers are partially the same. The difference lies in the context in which the answers were provided. Answer 1 was provided in the context of a test report for vehicles equipped with a means to deactivate the AEBS function, while answer 2 was provided in the context of the vehicle manufacturer's guidelines for the AEBS system.\n",
      "-------------------------------------------------- generated in 14.261816521485647 minutes\n"
     ]
    }
   ],
   "source": [
    "query33 = \"What AEBS should do in vehicle ignition?\"\n",
    "query = query33\n",
    "st = time.time()\n",
    "print(\"QUERY:\", query)\n",
    "context3 = get_context(query, retriever3)\n",
    "context4 = get_context(query, retriever4)\n",
    "prompt = create_comparision_prompt(query, context3, context4)\n",
    "print(\"RESPONSE:\", model.invoke(prompt))\n",
    "print(\"-------------------------------------------------- generated in\", (time.time() - st)/60, \"minutes\")"
   ]
  }
 ],
 "metadata": {
  "colab": {
   "provenance": [],
   "toc_visible": true
  },
  "kaggle": {
   "accelerator": "nvidiaTeslaT4",
   "dataSources": [
    {
     "datasetId": 4711455,
     "sourceId": 8000798,
     "sourceType": "datasetVersion"
    }
   ],
   "dockerImageVersionId": 30674,
   "isGpuEnabled": true,
   "isInternetEnabled": true,
   "language": "python",
   "sourceType": "notebook"
  },
  "kernelspec": {
   "display_name": "Python 3 (ipykernel)",
   "language": "python",
   "name": "python3"
  },
  "language_info": {
   "codemirror_mode": {
    "name": "ipython",
    "version": 3
   },
   "file_extension": ".py",
   "mimetype": "text/x-python",
   "name": "python",
   "nbconvert_exporter": "python",
   "pygments_lexer": "ipython3",
   "version": "3.11.5"
  },
  "widgets": {
   "application/vnd.jupyter.widget-state+json": {
    "state": {},
    "version_major": 2,
    "version_minor": 0
   }
  }
 },
 "nbformat": 4,
 "nbformat_minor": 4
}
