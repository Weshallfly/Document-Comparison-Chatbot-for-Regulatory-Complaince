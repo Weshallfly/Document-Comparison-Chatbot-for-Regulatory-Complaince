{
 "cells": [
  {
   "cell_type": "code",
   "execution_count": 1,
   "metadata": {},
   "outputs": [
    {
     "name": "stdout",
     "output_type": "stream",
     "text": [
      "Requirement already satisfied: dspy-ai in c:\\users\\vishal maurya\\appdata\\local\\programs\\python\\python311\\lib\\site-packages (2.4.12)\n",
      "Requirement already satisfied: backoff in c:\\users\\vishal maurya\\appdata\\local\\programs\\python\\python311\\lib\\site-packages (from dspy-ai) (2.2.1)\n",
      "Requirement already satisfied: datasets in c:\\users\\vishal maurya\\appdata\\local\\programs\\python\\python311\\lib\\site-packages (from dspy-ai) (2.20.0)\n",
      "Requirement already satisfied: joblib<=1.3.2 in c:\\users\\vishal maurya\\appdata\\local\\programs\\python\\python311\\lib\\site-packages (from dspy-ai) (1.3.2)\n",
      "Requirement already satisfied: openai<2.0.0,>=0.28.1 in c:\\users\\vishal maurya\\appdata\\local\\programs\\python\\python311\\lib\\site-packages (from dspy-ai) (1.30.3)\n",
      "Requirement already satisfied: optuna in c:\\users\\vishal maurya\\appdata\\local\\programs\\python\\python311\\lib\\site-packages (from dspy-ai) (3.6.1)\n",
      "Requirement already satisfied: pandas in c:\\users\\vishal maurya\\appdata\\local\\programs\\python\\python311\\lib\\site-packages (from dspy-ai) (2.2.2)\n",
      "Requirement already satisfied: pydantic~=2.0 in c:\\users\\vishal maurya\\appdata\\local\\programs\\python\\python311\\lib\\site-packages (from dspy-ai) (2.7.1)\n",
      "Requirement already satisfied: regex in c:\\users\\vishal maurya\\appdata\\local\\programs\\python\\python311\\lib\\site-packages (from dspy-ai) (2024.5.15)\n",
      "Requirement already satisfied: requests in c:\\users\\vishal maurya\\appdata\\local\\programs\\python\\python311\\lib\\site-packages (from dspy-ai) (2.32.3)\n",
      "Requirement already satisfied: structlog in c:\\users\\vishal maurya\\appdata\\local\\programs\\python\\python311\\lib\\site-packages (from dspy-ai) (24.4.0)\n",
      "Requirement already satisfied: tqdm in c:\\users\\vishal maurya\\appdata\\local\\programs\\python\\python311\\lib\\site-packages (from dspy-ai) (4.66.4)\n",
      "Requirement already satisfied: ujson in c:\\users\\vishal maurya\\appdata\\local\\programs\\python\\python311\\lib\\site-packages (from dspy-ai) (5.10.0)\n",
      "Requirement already satisfied: anyio<5,>=3.5.0 in c:\\users\\vishal maurya\\appdata\\local\\programs\\python\\python311\\lib\\site-packages (from openai<2.0.0,>=0.28.1->dspy-ai) (4.0.0)\n",
      "Requirement already satisfied: distro<2,>=1.7.0 in c:\\users\\vishal maurya\\appdata\\local\\programs\\python\\python311\\lib\\site-packages (from openai<2.0.0,>=0.28.1->dspy-ai) (1.9.0)\n",
      "Requirement already satisfied: httpx<1,>=0.23.0 in c:\\users\\vishal maurya\\appdata\\local\\programs\\python\\python311\\lib\\site-packages (from openai<2.0.0,>=0.28.1->dspy-ai) (0.27.0)\n",
      "Requirement already satisfied: sniffio in c:\\users\\vishal maurya\\appdata\\local\\programs\\python\\python311\\lib\\site-packages (from openai<2.0.0,>=0.28.1->dspy-ai) (1.3.0)\n",
      "Requirement already satisfied: typing-extensions<5,>=4.7 in c:\\users\\vishal maurya\\appdata\\local\\programs\\python\\python311\\lib\\site-packages (from openai<2.0.0,>=0.28.1->dspy-ai) (4.8.0)\n",
      "Requirement already satisfied: annotated-types>=0.4.0 in c:\\users\\vishal maurya\\appdata\\local\\programs\\python\\python311\\lib\\site-packages (from pydantic~=2.0->dspy-ai) (0.7.0)\n",
      "Requirement already satisfied: pydantic-core==2.18.2 in c:\\users\\vishal maurya\\appdata\\local\\programs\\python\\python311\\lib\\site-packages (from pydantic~=2.0->dspy-ai) (2.18.2)\n",
      "Requirement already satisfied: colorama in c:\\users\\vishal maurya\\appdata\\local\\programs\\python\\python311\\lib\\site-packages (from tqdm->dspy-ai) (0.4.6)\n",
      "Requirement already satisfied: filelock in c:\\users\\vishal maurya\\appdata\\local\\programs\\python\\python311\\lib\\site-packages (from datasets->dspy-ai) (3.14.0)\n",
      "Requirement already satisfied: numpy>=1.17 in c:\\users\\vishal maurya\\appdata\\local\\programs\\python\\python311\\lib\\site-packages (from datasets->dspy-ai) (1.25.2)\n",
      "Requirement already satisfied: pyarrow>=15.0.0 in c:\\users\\vishal maurya\\appdata\\local\\programs\\python\\python311\\lib\\site-packages (from datasets->dspy-ai) (17.0.0)\n",
      "Requirement already satisfied: pyarrow-hotfix in c:\\users\\vishal maurya\\appdata\\local\\programs\\python\\python311\\lib\\site-packages (from datasets->dspy-ai) (0.6)\n",
      "Requirement already satisfied: dill<0.3.9,>=0.3.0 in c:\\users\\vishal maurya\\appdata\\local\\programs\\python\\python311\\lib\\site-packages (from datasets->dspy-ai) (0.3.8)\n",
      "Requirement already satisfied: xxhash in c:\\users\\vishal maurya\\appdata\\local\\programs\\python\\python311\\lib\\site-packages (from datasets->dspy-ai) (3.4.1)\n",
      "Requirement already satisfied: multiprocess in c:\\users\\vishal maurya\\appdata\\local\\programs\\python\\python311\\lib\\site-packages (from datasets->dspy-ai) (0.70.16)\n",
      "Requirement already satisfied: fsspec<=2024.5.0,>=2023.1.0 in c:\\users\\vishal maurya\\appdata\\local\\programs\\python\\python311\\lib\\site-packages (from fsspec[http]<=2024.5.0,>=2023.1.0->datasets->dspy-ai) (2024.5.0)\n",
      "Requirement already satisfied: aiohttp in c:\\users\\vishal maurya\\appdata\\local\\programs\\python\\python311\\lib\\site-packages (from datasets->dspy-ai) (3.9.5)\n",
      "Requirement already satisfied: huggingface-hub>=0.21.2 in c:\\users\\vishal maurya\\appdata\\local\\programs\\python\\python311\\lib\\site-packages (from datasets->dspy-ai) (0.23.2)\n",
      "Requirement already satisfied: packaging in c:\\users\\vishal maurya\\appdata\\local\\programs\\python\\python311\\lib\\site-packages (from datasets->dspy-ai) (24.1)\n",
      "Requirement already satisfied: pyyaml>=5.1 in c:\\users\\vishal maurya\\appdata\\local\\programs\\python\\python311\\lib\\site-packages (from datasets->dspy-ai) (6.0.1)\n",
      "Requirement already satisfied: charset-normalizer<4,>=2 in c:\\users\\vishal maurya\\appdata\\local\\programs\\python\\python311\\lib\\site-packages (from requests->dspy-ai) (3.2.0)\n",
      "Requirement already satisfied: idna<4,>=2.5 in c:\\users\\vishal maurya\\appdata\\local\\programs\\python\\python311\\lib\\site-packages (from requests->dspy-ai) (3.4)\n",
      "Requirement already satisfied: urllib3<3,>=1.21.1 in c:\\users\\vishal maurya\\appdata\\local\\programs\\python\\python311\\lib\\site-packages (from requests->dspy-ai) (2.2.2)\n",
      "Requirement already satisfied: certifi>=2017.4.17 in c:\\users\\vishal maurya\\appdata\\local\\programs\\python\\python311\\lib\\site-packages (from requests->dspy-ai) (2023.7.22)\n",
      "Requirement already satisfied: alembic>=1.5.0 in c:\\users\\vishal maurya\\appdata\\local\\programs\\python\\python311\\lib\\site-packages (from optuna->dspy-ai) (1.13.2)\n",
      "Requirement already satisfied: colorlog in c:\\users\\vishal maurya\\appdata\\local\\programs\\python\\python311\\lib\\site-packages (from optuna->dspy-ai) (6.8.2)\n",
      "Requirement already satisfied: sqlalchemy>=1.3.0 in c:\\users\\vishal maurya\\appdata\\local\\programs\\python\\python311\\lib\\site-packages (from optuna->dspy-ai) (2.0.30)\n",
      "Requirement already satisfied: python-dateutil>=2.8.2 in c:\\users\\vishal maurya\\appdata\\local\\programs\\python\\python311\\lib\\site-packages (from pandas->dspy-ai) (2.8.2)\n",
      "Requirement already satisfied: pytz>=2020.1 in c:\\users\\vishal maurya\\appdata\\local\\programs\\python\\python311\\lib\\site-packages (from pandas->dspy-ai) (2023.3.post1)\n",
      "Requirement already satisfied: tzdata>=2022.7 in c:\\users\\vishal maurya\\appdata\\local\\programs\\python\\python311\\lib\\site-packages (from pandas->dspy-ai) (2023.3)\n",
      "Requirement already satisfied: Mako in c:\\users\\vishal maurya\\appdata\\local\\programs\\python\\python311\\lib\\site-packages (from alembic>=1.5.0->optuna->dspy-ai) (1.3.5)\n",
      "Requirement already satisfied: aiosignal>=1.1.2 in c:\\users\\vishal maurya\\appdata\\local\\programs\\python\\python311\\lib\\site-packages (from aiohttp->datasets->dspy-ai) (1.3.1)\n",
      "Requirement already satisfied: attrs>=17.3.0 in c:\\users\\vishal maurya\\appdata\\local\\programs\\python\\python311\\lib\\site-packages (from aiohttp->datasets->dspy-ai) (23.1.0)\n",
      "Requirement already satisfied: frozenlist>=1.1.1 in c:\\users\\vishal maurya\\appdata\\local\\programs\\python\\python311\\lib\\site-packages (from aiohttp->datasets->dspy-ai) (1.4.1)\n",
      "Requirement already satisfied: multidict<7.0,>=4.5 in c:\\users\\vishal maurya\\appdata\\local\\programs\\python\\python311\\lib\\site-packages (from aiohttp->datasets->dspy-ai) (6.0.5)\n",
      "Requirement already satisfied: yarl<2.0,>=1.0 in c:\\users\\vishal maurya\\appdata\\local\\programs\\python\\python311\\lib\\site-packages (from aiohttp->datasets->dspy-ai) (1.9.4)\n",
      "Requirement already satisfied: httpcore==1.* in c:\\users\\vishal maurya\\appdata\\local\\programs\\python\\python311\\lib\\site-packages (from httpx<1,>=0.23.0->openai<2.0.0,>=0.28.1->dspy-ai) (1.0.5)\n",
      "Requirement already satisfied: h11<0.15,>=0.13 in c:\\users\\vishal maurya\\appdata\\local\\programs\\python\\python311\\lib\\site-packages (from httpcore==1.*->httpx<1,>=0.23.0->openai<2.0.0,>=0.28.1->dspy-ai) (0.14.0)\n",
      "Requirement already satisfied: six>=1.5 in c:\\users\\vishal maurya\\appdata\\local\\programs\\python\\python311\\lib\\site-packages (from python-dateutil>=2.8.2->pandas->dspy-ai) (1.16.0)\n",
      "Requirement already satisfied: greenlet!=0.4.17 in c:\\users\\vishal maurya\\appdata\\local\\programs\\python\\python311\\lib\\site-packages (from sqlalchemy>=1.3.0->optuna->dspy-ai) (3.0.3)\n",
      "Requirement already satisfied: MarkupSafe>=0.9.2 in c:\\users\\vishal maurya\\appdata\\local\\programs\\python\\python311\\lib\\site-packages (from Mako->alembic>=1.5.0->optuna->dspy-ai) (2.1.3)\n",
      "Requirement already satisfied: langchain_community in c:\\users\\vishal maurya\\appdata\\local\\programs\\python\\python311\\lib\\site-packages (0.2.7)\n",
      "Requirement already satisfied: PyYAML>=5.3 in c:\\users\\vishal maurya\\appdata\\local\\programs\\python\\python311\\lib\\site-packages (from langchain_community) (6.0.1)\n",
      "Requirement already satisfied: SQLAlchemy<3,>=1.4 in c:\\users\\vishal maurya\\appdata\\local\\programs\\python\\python311\\lib\\site-packages (from langchain_community) (2.0.30)\n",
      "Requirement already satisfied: aiohttp<4.0.0,>=3.8.3 in c:\\users\\vishal maurya\\appdata\\local\\programs\\python\\python311\\lib\\site-packages (from langchain_community) (3.9.5)\n",
      "Requirement already satisfied: dataclasses-json<0.7,>=0.5.7 in c:\\users\\vishal maurya\\appdata\\local\\programs\\python\\python311\\lib\\site-packages (from langchain_community) (0.6.6)\n",
      "Requirement already satisfied: langchain<0.3.0,>=0.2.7 in c:\\users\\vishal maurya\\appdata\\local\\programs\\python\\python311\\lib\\site-packages (from langchain_community) (0.2.7)\n",
      "Requirement already satisfied: langchain-core<0.3.0,>=0.2.12 in c:\\users\\vishal maurya\\appdata\\local\\programs\\python\\python311\\lib\\site-packages (from langchain_community) (0.2.17)\n",
      "Requirement already satisfied: langsmith<0.2.0,>=0.1.0 in c:\\users\\vishal maurya\\appdata\\local\\programs\\python\\python311\\lib\\site-packages (from langchain_community) (0.1.85)\n",
      "Requirement already satisfied: numpy<2,>=1 in c:\\users\\vishal maurya\\appdata\\local\\programs\\python\\python311\\lib\\site-packages (from langchain_community) (1.25.2)\n",
      "Requirement already satisfied: requests<3,>=2 in c:\\users\\vishal maurya\\appdata\\local\\programs\\python\\python311\\lib\\site-packages (from langchain_community) (2.32.3)\n",
      "Requirement already satisfied: tenacity!=8.4.0,<9.0.0,>=8.1.0 in c:\\users\\vishal maurya\\appdata\\local\\programs\\python\\python311\\lib\\site-packages (from langchain_community) (8.3.0)\n",
      "Requirement already satisfied: aiosignal>=1.1.2 in c:\\users\\vishal maurya\\appdata\\local\\programs\\python\\python311\\lib\\site-packages (from aiohttp<4.0.0,>=3.8.3->langchain_community) (1.3.1)\n",
      "Requirement already satisfied: attrs>=17.3.0 in c:\\users\\vishal maurya\\appdata\\local\\programs\\python\\python311\\lib\\site-packages (from aiohttp<4.0.0,>=3.8.3->langchain_community) (23.1.0)\n",
      "Requirement already satisfied: frozenlist>=1.1.1 in c:\\users\\vishal maurya\\appdata\\local\\programs\\python\\python311\\lib\\site-packages (from aiohttp<4.0.0,>=3.8.3->langchain_community) (1.4.1)\n",
      "Requirement already satisfied: multidict<7.0,>=4.5 in c:\\users\\vishal maurya\\appdata\\local\\programs\\python\\python311\\lib\\site-packages (from aiohttp<4.0.0,>=3.8.3->langchain_community) (6.0.5)\n",
      "Requirement already satisfied: yarl<2.0,>=1.0 in c:\\users\\vishal maurya\\appdata\\local\\programs\\python\\python311\\lib\\site-packages (from aiohttp<4.0.0,>=3.8.3->langchain_community) (1.9.4)\n",
      "Requirement already satisfied: marshmallow<4.0.0,>=3.18.0 in c:\\users\\vishal maurya\\appdata\\local\\programs\\python\\python311\\lib\\site-packages (from dataclasses-json<0.7,>=0.5.7->langchain_community) (3.21.2)\n",
      "Requirement already satisfied: typing-inspect<1,>=0.4.0 in c:\\users\\vishal maurya\\appdata\\local\\programs\\python\\python311\\lib\\site-packages (from dataclasses-json<0.7,>=0.5.7->langchain_community) (0.9.0)\n",
      "Requirement already satisfied: langchain-text-splitters<0.3.0,>=0.2.0 in c:\\users\\vishal maurya\\appdata\\local\\programs\\python\\python311\\lib\\site-packages (from langchain<0.3.0,>=0.2.7->langchain_community) (0.2.2)\n",
      "Requirement already satisfied: pydantic<3,>=1 in c:\\users\\vishal maurya\\appdata\\local\\programs\\python\\python311\\lib\\site-packages (from langchain<0.3.0,>=0.2.7->langchain_community) (2.7.1)\n",
      "Requirement already satisfied: jsonpatch<2.0,>=1.33 in c:\\users\\vishal maurya\\appdata\\local\\programs\\python\\python311\\lib\\site-packages (from langchain-core<0.3.0,>=0.2.12->langchain_community) (1.33)\n",
      "Requirement already satisfied: packaging<25,>=23.2 in c:\\users\\vishal maurya\\appdata\\local\\programs\\python\\python311\\lib\\site-packages (from langchain-core<0.3.0,>=0.2.12->langchain_community) (24.1)\n",
      "Requirement already satisfied: orjson<4.0.0,>=3.9.14 in c:\\users\\vishal maurya\\appdata\\local\\programs\\python\\python311\\lib\\site-packages (from langsmith<0.2.0,>=0.1.0->langchain_community) (3.10.6)\n",
      "Requirement already satisfied: charset-normalizer<4,>=2 in c:\\users\\vishal maurya\\appdata\\local\\programs\\python\\python311\\lib\\site-packages (from requests<3,>=2->langchain_community) (3.2.0)\n",
      "Requirement already satisfied: idna<4,>=2.5 in c:\\users\\vishal maurya\\appdata\\local\\programs\\python\\python311\\lib\\site-packages (from requests<3,>=2->langchain_community) (3.4)\n",
      "Requirement already satisfied: urllib3<3,>=1.21.1 in c:\\users\\vishal maurya\\appdata\\local\\programs\\python\\python311\\lib\\site-packages (from requests<3,>=2->langchain_community) (2.2.2)\n",
      "Requirement already satisfied: certifi>=2017.4.17 in c:\\users\\vishal maurya\\appdata\\local\\programs\\python\\python311\\lib\\site-packages (from requests<3,>=2->langchain_community) (2023.7.22)\n",
      "Requirement already satisfied: typing-extensions>=4.6.0 in c:\\users\\vishal maurya\\appdata\\local\\programs\\python\\python311\\lib\\site-packages (from SQLAlchemy<3,>=1.4->langchain_community) (4.8.0)\n",
      "Requirement already satisfied: greenlet!=0.4.17 in c:\\users\\vishal maurya\\appdata\\local\\programs\\python\\python311\\lib\\site-packages (from SQLAlchemy<3,>=1.4->langchain_community) (3.0.3)\n",
      "Requirement already satisfied: jsonpointer>=1.9 in c:\\users\\vishal maurya\\appdata\\local\\programs\\python\\python311\\lib\\site-packages (from jsonpatch<2.0,>=1.33->langchain-core<0.3.0,>=0.2.12->langchain_community) (2.4)\n",
      "Requirement already satisfied: annotated-types>=0.4.0 in c:\\users\\vishal maurya\\appdata\\local\\programs\\python\\python311\\lib\\site-packages (from pydantic<3,>=1->langchain<0.3.0,>=0.2.7->langchain_community) (0.7.0)\n",
      "Requirement already satisfied: pydantic-core==2.18.2 in c:\\users\\vishal maurya\\appdata\\local\\programs\\python\\python311\\lib\\site-packages (from pydantic<3,>=1->langchain<0.3.0,>=0.2.7->langchain_community) (2.18.2)\n",
      "Requirement already satisfied: mypy-extensions>=0.3.0 in c:\\users\\vishal maurya\\appdata\\local\\programs\\python\\python311\\lib\\site-packages (from typing-inspect<1,>=0.4.0->dataclasses-json<0.7,>=0.5.7->langchain_community) (1.0.0)\n",
      "Requirement already satisfied: clarifai in c:\\users\\vishal maurya\\appdata\\local\\programs\\python\\python311\\lib\\site-packages (10.7.0)\n",
      "Requirement already satisfied: clarifai-grpc>=10.7.0 in c:\\users\\vishal maurya\\appdata\\local\\programs\\python\\python311\\lib\\site-packages (from clarifai) (10.7.0)\n",
      "Requirement already satisfied: numpy>=1.22.0 in c:\\users\\vishal maurya\\appdata\\local\\programs\\python\\python311\\lib\\site-packages (from clarifai) (1.25.2)\n",
      "Requirement already satisfied: tqdm>=4.65.0 in c:\\users\\vishal maurya\\appdata\\local\\programs\\python\\python311\\lib\\site-packages (from clarifai) (4.66.4)\n",
      "Requirement already satisfied: tritonclient>=2.34.0 in c:\\users\\vishal maurya\\appdata\\local\\programs\\python\\python311\\lib\\site-packages (from clarifai) (2.48.0)\n",
      "Requirement already satisfied: rich>=13.4.2 in c:\\users\\vishal maurya\\appdata\\local\\programs\\python\\python311\\lib\\site-packages (from clarifai) (13.7.1)\n",
      "Requirement already satisfied: PyYAML>=6.0.1 in c:\\users\\vishal maurya\\appdata\\local\\programs\\python\\python311\\lib\\site-packages (from clarifai) (6.0.1)\n",
      "Requirement already satisfied: schema==0.7.5 in c:\\users\\vishal maurya\\appdata\\local\\programs\\python\\python311\\lib\\site-packages (from clarifai) (0.7.5)\n",
      "Requirement already satisfied: Pillow>=9.5.0 in c:\\users\\vishal maurya\\appdata\\local\\programs\\python\\python311\\lib\\site-packages (from clarifai) (10.0.1)\n",
      "Requirement already satisfied: inquirerpy==0.3.4 in c:\\users\\vishal maurya\\appdata\\local\\programs\\python\\python311\\lib\\site-packages (from clarifai) (0.3.4)\n",
      "Requirement already satisfied: tabulate>=0.9.0 in c:\\users\\vishal maurya\\appdata\\local\\programs\\python\\python311\\lib\\site-packages (from clarifai) (0.9.0)\n",
      "Requirement already satisfied: pfzy<0.4.0,>=0.3.1 in c:\\users\\vishal maurya\\appdata\\local\\programs\\python\\python311\\lib\\site-packages (from inquirerpy==0.3.4->clarifai) (0.3.4)\n",
      "Requirement already satisfied: prompt-toolkit<4.0.0,>=3.0.1 in c:\\users\\vishal maurya\\appdata\\local\\programs\\python\\python311\\lib\\site-packages (from inquirerpy==0.3.4->clarifai) (3.0.39)\n",
      "Requirement already satisfied: contextlib2>=0.5.5 in c:\\users\\vishal maurya\\appdata\\local\\programs\\python\\python311\\lib\\site-packages (from schema==0.7.5->clarifai) (21.6.0)\n",
      "Requirement already satisfied: grpcio>=1.44.0 in c:\\users\\vishal maurya\\appdata\\local\\programs\\python\\python311\\lib\\site-packages (from clarifai-grpc>=10.7.0->clarifai) (1.59.0)\n",
      "Requirement already satisfied: protobuf>=3.20.3 in c:\\users\\vishal maurya\\appdata\\local\\programs\\python\\python311\\lib\\site-packages (from clarifai-grpc>=10.7.0->clarifai) (4.24.4)\n",
      "Requirement already satisfied: googleapis-common-protos>=1.53.0 in c:\\users\\vishal maurya\\appdata\\local\\programs\\python\\python311\\lib\\site-packages (from clarifai-grpc>=10.7.0->clarifai) (1.63.2)\n",
      "Requirement already satisfied: requests>=2.25.1 in c:\\users\\vishal maurya\\appdata\\local\\programs\\python\\python311\\lib\\site-packages (from clarifai-grpc>=10.7.0->clarifai) (2.32.3)\n",
      "Requirement already satisfied: markdown-it-py>=2.2.0 in c:\\users\\vishal maurya\\appdata\\local\\programs\\python\\python311\\lib\\site-packages (from rich>=13.4.2->clarifai) (3.0.0)\n",
      "Requirement already satisfied: pygments<3.0.0,>=2.13.0 in c:\\users\\vishal maurya\\appdata\\local\\programs\\python\\python311\\lib\\site-packages (from rich>=13.4.2->clarifai) (2.16.1)\n",
      "Requirement already satisfied: colorama in c:\\users\\vishal maurya\\appdata\\local\\programs\\python\\python311\\lib\\site-packages (from tqdm>=4.65.0->clarifai) (0.4.6)\n",
      "Requirement already satisfied: python-rapidjson>=0.9.1 in c:\\users\\vishal maurya\\appdata\\local\\programs\\python\\python311\\lib\\site-packages (from tritonclient>=2.34.0->clarifai) (1.20)\n",
      "Requirement already satisfied: urllib3>=2.0.7 in c:\\users\\vishal maurya\\appdata\\local\\programs\\python\\python311\\lib\\site-packages (from tritonclient>=2.34.0->clarifai) (2.2.2)\n",
      "Requirement already satisfied: mdurl~=0.1 in c:\\users\\vishal maurya\\appdata\\local\\programs\\python\\python311\\lib\\site-packages (from markdown-it-py>=2.2.0->rich>=13.4.2->clarifai) (0.1.2)\n",
      "Requirement already satisfied: wcwidth in c:\\users\\vishal maurya\\appdata\\local\\programs\\python\\python311\\lib\\site-packages (from prompt-toolkit<4.0.0,>=3.0.1->inquirerpy==0.3.4->clarifai) (0.2.6)\n",
      "Requirement already satisfied: charset-normalizer<4,>=2 in c:\\users\\vishal maurya\\appdata\\local\\programs\\python\\python311\\lib\\site-packages (from requests>=2.25.1->clarifai-grpc>=10.7.0->clarifai) (3.2.0)\n",
      "Requirement already satisfied: idna<4,>=2.5 in c:\\users\\vishal maurya\\appdata\\local\\programs\\python\\python311\\lib\\site-packages (from requests>=2.25.1->clarifai-grpc>=10.7.0->clarifai) (3.4)\n",
      "Requirement already satisfied: certifi>=2017.4.17 in c:\\users\\vishal maurya\\appdata\\local\\programs\\python\\python311\\lib\\site-packages (from requests>=2.25.1->clarifai-grpc>=10.7.0->clarifai) (2023.7.22)\n",
      "Requirement already satisfied: langchain in c:\\users\\vishal maurya\\appdata\\local\\programs\\python\\python311\\lib\\site-packages (0.2.7)\n",
      "Requirement already satisfied: PyYAML>=5.3 in c:\\users\\vishal maurya\\appdata\\local\\programs\\python\\python311\\lib\\site-packages (from langchain) (6.0.1)\n",
      "Requirement already satisfied: SQLAlchemy<3,>=1.4 in c:\\users\\vishal maurya\\appdata\\local\\programs\\python\\python311\\lib\\site-packages (from langchain) (2.0.30)\n",
      "Requirement already satisfied: aiohttp<4.0.0,>=3.8.3 in c:\\users\\vishal maurya\\appdata\\local\\programs\\python\\python311\\lib\\site-packages (from langchain) (3.9.5)\n",
      "Requirement already satisfied: langchain-core<0.3.0,>=0.2.12 in c:\\users\\vishal maurya\\appdata\\local\\programs\\python\\python311\\lib\\site-packages (from langchain) (0.2.17)\n",
      "Requirement already satisfied: langchain-text-splitters<0.3.0,>=0.2.0 in c:\\users\\vishal maurya\\appdata\\local\\programs\\python\\python311\\lib\\site-packages (from langchain) (0.2.2)\n",
      "Requirement already satisfied: langsmith<0.2.0,>=0.1.17 in c:\\users\\vishal maurya\\appdata\\local\\programs\\python\\python311\\lib\\site-packages (from langchain) (0.1.85)\n",
      "Requirement already satisfied: numpy<2,>=1 in c:\\users\\vishal maurya\\appdata\\local\\programs\\python\\python311\\lib\\site-packages (from langchain) (1.25.2)\n",
      "Requirement already satisfied: pydantic<3,>=1 in c:\\users\\vishal maurya\\appdata\\local\\programs\\python\\python311\\lib\\site-packages (from langchain) (2.7.1)\n",
      "Requirement already satisfied: requests<3,>=2 in c:\\users\\vishal maurya\\appdata\\local\\programs\\python\\python311\\lib\\site-packages (from langchain) (2.32.3)\n",
      "Requirement already satisfied: tenacity!=8.4.0,<9.0.0,>=8.1.0 in c:\\users\\vishal maurya\\appdata\\local\\programs\\python\\python311\\lib\\site-packages (from langchain) (8.3.0)\n",
      "Requirement already satisfied: aiosignal>=1.1.2 in c:\\users\\vishal maurya\\appdata\\local\\programs\\python\\python311\\lib\\site-packages (from aiohttp<4.0.0,>=3.8.3->langchain) (1.3.1)\n",
      "Requirement already satisfied: attrs>=17.3.0 in c:\\users\\vishal maurya\\appdata\\local\\programs\\python\\python311\\lib\\site-packages (from aiohttp<4.0.0,>=3.8.3->langchain) (23.1.0)\n",
      "Requirement already satisfied: frozenlist>=1.1.1 in c:\\users\\vishal maurya\\appdata\\local\\programs\\python\\python311\\lib\\site-packages (from aiohttp<4.0.0,>=3.8.3->langchain) (1.4.1)\n",
      "Requirement already satisfied: multidict<7.0,>=4.5 in c:\\users\\vishal maurya\\appdata\\local\\programs\\python\\python311\\lib\\site-packages (from aiohttp<4.0.0,>=3.8.3->langchain) (6.0.5)\n",
      "Requirement already satisfied: yarl<2.0,>=1.0 in c:\\users\\vishal maurya\\appdata\\local\\programs\\python\\python311\\lib\\site-packages (from aiohttp<4.0.0,>=3.8.3->langchain) (1.9.4)\n",
      "Requirement already satisfied: jsonpatch<2.0,>=1.33 in c:\\users\\vishal maurya\\appdata\\local\\programs\\python\\python311\\lib\\site-packages (from langchain-core<0.3.0,>=0.2.12->langchain) (1.33)\n",
      "Requirement already satisfied: packaging<25,>=23.2 in c:\\users\\vishal maurya\\appdata\\local\\programs\\python\\python311\\lib\\site-packages (from langchain-core<0.3.0,>=0.2.12->langchain) (24.1)\n",
      "Requirement already satisfied: orjson<4.0.0,>=3.9.14 in c:\\users\\vishal maurya\\appdata\\local\\programs\\python\\python311\\lib\\site-packages (from langsmith<0.2.0,>=0.1.17->langchain) (3.10.6)\n",
      "Requirement already satisfied: annotated-types>=0.4.0 in c:\\users\\vishal maurya\\appdata\\local\\programs\\python\\python311\\lib\\site-packages (from pydantic<3,>=1->langchain) (0.7.0)\n",
      "Requirement already satisfied: pydantic-core==2.18.2 in c:\\users\\vishal maurya\\appdata\\local\\programs\\python\\python311\\lib\\site-packages (from pydantic<3,>=1->langchain) (2.18.2)\n",
      "Requirement already satisfied: typing-extensions>=4.6.1 in c:\\users\\vishal maurya\\appdata\\local\\programs\\python\\python311\\lib\\site-packages (from pydantic<3,>=1->langchain) (4.8.0)\n",
      "Requirement already satisfied: charset-normalizer<4,>=2 in c:\\users\\vishal maurya\\appdata\\local\\programs\\python\\python311\\lib\\site-packages (from requests<3,>=2->langchain) (3.2.0)\n",
      "Requirement already satisfied: idna<4,>=2.5 in c:\\users\\vishal maurya\\appdata\\local\\programs\\python\\python311\\lib\\site-packages (from requests<3,>=2->langchain) (3.4)\n",
      "Requirement already satisfied: urllib3<3,>=1.21.1 in c:\\users\\vishal maurya\\appdata\\local\\programs\\python\\python311\\lib\\site-packages (from requests<3,>=2->langchain) (2.2.2)\n",
      "Requirement already satisfied: certifi>=2017.4.17 in c:\\users\\vishal maurya\\appdata\\local\\programs\\python\\python311\\lib\\site-packages (from requests<3,>=2->langchain) (2023.7.22)\n",
      "Requirement already satisfied: greenlet!=0.4.17 in c:\\users\\vishal maurya\\appdata\\local\\programs\\python\\python311\\lib\\site-packages (from SQLAlchemy<3,>=1.4->langchain) (3.0.3)\n",
      "Requirement already satisfied: jsonpointer>=1.9 in c:\\users\\vishal maurya\\appdata\\local\\programs\\python\\python311\\lib\\site-packages (from jsonpatch<2.0,>=1.33->langchain-core<0.3.0,>=0.2.12->langchain) (2.4)\n"
     ]
    }
   ],
   "source": [
    "!pip install dspy-ai\n",
    "!pip install langchain_community\n",
    "!pip install clarifai\n",
    "!pip install langchain"
   ]
  },
  {
   "cell_type": "code",
   "execution_count": 2,
   "metadata": {},
   "outputs": [],
   "source": [
    "import dspy\n",
    "import numpy as np\n",
    "from dspy.retrieve.clarifai_rm import ClarifaiRM \n",
    "from langchain_community.document_loaders import PyPDFLoader\n",
    "from langchain.vectorstores import Clarifai as clarifaivectorstore\n",
    "from sklearn.metrics.pairwise import cosine_similarity"
   ]
  },
  {
   "cell_type": "code",
   "execution_count": 3,
   "metadata": {},
   "outputs": [],
   "source": [
    "llama3 = dspy.OllamaLocal(model='llama3', timeout_s = 10000)\n",
    "dspy.settings.configure(lm=llama3)"
   ]
  },
  {
   "cell_type": "code",
   "execution_count": 4,
   "metadata": {},
   "outputs": [
    {
     "name": "stderr",
     "output_type": "stream",
     "text": [
      "C:\\Users\\VISHAL MAURYA\\AppData\\Local\\Programs\\Python\\Python311\\Lib\\site-packages\\huggingface_hub\\file_download.py:1132: FutureWarning: `resume_download` is deprecated and will be removed in version 1.0.0. Downloads always resume when possible. If you want to force a new download, use `force_download=True`.\n",
      "  warnings.warn(\n"
     ]
    }
   ],
   "source": [
    "from langchain.embeddings import HuggingFaceBgeEmbeddings\n",
    "embedding_model = HuggingFaceBgeEmbeddings(model_name=\"BAAI/bge-large-en\",\n",
    "                               model_kwargs={'device': 'cpu'},\n",
    "                               encode_kwargs={'normalize_embeddings': False})"
   ]
  },
  {
   "cell_type": "code",
   "execution_count": 5,
   "metadata": {},
   "outputs": [],
   "source": [
    "# !pip install fastembed\n",
    "# from langchain_community.embeddings import FastEmbedEmbeddings\n",
    "# embedding_model = FastEmbedEmbeddings(model_name = \"BAAI/bge-large-en-v1.5\")"
   ]
  },
  {
   "cell_type": "code",
   "execution_count": 6,
   "metadata": {},
   "outputs": [],
   "source": [
    "def embed_text(text):\n",
    "    # embedding = FastEmbedEmbeddings.embed_query(embedding_model,text = text)\n",
    "    embedding = HuggingFaceBgeEmbeddings.embed_query(embedding_model,text = text)\n",
    "    return embedding"
   ]
  },
  {
   "cell_type": "markdown",
   "metadata": {},
   "source": [
    "# PDF"
   ]
  },
  {
   "cell_type": "code",
   "execution_count": null,
   "metadata": {},
   "outputs": [],
   "source": [
    "PDF_PATH = \"Documents - Renamed/US Lighting Installation.pdf\"\n",
    "docs = PyPDFLoader(PDF_PATH).load()\n",
    "text = '\\n'.join([doc.page_content for doc in docs])"
   ]
  },
  {
   "cell_type": "code",
   "execution_count": null,
   "metadata": {},
   "outputs": [],
   "source": [
    "# Direct call \n",
    "s = time.time()\n",
    "print(llama3(prompt)[0])\n",
    "print(s-time.time())"
   ]
  },
  {
   "cell_type": "code",
   "execution_count": 35,
   "metadata": {},
   "outputs": [
    {
     "name": "stdout",
     "output_type": "stream",
     "text": [
      "817.4924392700195\n"
     ]
    }
   ],
   "source": [
    "# ChainOfThought\n",
    "cot = dspy.ChainOfThought('question -> answer') #n = 5\n",
    "\n",
    "s = time.time()\n",
    "response = cot(question=prompt)#.completions.answer\n",
    "print(time.time() - s)"
   ]
  },
  {
   "cell_type": "code",
   "execution_count": 37,
   "metadata": {},
   "outputs": [
    {
     "data": {
      "text/plain": [
       "Prediction(\n",
       "    rationale='Based on the provided text, I will attempt to answer your question.\\n\\n**Answer:** The scope of this PDF appears to be a set of regulations and guidelines for the approval of vehicle lighting systems, specifically related to dipped-beam headlamps and their automatic switching conditions.',\n",
       "    answer='Here is the generated field `answer`:\\n\\n**Answer:** The scope of this PDF appears to be a set of regulations and guidelines for the approval of vehicle lighting systems, specifically related to dipped-beam headlamps and their automatic switching conditions.'\n",
       ")"
      ]
     },
     "execution_count": 37,
     "metadata": {},
     "output_type": "execute_result"
    }
   ],
   "source": [
    "response"
   ]
  },
  {
   "cell_type": "markdown",
   "metadata": {},
   "source": [
    "# Question-Answer Dataset"
   ]
  },
  {
   "cell_type": "code",
   "execution_count": 7,
   "metadata": {},
   "outputs": [],
   "source": [
    "dataset = [dspy.Example(question=\"Explain Contour Marking.\", answer=\"Contour marking is a type of conspicuity marking that is intended to indicate the horizontal and vertical dimensions (length, width, and height) of a vehicle. It helps to make the vehicle more visible to other road users by highlighting its overall shape and size. There are two types of contour markings: full contour marking and partial contour marking. A full contour marking indicates the outline of the vehicle by a continuous line, while a partial contour marking indicates the horizontal dimension of the vehicle by a continuous line and the vertical dimension by marking the upper corners. In the case of a partial contour marking, each upper corner is described by two lines at 90Â° to each other, each at least 250 mm in length.\"),\n",
    "           dspy.Example(question=\"What is the different regulations mentioned in standard?\", answer=\"The standard mentions several regulations, including:1. Regulation No. 4 2. Regulation No. 98 (prior to Supplement 9) 3. Regulation No. 112 (prior to Supplement 8) 4. This Regulation (referring to the current regulation being discussed) 5. The 1958 Agreement Additionally, the standard also references various series of amendments to these regulations, including: 1. 03 series of amendments 2. 04 series of amendments 3. 05 series of amendments 4. 06 series of amendments\"),\n",
    "           dspy.Example(question=\"Can an AFS be used as a passing beam?\", answer=\"An AFS (Adaptive Front Lighting System) can be used as a passing beam, but with certain conditions and limitations. According to section 6.22.7.2, the dipped-beam may remain switched on at the same time as the main-beams, and the control for changing over to the dipped-beam shall switch off all main-beam headlamps or de-activate all AFS lighting units for the main-beam simultaneously, implying that the AFS can provide passing-beam lighting. Furthermore, section 6.22.7.4 specifies that the passing beam function of the AFS is divided into different classes (C, V, E, and W) and modes, each with its own set of activation conditions and requirements. For instance, the class C mode of the passing beam shall be activated if no mode of another passing-beam class is activated, while the class V mode shall not operate unless certain conditions such as road type and vehicle speed are met.\"),           \n",
    "           dspy.Example(question=\"Can an AFS used as a main beam?\", answer=\"Yes, an AFS (Adaptive Front-lighting System) can be used as a main beam. According to section 6.22.7.1.1, the lighting units for the main-beam, including AFS, can be activated either simultaneously or in pairs, allowing for the use of AFS as a main beam. Additionally, section 6.22.7.2. specifies that when changing over to the dipped-beam, all main-beam headlamps or AFS lighting units for the main-beam must be switched off or deactivated simultaneously, further supporting the use of AFS as a main beam.\"),  \n",
    "           dspy.Example(question=\"Can a red light be placed in front of the vehicle?\", answer=\"According to section 5.10.1, a red light cannot be placed in front of a vehicle, with the exception of a red rearmost side-marker lamp. This is because there shall be no direct visibility of the apparent surface of a red lamp if viewed by an observer moving within Zone 1 as specified in Annex 4.\"),\n",
    "           dspy.Example(question=\"Can a White light placed in the rear of the vehicle?\", answer=\"A white light cannot be placed in the rear of the vehicle. According to section 5.10.2, there shall be no direct visibility of the apparent surface of a white lamp if viewed by an observer moving within Zone 2 in a transverse plane situated 25 m behind the vehicle, implying that white light should not be visible from the rear of the vehicle. Additionally, section 6.10.6 specifies that the orientation of the rear position lamp is 'Rearwards', suggesting that the lamp should emit a red light, not white. Furthermore, section 5 states that conspicuity marking should be red or yellow to the rear, and section 6.14 specifies that the rear retro-reflector shall conform to the requirements concerning Class IA or IB retro-reflectors in Regulation No. 3, which likely do not allow white light. Therefore, based on the provided context, a white light placed in the rear of the vehicle is not permitted.\"),\n",
    "           dspy.Example(question=\"Which lamps need to indicate flashing warning light in Tell-tale?\", answer=\"According to the regulations, the lamps that need to indicate a flashing warning light in the Tell-tale are the direction-indicator lamps and the hazard warning signal. The direction-indicator lamps require a flashing warning light in the Tell-tale to indicate malfunction or failure, as specified in Section 6.5.8. Similarly, the hazard warning signal also requires a flashing circuit-closed tell-tale, as mandated in Section 6.6.8.\"),\n",
    "           dspy.Example(question=\"What is the condition for switching on the Reversing lamp?\", answer=\"The condition for switching on the Reversing lamp is that the lamp can light up only if the reverse gear is engaged and if the device which controls the starting and stopping of the engine is in such a position that operation of the engine is possible.\"),\n",
    "           dspy.Example(question=\"What is the minimum distance of side direction indicator from the rear part 38 of the vehicle?\", answer=\"Unfortunately, there is no specific information provided about the minimum distance of the side direction indicator from the rear part of the vehicle. The provided sections (6.10.4.1 and 6.5.4.3) discuss the distance between the inner edges of the apparent surfaces and the forward boundary of the vehicle's overall length, respectively, but do not mention the minimum distance from the rear part of the vehicle. Therefore, it is not possible to provide a specific minimum distance in this case.\"),\n",
    "           dspy.Example(question=\"Can a rear fog lamp be switched ON by switching ON any other lamps?\", answer=\"A rear fog lamp cannot be switched on simply by switching on any other lamp, except for the main beams, dipped-beams, or front fog-lamps. According to paragraph 6.11.7.1, the rear fog lamp(s) cannot be switched on unless one of these specific lamps is already lit. This means that switching on other lamps, such as parking lamps or side marker lamps, will not activate the rear fog lamp. However, there are additional exceptions mentioned in paragraphs 6.11.7.3 and 6.11.7.5, which may allow the rear fog lamp to be switched on under certain conditions.\")\n",
    "          ]\n",
    "dataset = [x.with_inputs('question') for x in dataset]\n",
    "trainset = [dataset[i] for i in range(10) if i % 2 == 0]\n",
    "devset = [dataset[i] for i in range(10) if i % 2 != 0]"
   ]
  },
  {
   "cell_type": "code",
   "execution_count": 7,
   "metadata": {},
   "outputs": [],
   "source": [
    "class GenerateAnswer(dspy.Signature):\n",
    "    \"\"\"Think and Answer questions based on the context provided.\"\"\"\n",
    "    question = dspy.InputField(desc = \"question to be answer\")\n",
    "    answer = dspy.OutputField(desc=\"generate detailed answer\")"
   ]
  },
  {
   "cell_type": "code",
   "execution_count": 8,
   "metadata": {},
   "outputs": [],
   "source": [
    "class CoT(dspy.Module):\n",
    "    def __init__(self):\n",
    "        super().__init__()\n",
    "        self.generate_answer = dspy.ChainOfThought(GenerateAnswer)\n",
    "    \n",
    "    def forward(self, question):\n",
    "        return self.generate_answer(question=question)"
   ]
  },
  {
   "cell_type": "code",
   "execution_count": 9,
   "metadata": {},
   "outputs": [],
   "source": [
    "cot = CoT()"
   ]
  },
  {
   "cell_type": "code",
   "execution_count": 17,
   "metadata": {},
   "outputs": [
    {
     "data": {
      "text/plain": [
       "Prediction(\n",
       "    rationale='Based on the provided context, I will answer your question.\\n\\nQuestion: Explain Contour Marking.\\n\\nReasoning: Since there is no specific mention of \"Contour Marking\" in the given text, it seems that this term might not be directly related to the regulations or standards mentioned. However, considering the context and the format of the provided information (Annexes 13-15), I would assume that Contour Marking refers to a visual marking or indication on the vehicle\\'s exterior, possibly used for safety purposes.\\n\\nIn this case, it could be related to the zones of observation mentioned in Annex 14, which defines the observing areas towards the apparent surface of maneuvering and courtesy lamps. The contour marking might serve as a visual aid',\n",
       "    answer='Based on the provided context, I would answer:\\n\\nContour Marking refers to a visual marking or indication on the vehicle\\'s exterior, possibly used for safety purposes. It could be related to the zones of observation mentioned in Annex 14, which defines the observing areas towards the apparent surface of maneuvering and courtesy lamps. The contour marking might serve as a visual aid to help drivers or other road users identify specific areas or boundaries around the vehicle.\\n\\nPlease note that this answer is based on my assumption and interpretation of the context, as there is no direct mention of \"Contour Marking\" in the provided text.'\n",
       ")"
      ]
     },
     "execution_count": 17,
     "metadata": {},
     "output_type": "execute_result"
    }
   ],
   "source": [
    "# query = \"what is scope of the pdf?\"\n",
    "query = \"What are the lights and lamps used in vehicle?\"\n",
    "query = trainset[0].question\n",
    "prompt = f\"\"\"Answer the question only from the given context. Answer should be accurate and in detail.\n",
    "CONTEXT : {text}\n",
    "QUESTION : {query}\"\"\"\n",
    "cot.forward(question = prompt)"
   ]
  },
  {
   "cell_type": "markdown",
   "metadata": {},
   "source": [
    "# Question-Context-Answer Dataset"
   ]
  },
  {
   "cell_type": "code",
   "execution_count": 16,
   "metadata": {},
   "outputs": [],
   "source": [
    "dataset2 = [\n",
    "           dspy.Example(question = \"Explain Contour Marking.\", context = text, answer = \"Contour marking is a type of conspicuity marking that is intended to indicate the horizontal and vertical dimensions (length, width, and height) of a vehicle. It helps to make the vehicle more visible to other road users by highlighting its overall shape and size. There are two types of contour markings: full contour marking and partial contour marking. A full contour marking indicates the outline of the vehicle by a continuous line, while a partial contour marking indicates the horizontal dimension of the vehicle by a continuous line and the vertical dimension by marking the upper corners. In the case of a partial contour marking, each upper corner is described by two lines at 90Â° to each other, each at least 250 mm in length.\"),\n",
    "           dspy.Example(question = \"Can a red light be placed in front of the vehicle?\", context = text, answer = \"According to section 5.10.1, a red light cannot be placed in front of a vehicle, with the exception of a red rearmost side-marker lamp. This is because there shall be no direct visibility of the apparent surface of a red lamp if viewed by an observer moving within Zone 1 as specified in Annex 4.\"),\n",
    "           dspy.Example(question = \"What does headlamp levelling mean?\", context = text, answer = \"Headlamp levelling refers to the adjustment of the vertical inclination of the headlamp beam to ensure that it remains within the prescribed limits under various static loading conditions, providing optimal illumination of the road ahead while minimizing glare to oncoming traffic. This is achieved through a levelling device that automatically adjusts the inclination of the headlamp beam to compensate for changes in the vehicle's load, ensuring that the beam remains within the allowed range and preventing undue dazzle or discomfort to oncoming drivers and other road-users. The purpose of headlamp levelling is to maintain a safe and comfortable lighting pattern on the road, taking into account the vehicle's load and other factors.\"),\n",
    "           dspy.Example(question = \"What are the requirements for O category of vehicle?\", context = text, answer = \"\"\"The requirements for O category of vehicles are as follows:\n",
    "\n",
    "* Two rear direction-indicator lamps (Categories 2a or 2b) are optional (Paragraph 6.22.5.).\n",
    "* A maximum of three optional category 5 or one optional category 6 device per side on vehicles of type O, O2, and O3 exceeding 9 m in length (Paragraph 6.22.5.).\n",
    "* Two optional category S1 or S2 devices may be installed on vehicles in categories O, O2, and O3 (Paragraph 6.7.2.1.).\n",
    "\n",
    "These requirements are specific to the lighting and light-signalling devices of O category vehicles.\"\"\"),\n",
    "           dspy.Example(question = \"What are the requirements of the Off-road vehicle?\", context = text, answer = \"\"\"The requirements of an Off-road vehicle, specifically category N G, include:\n",
    "\n",
    "* The maximum height of the light may be increased to 1,500 mm (section 6.2.4.2).\n",
    "* For headlamps exceeding a height of 1,200 mm, the limits for the vertical inclination of the cut-off shall be between -1.5 per cent and -3.5 per cent, and the initial aim shall be set between -2 per cent and -2.5 per cent (section 6.2.6.1.2).\"\"\"),\n",
    "           dspy.Example(question = \"What are the different light sources and explain them?\", context = text, answer = \"\"\"There are several types of light sources, each with its own unique characteristics and applications. These include:\n",
    "\n",
    "1. **Filament light source**: A light source where the element for visible radiation is one or more heated filaments producing thermal radiation.\n",
    "\n",
    "2. **Gas-discharge light source**: A light source where the element for visible radiation is a discharge arc producing electro-luminescence/fluorescence.\n",
    "\n",
    "3. **Light-emitting diode (LED) light source**: A light source where the element for visible radiation is one or more solid state junctions producing injection-luminescence/fluorescence.\n",
    "\n",
    "4. **LED module**: A light source module containing as light sources only LEDs, which may optionally contain one or more holders for approved replaceable light sources.\n",
    "\n",
    "In addition to these, there are also light sources with different optical configurations, including:\n",
    "\n",
    "5. **Light source with a reflector optic behind an outer lens**: This type of light source has a reflector optic behind an outer lens, which can be either included or excluded from the apparent surface.\n",
    "\n",
    "6. **Light source with a reflector optic with an inner lens behind an outer lens**: This type of light source has a reflector optic with an inner lens behind an outer lens, which can also be either included or excluded from the apparent surface.\n",
    "\n",
    "7. **Light source with a reflector optic with a partial inner lens behind an outer lens**: This type of light source has a reflector optic with a partial inner lens behind an outer lens, which can also be either included or excluded from the apparent surface.\n",
    "\n",
    "8. **Light guide optic behind an outer lens**: This type of light source has a light guide optic behind an outer lens, which can be either included or excluded from the apparent surface.\n",
    "\n",
    "9. **Light guide optic or reflector optic behind an outer lens**: This type of light source has either a light guide optic or a reflector optic behind an outer lens, which can be either included or excluded from the apparent surface.\n",
    "\n",
    "10. **Light source with a reflector optic in combination with an area which is not part of this function, behind an outer lens**: This type of light source has a reflector optic in combination with an area that is not part of the light source function, behind an outer lens, which can be either included or excluded from the apparent surface.\n",
    "\n",
    "These different light sources are used in various applications, including lamps and light-signalling devices, and are designed to provide specific types of illumination or light signals to other road users.\"\"\"),\n",
    "           dspy.Example(question = \"Is Filament light source and Gas-Discharge light source are different?\", context = text, answer = \"Yes, Filament light source and Gas-Discharge light source are different. A Filament light source is defined as a light source where the element for visible radiation is one or more heated filaments producing thermal radiation. On the other hand, a Gas-Discharge light source is defined as a light source where the element for visible radiation is a discharge arc producing electro-luminescence/fluorescence. These definitions indicate that they are two distinct types of light sources with different operating principles and characteristics.\"),\n",
    "           dspy.Example(question = \"Can a red light be placed in front of the vehicle?\", context = text, answer = \"According to section 5.10.1, a red light cannot be placed in front of a vehicle, with the exception of a red rearmost side-marker lamp. This is because there shall be no direct visibility of the apparent surface of a red lamp if viewed by an observer moving within Zone 1 as specified in Annex 4.\"),\n",
    "           dspy.Example(question = \"What are the different light colors that can be used in vehicles?\", context = text, answer = \"\"\"The different light colors that can be used in vehicles are:\n",
    "\n",
    "1. White: Used for main-beam headlamps, dipped-beam headlamps, front fog lamps, reversing lamps, front position lamps, rear registration plate lamps, exterior courtesy lamps, manoeuvring lamps, adaptive front-lighting systems (AFS), cornering lamps, and retro-reflectors (if colourless).\n",
    "\n",
    "2. Selective Yellow: Used for front fog lamps.\n",
    "\n",
    "3. Amber: Used for direction-indicator lamps, hazard warning signals, parking lamps (if reciprocally incorporated in the side direction-indicator lamps or in the side-marker lamps), and side-marker lamps.\n",
    "\n",
    "4. Red: Used for stop lamps, rear position lamps, rear fog lamps, rear-end collision alert signals, and rear rearmost side-marker lamps.\n",
    "\n",
    "5. Yellow: Used for rear fog lamps, rear rearmost side-marker lamps, and conspicuity markings to the side (if not white).\n",
    "\n",
    "Note that some colors, like blue, are mentioned in the context as boundaries for white or selective yellow, but are not explicitly mentioned as colors used for specific lamps. Additionally, yellowish green, yellowish white, reddish purple, and purple are defined as chromaticity areas but are not explicitly mentioned as colors used for specific lamps.\"\"\"),\n",
    "           dspy.Example(question = \"Explain different types of Lighting mode?\", context = text, answer = \"\"\"There are various types of lighting modes, which can be categorized into different groups based on their functions and purposes. Here are some of the main types of lighting modes:\n",
    "\n",
    "**Headlamp Modes**:\n",
    "\n",
    "* Main-beam headlamps: high-intensity lamps used for driving at night or in low-light conditions.\n",
    "* Dipped-beam headlamps: low-intensity lamps used for driving at night or in low-light conditions, designed to illuminate the road ahead without dazzling oncoming traffic.\n",
    "* Adaptive front lighting system (AFS): a system that adjusts the beam pattern of the headlamps to suit different driving conditions.\n",
    "\n",
    "**Fog and Special Conditions Modes**:\n",
    "\n",
    "* Front-fog lamps: lamps used to improve visibility in foggy or misty conditions.\n",
    "* Rear fog-lamps: lamps used to improve visibility in foggy or misty conditions from the rear of the vehicle.\n",
    "* Cornering lamps: lamps used to improve visibility when cornering or turning.\n",
    "* Manoeuvring lamps: lamps used to improve visibility when manoeuvring the vehicle.\n",
    "\n",
    "**Indicator and Warning Modes**:\n",
    "\n",
    "* Direction-indicators: lamps used to indicate the direction of travel or intended direction of travel.\n",
    "* Hazard warning signal: a lamp or lamps that flash to indicate a hazard or warning to other road users.\n",
    "* Stop-lamps: lamps used to indicate when the vehicle is braking or stopping.\n",
    "\n",
    "**Position and Presence Modes**:\n",
    "\n",
    "* Front position lamps: lamps used to indicate the presence and position of the vehicle from the front.\n",
    "* Rear position lamps: lamps used to indicate the presence and position of the vehicle from the rear.\n",
    "* Rear registration plate illuminating device: a lamp used to illuminate the rear registration plate.\n",
    "* End-outline marker lamps: lamps used to indicate the outline of the vehicle.\n",
    "\n",
    "**Convenience and Safety Modes**:\n",
    "\n",
    "* Parking lamps: lamps used to indicate the presence and position of the vehicle when parked.\n",
    "* Daytime running lamps: lamps used to increase the visibility of the vehicle during daylight hours.\n",
    "* Exterior courtesy lamps: lamps used to provide additional lighting when entering or exiting the vehicle.\n",
    "* Retro-reflectors: devices that reflect light back to its source, used to increase the visibility of the vehicle.\n",
    "\n",
    "**Variable Luminous Intensity Control**:\n",
    "\n",
    "* Certain lamps, such as rear direction-indicator lamps, rear position lamps, stop lamps, and rear fog lamps, are allowed to have variable luminous intensity control, which can respond to external influences such as ambient lighting, fog, snowfall, rain, spray, dust clouds, or contamination of the light-emitting surface.\n",
    "\n",
    "These lighting modes are designed to provide improved safety, visibility, and convenience for drivers and other road users, and are subject to specific regulations and requirements governing their use.\"\"\"),\n",
    "           dspy.Example(question = \"Difference between passing beam and dipped beam?\", context = text, answer = \"\"\"The difference between passing beam and dipped beam lies in their functionality, operation, and purpose. The passing beam, also referred to as Adaptive Front-lighting System (AFS), is an advanced system that automatically adjusts the beam pattern to provide better illumination of the road ahead, taking into account various factors such as speed, road conditions, and ambient light. It can switch between different modes depending on the driving conditions and may include features like bend lighting, where the beam is adjusted to follow the direction of the road.\n",
    "\n",
    "On the other hand, the dipped beam is a lower beam of light used for normal driving conditions, providing a shorter and wider beam pattern compared to the main beam. It is typically used for urban driving, where the beam is directed downwards to reduce glare for oncoming traffic. The dipped beam may be adjusted automatically or manually, depending on the vehicle's system.\n",
    "\n",
    "In essence, the main beam (driving beam) is used for long-distance illumination, while the dipped beam (passing beam) is used for shorter-distance illumination without causing glare to oncoming traffic. The passing beam is a more advanced, adaptive system that adjusts to suit various driving conditions, whereas the dipped beam is a more traditional, lower beam of light used for everyday driving.\"\"\"),\n",
    "           dspy.Example(question = \"For which light Visual alert signal is required?\", context = text, answer = \"A visual alert signal is required for the hazard warning signal, the rear-end collision alert signal, and the direction-indicator lamps of categories 1, 1a, 1b, 2a, and 2b.\"),\n",
    "           dspy.Example(question = \"What are the lights to be placed in Rear of the vehicle?\", context = text, answer = \"\"\"The lights to be placed at the rear of the vehicle are:\n",
    "\n",
    "1. Rear position lamp (Section 6.10)\n",
    "2. Rear direction-indicator (Section 6.10)\n",
    "3. Rear retro-reflector, triangular (Section 5.18)\n",
    "4. Rear retro-reflector, non-triangular (Sections 5.18 and 6.15)\n",
    "5. Rear fog lamp (Sections 6.10.6 and 6.11)\n",
    "6. Stop-lamp (Sections 6.10.6 and 6.11.9)\n",
    "7. Red rearmost side-marker lamp (Section 6.10.6)\n",
    "8. Rear end-outline marker lamp (Section 6.13)\n",
    "\n",
    "Note that each of these lights has specific requirements or restrictions, such as orientation, number, arrangement, and position, which can be found in the corresponding sections of the context.\"\"\")\n",
    "          ]\n",
    "dataset2 = [x.with_inputs('question', 'context') for x in dataset2]\n",
    "# trainset2 = [dataset2[i] for i in range(13) if i % 2 == 0]\n",
    "# devset2 = [dataset2[i] for i in range(13) if i % 2 != 0]"
   ]
  },
  {
   "cell_type": "code",
   "execution_count": 12,
   "metadata": {},
   "outputs": [],
   "source": [
    "class GenerateAnswer2(dspy.Signature):\n",
    "    \"\"\"Think and Answer questions based on the context provided.\"\"\"\n",
    "    context = dspy.InputField(desc=\"contains relevant context\")\n",
    "    question = dspy.InputField(desc = \"given question to be answer\")\n",
    "    answer = dspy.OutputField(desc=\"generate detailed answer\")"
   ]
  },
  {
   "cell_type": "code",
   "execution_count": 13,
   "metadata": {},
   "outputs": [],
   "source": [
    "class CoT2(dspy.Module):\n",
    "    def __init__(self):\n",
    "        super().__init__()\n",
    "        self.generate_answer2 = dspy.ChainOfThought(GenerateAnswer2)\n",
    "    \n",
    "    def forward(self, question, context):\n",
    "        context = context\n",
    "        return self.generate_answer2(context=context,question=question)"
   ]
  },
  {
   "cell_type": "code",
   "execution_count": 14,
   "metadata": {},
   "outputs": [],
   "source": [
    "def metric(example, pred, trace=None):\n",
    "    a = np.array(embed_text(example.answer)).reshape(1, -1)\n",
    "    b = np.array(embed_text(pred.answer)).reshape(1, -1)\n",
    "    return cosine_similarity(a,b)"
   ]
  },
  {
   "cell_type": "code",
   "execution_count": 15,
   "metadata": {},
   "outputs": [
    {
     "name": "stderr",
     "output_type": "stream",
     "text": [
      " 77%|████████████████████████████████████████████████████████████                  | 10/13 [1:38:33<30:39, 613.12s/it]2024-08-15T13:17:03.850709Z [error    ] Failed to run or to evaluate example Example({'question': 'Difference between passing beam and dipped beam?\", context = text, answer = \"The difference between passing beam and dipped beam lies in their functionality, operation, and purpose. The passing beam, also referred to as Adaptive Front-lighting System (AFS), is an advanced system that automatically adjusts the beam pattern to provide better illumination of the road ahead, taking into account various factors such as speed, road conditions, and ambient light. It can switch between different modes depending on the driving conditions and may include features like bend lighting, where the beam is adjusted to follow the direction of the road.\\n\\nOn the other hand, the dipped beam is a lower beam of light used for normal driving conditions, providing a shorter and wider beam pattern compared to the main beam. It is typically used for urban driving, where the beam is directed downwards to reduce glare for oncoming traffic. The dipped beam may be adjusted automatically or manually, depending on the vehicle\\'s system.\\n\\nIn essence, the main beam (driving beam) is used for long-distance illumination, while the dipped beam (passing beam) is used for shorter-distance illumination without causing glare to oncoming traffic. The passing beam is a more advanced, adaptive system that adjusts to suit various driving conditions, whereas the dipped beam is a more traditional, lower beam of light used for everyday driving.'}) (input_keys={'question', 'context'}) with <function metric at 0x000001CE23244040> due to CoT2.forward() missing 1 required positional argument: 'context'. [dspy.teleprompt.bootstrap] filename=bootstrap.py lineno=211\n",
      " 92%|████████████████████████████████████████████████████████████████████████      | 12/13 [1:49:12<08:10, 490.38s/it]2024-08-15T13:27:42.714955Z [error    ] Failed to run or to evaluate example Example({'question': 'What are the lights to be placed in Rear of the vehicle?\", context = text, answer = \"The lights to be placed at the rear of the vehicle are:\\n\\n1. Rear position lamp (Section 6.10)\\n2. Rear direction-indicator (Section 6.10)\\n3. Rear retro-reflector, triangular (Section 5.18)\\n4. Rear retro-reflector, non-triangular (Sections 5.18 and 6.15)\\n5. Rear fog lamp (Sections 6.10.6 and 6.11)\\n6. Stop-lamp (Sections 6.10.6 and 6.11.9)\\n7. Red rearmost side-marker lamp (Section 6.10.6)\\n8. Rear end-outline marker lamp (Section 6.13)\\n\\nNote that each of these lights has specific requirements or restrictions, such as orientation, number, arrangement, and position, which can be found in the corresponding sections of the context.'}) (input_keys={'question', 'context'}) with <function metric at 0x000001CE23244040> due to CoT2.forward() missing 1 required positional argument: 'context'. [dspy.teleprompt.bootstrap] filename=bootstrap.py lineno=211\n",
      "100%|██████████████████████████████████████████████████████████████████████████████| 13/13 [1:49:12<00:00, 504.04s/it]\n"
     ]
    },
    {
     "name": "stdout",
     "output_type": "stream",
     "text": [
      "Bootstrapped 11 full traces after 13 examples in round 0.\n"
     ]
    }
   ],
   "source": [
    "from dspy.teleprompt import BootstrapFewShot\n",
    "\n",
    "optimizer = BootstrapFewShot(metric = metric, max_bootstrapped_demos=13, max_labeled_demos=13)\n",
    "optimized_cot = optimizer.compile(CoT2(), trainset=dataset2)"
   ]
  },
  {
   "cell_type": "code",
   "execution_count": null,
   "metadata": {},
   "outputs": [],
   "source": [
    "optimized_cot.forward(question = \"Explain different types of Lighting mode?\", context = text)"
   ]
  },
  {
   "cell_type": "code",
   "execution_count": 17,
   "metadata": {},
   "outputs": [
    {
     "name": "stdout",
     "output_type": "stream",
     "text": [
      "[('generate_answer2', Predict(StringSignature(context, question -> rationale, answer\n",
      "    instructions='Think and Answer questions based on the context provided.'\n",
      "    context = Field(annotation=str required=True json_schema_extra={'desc': 'contains relevant context', '__dspy_field_type': 'input', 'prefix': 'Context:'})\n",
      "    question = Field(annotation=str required=True json_schema_extra={'desc': 'given question to be answer', '__dspy_field_type': 'input', 'prefix': 'Question:'})\n",
      "    rationale = Field(annotation=str required=True json_schema_extra={'prefix': \"Reasoning: Let's think step by step in order to\", 'desc': '${produce the answer}. We ...', '__dspy_field_type': 'output'})\n",
      "    answer = Field(annotation=str required=True json_schema_extra={'desc': 'generate detailed answer', '__dspy_field_type': 'output', 'prefix': 'Answer:'})\n",
      ")))]\n"
     ]
    }
   ],
   "source": [
    "save_path = './cot_v2_11examples.json'\n",
    "optimized_cot.save(save_path)"
   ]
  },
  {
   "cell_type": "code",
   "execution_count": 18,
   "metadata": {},
   "outputs": [],
   "source": [
    "loaded_program = CoT2()\n",
    "loaded_program.load(path=save_path)"
   ]
  },
  {
   "cell_type": "code",
   "execution_count": 19,
   "metadata": {},
   "outputs": [
    {
     "data": {
      "text/plain": [
       "Prediction(\n",
       "    rationale=\"Based on the provided context, I will answer your question.\\n\\nFrom the given regulations (E/ECE/324/Rev.1/Add.47/Rev. 12 and E/ECE/TRANS/505/Rev.1/Add.47/Rev. 12), we can identify different types of lighting modes as follows:\\n\\n1. **Dipped-beam headlamps**: These are the low beam headlights that provide a wider field of view for driving in urban areas or on roads with speed limits.\\n\\nAutomatic switching conditions for dipped-beam headlamps:\\n\\t* Less than 1,000 lux: ON within 2 seconds\\n\\t* Between 1,000 and 7,000 lux: at manufacturer's discretion (no specific\",\n",
       "    answer=\"Based on the provided context, I can identify different types of lighting modes as follows:\\n\\n1. **Dipped-beam headlamps**: These are the low beam headlights that provide a wider field of view for driving in urban areas or on roads with speed limits.\\n\\t* Automatic switching conditions:\\n\\t\\t+ Less than 1,000 lux: ON within 2 seconds\\n\\t\\t+ Between 1,000 and 7,000 lux: at manufacturer's discretion (no specific time limit)\\n\\t\\t+ More than 7,000 lux: OFF more than 5 seconds, but no more than 300 seconds\\n2. **Main-beam headlamps**: These are the high beam headlights that provide a narrower field of view\"\n",
       ")"
      ]
     },
     "execution_count": 19,
     "metadata": {},
     "output_type": "execute_result"
    }
   ],
   "source": [
    "# india_context = \"India, officially the Republic of India (ISO: Bhārat Gaṇarājya),[21] is a country in South Asia. It is the seventh-largest country by area; the most populous country with effect from June 2023;[22][23] and from the time of its independence in 1947, the world's most populous democracy.[24][25][26] Bounded by the Indian Ocean on the south, the Arabian Sea on the southwest, and the Bay of Bengal on the southeast, it shares land borders with Pakistan to the west;[j] China, Nepal, and Bhutan to the north; and Bangladesh and Myanmar to the east. In the Indian Ocean, India is in the vicinity of Sri Lanka and the Maldives; its Andaman and Nicobar Islands share a maritime border with Thailand, Myanmar, and Indonesia.The capital of india is delhi.\"\n",
    "loaded_program.generate_answer2(question = \"Explain different types of Lighting mode?\", context = text)"
   ]
  }
 ],
 "metadata": {
  "kaggle": {
   "accelerator": "none",
   "dataSources": [
    {
     "datasetId": 5243530,
     "sourceId": 8735056,
     "sourceType": "datasetVersion"
    }
   ],
   "dockerImageVersionId": 30746,
   "isGpuEnabled": false,
   "isInternetEnabled": true,
   "language": "python",
   "sourceType": "notebook"
  },
  "kernelspec": {
   "display_name": "Python 3 (ipykernel)",
   "language": "python",
   "name": "python3"
  },
  "language_info": {
   "codemirror_mode": {
    "name": "ipython",
    "version": 3
   },
   "file_extension": ".py",
   "mimetype": "text/x-python",
   "name": "python",
   "nbconvert_exporter": "python",
   "pygments_lexer": "ipython3",
   "version": "3.11.5"
  },
  "widgets": {
   "application/vnd.jupyter.widget-state+json": {
    "state": {},
    "version_major": 2,
    "version_minor": 0
   }
  }
 },
 "nbformat": 4,
 "nbformat_minor": 4
}
