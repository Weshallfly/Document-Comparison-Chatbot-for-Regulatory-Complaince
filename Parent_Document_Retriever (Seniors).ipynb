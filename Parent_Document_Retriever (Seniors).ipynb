{
 "cells": [
  {
   "cell_type": "code",
   "execution_count": 1,
   "metadata": {
    "colab": {
     "base_uri": "https://localhost:8080/"
    },
    "id": "lb13JbjzL7YP",
    "outputId": "6a813f56-684a-43f5-9e16-fa6b56458061",
    "scrolled": true
   },
   "outputs": [
    {
     "name": "stdout",
     "output_type": "stream",
     "text": [
      "Overwriting requirements.txt\n"
     ]
    }
   ],
   "source": [
    "%%writefile requirements.txt\n",
    "chromadb\n",
    "langchain\n",
    "langchain_community\n",
    "sentence_transformers"
   ]
  },
  {
   "cell_type": "code",
   "execution_count": 2,
   "metadata": {
    "id": "jops1cdtL7YT"
   },
   "outputs": [
    {
     "name": "stderr",
     "output_type": "stream",
     "text": [
      "C:\\Users\\VISHAL MAURYA\\AppData\\Local\\Temp\\ipykernel_896\\2729861010.py:14: TqdmWarning: IProgress not found. Please update jupyter and ipywidgets. See https://ipywidgets.readthedocs.io/en/stable/user_install.html\n",
      "  from tqdm.autonotebook import tqdm, trange\n"
     ]
    }
   ],
   "source": [
    "import os\n",
    "import chromadb\n",
    "from langchain.vectorstores import Chroma\n",
    "from langchain.embeddings import HuggingFaceBgeEmbeddings\n",
    "from langchain.document_transformers import (\n",
    "    EmbeddingsRedundantFilter,\n",
    "    EmbeddingsClusteringFilter,\n",
    ")\n",
    "# from langchain.retrievers.document_compressors import DocumentCompressorPipeline\n",
    "# from langchain.retrievers import ContextualCompressionRetriever\n",
    "from langchain.text_splitter import RecursiveCharacterTextSplitter\n",
    "from langchain.document_loaders import PyMuPDFLoader\n",
    "from langchain.docstore.document import Document\n",
    "from tqdm.autonotebook import tqdm, trange"
   ]
  },
  {
   "cell_type": "markdown",
   "metadata": {
    "id": "A5CZ3DfiL7YU"
   },
   "source": [
    "# Embedding Model"
   ]
  },
  {
   "cell_type": "code",
   "execution_count": 3,
   "metadata": {
    "colab": {
     "base_uri": "https://localhost:8080/",
     "height": 510,
     "referenced_widgets": [
      "7752a9776f084d9985ee839f43874ac3",
      "de488f0641c74917aea2e8dbfce0e4aa",
      "00ada49c8bdf49b4a10d229d704b0c1a",
      "d3c1bd1702ef44e88ffcf11de3aefd15",
      "fe9aa770584542f987bd36eecb1def2c",
      "dcf1af9f0fa249c9a3775b6bf7f930a4",
      "227bef90fd254f128b0811521279a593",
      "d7728a29e1e14b46ae8c59b8a68b70da",
      "7d5448a16e3645a287d62171a8dab989",
      "5009c62ed6464f1ba076fe99ec46295b",
      "014cc5d179f9403d8ac36d65bc2fb140",
      "2ad0061bbeae40c893f96f85560ebb64",
      "1a68ab062b8f4f139fb76e24f08177e9",
      "f6b4cb3308ae4ebabb6ddb71230661a6",
      "254d9cae597949698ae287b8337490af",
      "bd189b9febfa4916b16d1e9c94cc67a1",
      "43e18eb4342a4405a59f754fa85d1700",
      "88db495107ba466d9b7e1cf7e83b236f",
      "c6927b468d76409fb51ef492252dbd9c",
      "6c71efcf68284737a34f26fb00df8283",
      "15afcc4331b146d4a932342d59a285ae",
      "d0c803b79bc34adb946772dd6b47b420",
      "1df4e1ad96274adf993a8b190690f519",
      "a6927040841d45b0b4702637ee70a20f",
      "a605da6fad7445e19c777fe5c218e57e",
      "8d22f6fa3ccf4ae5b2a5fb3df0bf9f21",
      "402f06c28e9945c6bcae965c1846ab05",
      "ca922dbc53ab4c0ea47f682d2b7fdc2d",
      "279b76fb09b341489ee444398ea58a61",
      "1dc3c26d6bd94a41a6a9bfa71a894208",
      "0b529fcf05284b2681fb37356e30ca6d",
      "43868c9079644f32b53047053a10f0d0",
      "ab30df7a463c43959492410bada19c05",
      "20b4b453c75546a08b1518bec2b6a577",
      "6ccbfb3b9dae4afeaa57916aba388870",
      "307b6aaaf8ae44b2a3f572c610e21e5a",
      "078722cc22cf44d586f871d279ff9588",
      "da13547cd5854c4383beb943836dd601",
      "af5febe34bf84ddbae11d2ea996d1634",
      "e73dfda02f0049a7a8f91563e1b983af",
      "a79c6fd66e2e4d7da2c5e1f565fd2440",
      "6e37ab7f2b0a4af6bbec0ad1ff01b41c",
      "f3c0e1eae7994a86bbb775cfda814e7b",
      "74e3e2549a4c44139758556082a953f1",
      "85f24e4aba3e4820bb1cb1051a834ad8",
      "758ced432af4498ca1b13e333bc3a5dc",
      "915daf3c844747bba899b41d75fb73eb",
      "9a0fe2adb4194e67ba5bc56bb654be7f",
      "5aa7999471a64086a46cdd02cc1b412d",
      "6ea54d0c06434ab5901acc225a6ecaa0",
      "542e832887c8483984e88e29e0fe7f9c",
      "9e9f92092f554d62ac2065da57271dd2",
      "e83ad391c36940a282f28a863a22095d",
      "fbd1e7d7a7704cf6ad4a19d1614be49e",
      "9fcd8d526c7043e1a401ea5451ec9833",
      "0fe71eb9e33b4cd6b5c0d377fd579b1d",
      "ec3238d053b946198098ffafc382a3ef",
      "308a8805ca9e4f10ac2893561288e832",
      "ffad32554828400babdfb2127e3709fb",
      "6c498d78247245f7a1d7cf7595f8c727",
      "7b50dbce355544bc8d63d8ecb2363a23",
      "c74917033b26445eba3bf0856c059d5a",
      "a9723c7500e64df58b690ea1d32f0bc6",
      "1c432e6eb48d4ddf99c359dee5983560",
      "fffb656ead79424ca518dd682b0dbbd2",
      "fa4c5adff2db424098b0f55c1229a042",
      "1a5ae0ef33a44397a221316e751b1a0a",
      "1fe03de424ec41e4a3da120254a9b53e",
      "56379fddb71846cdbb6b4b174e7375b9",
      "df0224f221c849278a2522b6d17f762c",
      "40d3cd2b8dd24d4a896fe504d4ed9aed",
      "788d083b277e4a4e91357cc6fac0d9fc",
      "5c7ae5e6585845bab2439b45b8b87d37",
      "153950f99f394d76b367942b9114e1cf",
      "6531f377d88a4a0ab10e6277dbd043e1",
      "9a7aaa8bd38f4d51acaab1805286fbfa",
      "4461b686785d49bf92ab1d4afdf5fd7b",
      "152e642ea173418c90e70872b6081bbf",
      "2eac3df7fada46f1a3d5ec1916b2b7f5",
      "94f03508843f4c1ca08cd1477b96c2a1",
      "00e0b269f8ba449daafd58c38937e29a",
      "861aec7a70bb4c508236add9b49d133e",
      "50192445f89d46019ef0bc61a7079b8a",
      "e7e95f79446c4f5b996c3073d1efdbda",
      "eb6cfd3facfd44209d69980d23d7a6c8",
      "2ab7767324ce42c6b1ecc1f1e83a3528",
      "f32b9c84d1d64035a7eee3c23d1bc319",
      "d4cb78badf0e4b78b6402b6dbc4701c8",
      "3e74c193557046c89a9c7b1f59156054",
      "3d9d10c1046443a5b98081d979f1c849",
      "b4d345deaaa6428ab37019f0410e800e",
      "9dc6156cfc824e7c90761856b99548dd",
      "b6421a35ea3b41e28d2ca6fbee66ad42",
      "78c685a6b8114573ba492634f5467e73",
      "ff7226f4476a4938aafabae29ce4f72a",
      "9235cf74bfb3422aace1b3c265991730",
      "c898874e6e6d4a19b78b8e848057ea07",
      "44600030d879448f857b379c944b2a14",
      "7b3cd41bbb2b4e19997a0cf18c7f4a10",
      "5574dc268509418fb3207308beaace50",
      "c7aec15d5c914821b9f4308eeb313cb6",
      "defccabb0c36441f8b826af003ae3676",
      "8f5450a0e69743eeb1efd5fe14277974",
      "89140aadeacf4cba9b81e7ebf2bba116",
      "cfa7171fe22a4029a92543e166a0f3c7",
      "66f1c54dd16541c680fce5df737ae77f",
      "d1c9ae621a6c4925bee747be22accf05",
      "77408404052745e78dd0b48471fd1ade",
      "343c06d34b7140de9d2b128b7c76259f",
      "a3858bdc02f94ac8a82b0c20e5d04222",
      "94b021e7ca234cb3a909b3eb1876daf1",
      "d9cf4006710845dc8d423670ccba8aed",
      "166f47d3ba8349be829909cdd2d355ac",
      "1367b54de3624c4498b31d853b73f6d0",
      "9bfcd51f6e7f488b8f7730c10c761b8a",
      "4f371444b4d940d49c2f34ef2f360041",
      "2006254a1772435f97babc3087d79866",
      "aa175ec534be4aa7a75d6d19c1dd4d29",
      "e825598360cb40308c737dd64f37f514",
      "dcbe5a60847041ac9683e35d0cd86cac",
      "4e07079174bc4cab9829f68eb21eebe4"
     ]
    },
    "id": "Nq-kyjxtL7YV",
    "outputId": "ebfddf15-0995-4e66-c181-0e6f77f0b38b"
   },
   "outputs": [
    {
     "name": "stderr",
     "output_type": "stream",
     "text": [
      "C:\\Users\\VISHAL MAURYA\\Desktop\\Document Comparision\\pdr_venv\\Lib\\site-packages\\huggingface_hub\\file_download.py:1132: FutureWarning: `resume_download` is deprecated and will be removed in version 1.0.0. Downloads always resume when possible. If you want to force a new download, use `force_download=True`.\n",
      "  warnings.warn(\n"
     ]
    },
    {
     "name": "stdout",
     "output_type": "stream",
     "text": [
      "Embedding Model Loaded in 10.363645553588867 seconds\n"
     ]
    }
   ],
   "source": [
    "import time\n",
    "s = time.time()\n",
    "model_name = \"BAAI/bge-large-en\"\n",
    "model_kwargs = {'device': 'cpu'}\n",
    "encode_kwargs = {'normalize_embeddings': False}\n",
    "hf = HuggingFaceBgeEmbeddings(\n",
    "    model_name=model_name,\n",
    "    model_kwargs=model_kwargs,\n",
    "    encode_kwargs=encode_kwargs\n",
    ")\n",
    "print(\"Embedding Model Loaded in\", time.time() - s, \"seconds\")"
   ]
  },
  {
   "cell_type": "markdown",
   "metadata": {
    "id": "5DnjTWyUL7YW"
   },
   "source": [
    "# Data Pre-processing"
   ]
  },
  {
   "cell_type": "code",
   "execution_count": 4,
   "metadata": {},
   "outputs": [],
   "source": [
    "path = \"data/GB 25991-2010 Automotive Headlamps with LED Light Sources andor LED Modules (1) (2).pdf\""
   ]
  },
  {
   "cell_type": "code",
   "execution_count": 5,
   "metadata": {},
   "outputs": [
    {
     "data": {
      "text/plain": [
       "Document(page_content='                                                               July/2011 \\n \\nACEA Translation                                                             1 \\nFor Reference Purposes Only \\n \\nICS 43.040.20 \\nT 38  \\n \\nNational Standard of the People’s Republic of China \\n GB 25991-2010 \\n \\n \\n \\nAutomotive Headlamps with LED Light Sources \\nand/or LED Modules  \\n \\n \\n \\n \\n \\n \\n \\nIssued on 2011-01-10                           Effective from 2012-01-01  \\nPromulgated by \\nState General Administration of Quality Supervision, Inspection and \\nQuarantine of the People\\'s Republic of China \\nAnd \\nStandardization Administration of China \\n\\n                                                               July/2011 \\n \\nACEA Translation                                                             2 \\nFor Reference Purposes Only \\n \\nForeword \\n \\nParagraphs 5 and 6 (except for Paragraph 5.10 and 6.8) are compulsory, and the rest is \\nfor recommend.  \\nAll the Annexes A, B and C herein are normative.  \\nThis Standard was proposed by National Development and Reform Commission.  \\nThis Standard is under the jurisdiction of National Technical Committee of Motor Vehicles of \\nStandardization Administration of China(SAC/TC 114). \\nThis Standard was drafted by China Automobile Technology And Research Center, Shanghai \\nAutomotive Lamps Institute, Tianjin Automotive Lamps Factory, Philips (China) Investment \\nco.,ltd., Changchun Haila Automotive Lamps co.,ltd., OSRAM(China) Lighting co.,ltd., Tianjin \\nIndustry University, Shanghai Xiao Mi Automotive Lamps co.,ltd.  \\nMain drafters: He Yuntant, Xu Mohe, Ou Yangtao, Huang Chunwei, Huang Zhongwen, Zhao \\nBin, Xu Zhiqiang, Yu Yali, Liu Lijun, Ye Lin, Niu Pingjuan, Zhu Minghua, Jin Yuqing.  \\n\\n                                                               July/2011 \\n \\nACEA Translation                                                             3 \\nFor Reference Purposes Only \\n \\nAutomotive Headlamps with LED Light Sources and/or LED Modules \\n \\n1  \\n Scope \\nThis Standard sets out test method and inspection rules of automotive LED light \\nsources/modules or headlamps incorporating LED light source/module(s) on the \\nphotometric characteristics, reliability, light and color and temperature cycle.  \\nThis Standard applies to LED headlamps for vehicles of Categories M and N, or \\nLED headlamps of which the driving beam or passing beam is principally \\nconstituted by LED light source/LED module(s). \\n2  \\n Normative References  \\nThe following documents contain provisions which, through reference in this text, \\nconstitute requirements of this Standard. For dated references, subsequent \\namendments (exclusive of the content of corrigenda) to, or revisions of, these \\npublications do not apply. However, parties to agreements based on this Standard \\nare encouraged to investigate the possibility of applying the latest editions of the \\ndocuments indicated below. For undated references, the latest edition of the \\nnormative documents shall apply. \\nGB 4599-2007  \\nPhotometric Characteristics of Headlamps for Motor Vehicles  \\nGB 4785  \\nPrescription for Installation of the External Lighting and Light \\nSignaling Devices for Motor Vehicles and Their Trailers \\nGB/T 7922  \\nMethods of Measuring the Color of Light Source  \\nGB 15766.1  \\nLamps for Road Vehicles – Dimensional, Electrical and \\nLuminous Requirements  \\n3  \\n Terms and Definitions  \\n \\nIn addition to those established in GB 4599-2007 and GB 4785, the following terms \\nand definitions shall apply throughout this Standard.  \\n3.1  \\nObjective luminous flux \\n \\nMeans a design value of the luminous flux of a replaceable light source or light \\nsource module.  \\n3.2  \\nFailure of light source \\n \\nMeans, during the normal use of LED light source or LED module, one or more \\nLEDs lose the illuminating function.  \\n3.3  \\nLED module \\n \\nMeans a light source module containing as light sources only LEDs.  \\n\\n                                                               July/2011 \\n \\nACEA Translation                                                             4 \\nFor Reference Purposes Only \\n \\n4  \\n Headlamps of different types \\n \\nMean headlamps which differ in such essential aspects as: \\n \\n- the trade name or mark; \\n \\n- the characteristics of the optical system; \\n \\n- the components capable of altering the optical effects by reflection, refraction, \\nabsorption and/or deformation during operation; \\n \\n- the kind of beam produced (passing beam, driving beam or both); \\n \\n- the materials constituting the lenses and coating; \\n \\n- the category of LED light source/module, and its luminous and electrical \\nparameters (voltage, power, luminous flux, light color, and color rendering).  \\n5  \\n Specifications  \\n5.1  \\nGeneral  \\n5.1.1  \\nLED headlamps shall be so designed and made as to retain conformity with this \\nStandard and to remain in good working order when in normal use, in spite of the \\nvibrations to which they may be subjected. \\n5.1.2  \\nA LED headlamp shall present a satisfactory property in heat dissipation, thus \\navoiding any heat heaping with the LED light source.  \\n5.1.3  \\nA LED headlamp shall present the electromagnetic compatibility.  \\n5.1.4  \\nWhere a LED light source or LED module is fitted, the headlamp shall meet all the \\nperformance requirements as specified in this Standard; where a LED headlamp is \\nfitted with a filament lamp or an HID light source to emit the driving/passing beam, \\nthe photometric characteristics and testing shall respectively meet the provisions of \\nappropriate standards.  \\n5.1.5  \\nHeadlamps shall be fitted with a beam adjusting device. Where a headlamp \\nproviding a passing beam and a headlamp providing a driving beam, each \\nequipped with its own LED light source/module or filament lamp (or lighting unit), \\nare assembled to form a composite unit, the adjusting device shall enable each \\noptical system individually to be adjusted. However, such a provision shall not \\napply to any headlamp of which the driving beam and the passing beam cannot be \\nindividually adjusted.  \\n5.1.6  \\nA LED headlamp shall contain markings for:  \\n--  LED headlamp  \\n--  Voltage \\n--  Reference center  \\n5.2  \\nGeneral requirements for LED module and electronic light source \\ncontrol-gear(s)  \\n\\n                                                               July/2011 \\n \\nACEA Translation                                                             5 \\nFor Reference Purposes Only \\n \\n5.2.1  \\nLED module(s) shall use a LED light source emitting visible light; it is disallowed to \\nuse any other means of light source.  \\n5.2.2  \\nLED module(s) shall remain in good working order when in normal use. They shall \\nexhibit no fault in design or manufacture. A LED module shall be considered to \\nhave failed if any one of its LEDs has failed. \\n5.2.3  \\nThe LED(s) on the LED module shall be equipped with suitable fixation elements.  \\nThe fixation elements shall be satisfactorily strong and stable, so as to protect the \\nLED(s) and the LED module. \\n5.2.4  \\nThe LED module (when fitted in the lamp housing) shall be correctly oriented, firmly \\nsecured, and without any dislocation.  \\n5.2.5  \\nIn case of a replaceable LED module, the replacement shall be made with a \\nreplaceable LED module which meets the design requirements; the same LED \\nmodules of different specifications shall not be interchangeable.  \\n5.2.6  \\nElectronic light source control gear(s), fitted either inside or outside the lamp \\nhousing, shall be considered to be part of the LED headlamp.  \\n5.2.7  \\nUnless otherwise stated by the manufacturer, the LED module shall be tested \\nwithin the headlamp as furnished by the manufacturer.  \\n5.3  \\nPhotometric characteristics  \\n5.3.1  \\nHeadlamps shall give adequate illumination without dazzle when emitting the \\npassing beam, and good illumination when emitting the driving beam. Bend lighting \\nmay be produced by activating one additional light source being part of the passing \\nbeam headlamp. If additional light source fails, photometric performance should \\nstill meet the requirements for passing beams.  \\n5.3.2  \\nThe photometric characteristics shall be determined by means of a flat vertical \\nscreen set up 25 m forward of the reference center of headlamp; for the locations of \\neach measuring point/zone, see Figure 1.  \\n\\n                                                               July/2011 \\n \\nACEA Translation                                                             6 \\nFor Reference Purposes Only \\n \\n \\n \\nFigure 1 Photometric screen \\n5.3.3  \\nProvisions concerning passing beams \\n5.3.3.1  \\nOn the measuring screen, the passing beam must produce a sufficiently sharp \\nIII \\nzone \\nI zone \\nIVz one \\nII zone \\nRoad central line \\nA zone \\nB zone \\n\\n                                                               July/2011 \\n \\nACEA Translation                                                             7 \\nFor Reference Purposes Only \\n \\n\"cut-off\", of which the horizontal part falls to the left side of the line ‘vv’; to the right, \\nthere is the line ‘HV-H2-H3’ or line ‘HV-H1-H2-H4’. Two or more visually visible \\n“cut-offs” shall not be permitted. \\n \\nThe limits of illumination produced on the measuring screen shall conform to the \\nprovisions of Table 1. \\nTable 1 \\nPoint/line/zone \\nHorizontal distance \\n(mm) \\nVertical distance \\n(mm) \\nLuminance \\n(lx) \\nHV \\n0 \\n0 \\n≤0.7 \\nB50L \\nL 1500 \\nU 250 \\n≤0.4 \\n75R \\nR 500 \\nD 250 \\n≥12 \\n75L \\nL 1500 \\nD 250 \\n≤12 \\n50L \\nL 1500 \\nD 375 \\n≤15 \\n25L \\nL 1500 \\nD 750 \\n≥2 \\n50V \\n0 \\nD 375 \\n≥6 \\n50R \\nR 750 \\nD 375 \\n≥12 \\n25R \\nR 3960 \\nD 750 \\n≥2 \\nAny point in zone I \\n \\n \\n≤2·E50R\\na \\nAny point in zone III \\n \\n \\n≤0.7 \\nAny point in zone IV \\n \\n \\n≥3 \\na E50R is the actually measured value at point 50R.  \\n \\n5.3.3.2  \\nIn view of LED headlamps, the photometric values for points 1 ~ 8 on the \\nmeasuring screen shall conform to the limits below:  \\nPoints 1+2+3 \\uf0b3 0.3 lx; \\nPoints 4+5+6 \\uf0b3 0.6 lx; \\n0.7 lx \\uf0b3 Point 7 \\uf0b3 0.1 lx; \\n0.7 lx \\uf0b3 Point 8 \\uf0b3 0.2 lx. \\n5.3.3.3  \\nIn the case of headlamps with movable reflector, the requirements of Paragraphs \\n5.3.3.1 and 5.3.3.2 are applicable for each mounting position indicated by the \\nmanufacturer.  \\n5.3.3.4  \\nThere shall be no lateral variations detrimental to good visibility in any of the zones \\nI, II, III and IV. \\n5.3.3.5  \\nIf bend lighting is obtained by the following means, the requirements in Table 1 \\nabove shall also apply to headlamps designed to provide bend lighting: \\n \\n- swiveling the passing beam or moving horizontally the kink of the elbow of the \\ncut-off; \\n \\n- moving one or more optical parts of the headlamp without moving horizontally the \\n\\n                                                               July/2011 \\n \\nACEA Translation                                                             8 \\nFor Reference Purposes Only \\n \\nkink of the elbow of the cut-off; \\n \\n- means of one additional light source without moving horizontally the kink of the \\nelbow of the cut-off. \\n5.3.4  \\nPhotometric performance of driving beams \\n5.3.4.1  \\nOn the measuring screen, the limits of illumination produced by the driving beam \\nshall conform to the provisions of Table 2.  \\n5.3.4.2  \\nIn the case of LED headlamps with movable reflector, the requirements of \\nParagraph 5.3.4.1 are applicable for each mounting position indicated by the \\nmanufacturer. \\n5.3.4.3 \\nIn the case of driving and passing beam of LED headlamp, maximum luminance of \\nthe driving beam should be no more than 16 times of the measured luminance of \\npassing beam at 75R. \\n5.3.5  \\nFor the measurement of the screen illumination values, the effective area shall be \\ncontained within a square of 65 mm side. \\nTable 2                                 Unit: lx \\nMeasuring point/zone \\nLuminance \\nEmax \\n\\uf0b3 48 and \\uf0a3 240 \\nPoint ‘HV’ \\n\\uf0b3 0.80Emax \\nPoint ‘HV’ to 1125L and R \\n\\uf0b3 24 \\nPoint ‘HV’ to 2250L and R \\n\\uf0b3 6 \\n \\n5.4  \\nLight color  \\n \\nThe color of the light emitted by LED headlamps shall be white. Expressed in CIE \\nchromatic coordinates, the chromatic characteristics shall conform to the provisions \\nof GB 4785.  \\n5.5  \\nLight sources  \\n \\nLED headlamps shall use the LED light source/LED module(s) in compliance with \\nthis Standard; any other light source contained within the headlamp shall comply \\nwith GB 15766.1 or ECE R37.  \\n \\nFor the LED light source or LED module intended for emitting the passing beam, \\nthe objective luminous flux shall be no less than 1,000 lm. \\n5.6  \\nColor rendering  \\n \\nThe color rendering of LED headlamps or LED modules shall conform to the \\nrequirements of the minimum red content of the light: \\n\\n                                                               July/2011 \\n \\nACEA Translation                                                             9 \\nFor Reference Purposes Only \\n \\n \\n \\nWhere,  \\nEe(\\uf06c) (unit: W) is the spectral energy of the irradiance \\nV(\\uf06c) (unit: 1) is the spectral luminous efficiency \\n(\\uf06c) (unit: nm) is the wavelength \\nThis value shall be calculated using intervals of 5 nm. \\n5.7  \\nPhotometric performance stability of LED headlamp \\n \\nThe complete headlamp shall comply with the requirements of Annex A, after \\nphotometric performance measurement specified in this standard.   \\n5.8  \\nLuminance and chromatic temperature stability  \\n5.8.1  \\nAfter 1 minute of operation of LED headlamp and the stabilization of photometric \\nperformance, the luminance values at the measurement points and zones shall \\nmeet all the requirements for the minimum and maximum values; during the whole \\ntest procedure, the photometric output shall be no less than 70% of the initial value.  \\n5.8.2  \\nAfter 1 minute of operation of LED headlamp or LED modules(s) and the \\nstabilization of photometric performance, the light color shall fall within the specified \\nrange.  \\n5.8.3 \\nSee test method in Annex B. \\n5.9  \\nLens and optical subassemblies of plastic material: \\n5.9.1  \\nAfter the test described in paragraph 6.7.1, plastic lens of headlamp are necessary \\nto conform to the provisions of Annex B of GB 4599-2007.  \\n5.9.2  \\nUV-radiation resistance of LED headlamp  \\n5.9.2.1 \\nAs for the optical sub-assemblies (including transmitting and reflecting parts), made \\nof plastic material, fitted inside LED headlamp, with test method indicated in \\nparagraph 6.7.2, the colorimetric specifications indicated in paragraph 5.4 must be \\nmet, and the surfaces of the samples shall be free of cracks, scratches, scalings or \\ndeformation. \\n5.9.2.2 \\n \\nThe testing is not necessary if the LED headlamp uses low-UV-radiation type LED \\nmodule, or the related optical sub-assemblies have been shielded from UV \\nradiation, e.g. by glass filters.  \\nThe low-UV-radiation type LED headlamp or LED module shall be such that: \\n\\n                                                               July/2011 \\n \\nACEA Translation                                                             10 \\nFor Reference Purposes Only \\n \\n \\nWhere, \\nS(\\uf06c) (unit: 1) is the spectral (effect) weighting function \\nkm = 683 lm/W is the maximum value of the luminous efficacy of radiation \\nFor definitions of the other symbols, see Paragraph 5.6  \\nThis value shall be calculated using intervals of 5 nm \\n \\nThe table of spectral weighting values of UV radiation have been developed by \\ntaking the wavelength 270 nm as the typical value (i.e., S(λ)=1); the weighting \\nvalues of other wavelengths could be interpolated according to Table 3 below:  \\n \\nTable 3  Spectral weighting values of UV radiation \\nλ \\nS(λ) \\nλ\\nS(λ)\\nλ\\nS(λ) \\n250 \\n0.430 \\n305 \\n0.060 \\n355 \\n0.00016 \\n255 \\n0.520 \\n310 \\n0.015 \\n360 \\n0.00013 \\n260 \\n0.650 \\n315 \\n0.003 \\n365 \\n0.00011 \\n265 \\n0.810 \\n320 \\n0.001 \\n370 \\n0.00009 \\n275 \\n0.960 \\n325 \\n0.00050 \\n375 \\n0.000077 \\n280 \\n0.880 \\n330 \\n0.00041 \\n380 \\n0.000064 \\n285 \\n0.770 \\n335 \\n0.00034 \\n385 \\n0.000530 \\n290 \\n0.640 \\n340 \\n0.00028 \\n390 \\n0.000044 \\n295 \\n0.540 \\n345 \\n0.00024 \\n395 \\n0.000036 \\n300 \\n0.300 \\n350 \\n0.00020 \\n400 \\n0.000030 \\n \\n5.10  \\nTest of resistance to temperature change cycles on LED headlamp \\n \\nThe test shall be carried out according to Annex C; during the operation within the \\nlast cycle, check whether the LED suffers permanent or intermittent failure. In case \\nthe LED fails, it shall not conform to requirements; in case the LED does not fail, \\nthe photometric characteristics shall be checked, which shall conform to paragraph \\n5.3. \\n5.11  \\nInverse polarity and overvoltage of light source on LED headlamp \\n \\nAt the end of the test, the LED light source and the electronic light source \\ncontrol-gear(s)of the test specimen shall present no total or partial failure.  \\n\\n                                                               July/2011 \\n \\nACEA Translation                                                             11 \\nFor Reference Purposes Only \\n \\n6  \\n Test Procedures  \\n6.1  \\nDarkroom, equipment and devices  \\n6.1.1  \\nThe measurement darkroom shall be totally shielded, and its ambient conditions \\nshall bring no impact onto the transmitting characteristics of light or the accuracy of \\ninstrumentation.    \\n6.1.2 \\n \\nThe measuring screen shall be wide enough, for the convenience of checking and \\nadjusting the cut-off of the passing beam; the color of the screen shall be such that \\nthe beams could be correctly aimed, and the effect of spray light should be \\neliminated upon photometric measurements.  \\n6.1.3  \\nPhotometric measurements shall be conducted with a regulated DC power supply, \\nwith the precision of electric apparatus being no inferior to Class 0.2, and the \\nluminometer being Class 1 as specified in the national calibration procedures \\n(errors of indicated values not exceeding ±4%). \\n6.2  \\nThe luminous and electrical performance shall be measured at the ambient \\ntemperature of 23\\uf0b0C±5\\uf0b0C and the relative humidity of 20% ~ 80%. \\n6.3  \\nPhotometric measurements  \\n6.3.1  \\nThe LED module of headlamp shall be operated for 15 h and cooled down to \\nambient temperature before starting the tests.   \\n6.3.2  \\nUnless otherwise specified, the photometric measurements shall be carried out at \\nthe voltage of 13.2V±0.1V (in case of rated voltage of 24V: 28.0V±0.1V).  \\n \\nProvided electronic light source control-gear(s) is used, the measurements shall be \\nconducted with the parameters specified by the manufacturer.  \\n6.3.3 \\nThe lamp shall be conduced test after the continue operation until photometric \\nstability has occurred in accordance with Annex B. \\n6.3.4  \\nAiming of passing beam  \\n6.3.4.1  \\nVertical direction  \\n \\nThe horizontal part of the \"cut-off\" shall be situated 25 cm below the line ‘h-h’;  \\n6.3.4.2 \\nHorizontal direction  \\n \\nThe kink of the elbow of the “cut-off” shall be situated on the line ‘v-v’; in case such \\na kink is not clear, the luminance values of 75R and 50R shall be satisfied.  \\n6.3.4.3  \\nFor the correct aiming, lens may be partially occulted to sharpen the “cut-off”.  \\n6.3.4.4  \\nTo verify the correct aiming, visually check the “cut-off” within 5° (219cm) to each \\nside of the line ‘v-v’.  \\n6.3.4.5  \\nWhere the passing beam so aimed does not meet the requirements, the “cut-off” \\nmay be changed, horizontally, by 1° (= 44 cm) to the right or left, and, vertically, \\nwithin the range of the line ‘h-h’. \\n6.3.4.6  \\nIf bend lighting is obtained by swivelling the passing beam or moving horizontally \\n\\n                                                               July/2011 \\n \\nACEA Translation                                                             12 \\nFor Reference Purposes Only \\n \\nthe kink of the elbow of the cut-off, the measurements shall be carried out after the \\ncomplete headlamp assembly has been re-aimed horizontally (e.g. by means of a \\ngoniometer).  \\n6.3.4.7  \\nIf bend lighting is obtained by moving one or more optical parts of the headlamp \\nwithout moving horizontally the kink of the elbow of the cut-off, measurements shall \\nbe carried out with these parts being in their extreme operating position.  \\n6.3.4.8  \\nIf bend lighting is obtained by means of one additional light source without moving \\nhorizontally the kink of the elbow of the cut-off, measurements shall be carried out \\nwith this light source activated. \\n6.3.5  \\nAiming of driving beam  \\n \\nThe area of maximum luminance of the beam is centered at point ‘HV’.  \\n \\nIn case of being capable of separate adjustment, the driving beam shall be aimed; \\notherwise, the passing beam shall be taken as the reference of aiming, i.e., no \\nfurther adjustment is allowed upon measurement of driving beam provided that the \\npassing beam is correctly aimed.  \\n6.3.6  \\nIn case of LED headlamp with movable reflector  \\n6.3.6.1 \\nRelative to the connection line between the center of light source and the point ‘HV’ \\non the measuring screen, get to know each position on the test goniometer \\ncorresponding to each operating position of the movable reflector. Afterwards, \\nmove the reflector and aim the driving beam correctly as per Paragraphs 6.3.5 and \\n6.3.4.  \\n6.3.6.2 \\nAfter the completion of initial orientation of the reflector according to Paragraph \\n6.3.4, the passing and driving beams shall conform to the provisions of Paragraphs \\n5.3.3 and 5.3.4, respectively.  \\n6.3.6.3 \\nAn additional test shall be conducted according to the provisions below: \\n \\nVertically move the reflector by ±2° (alternatively, provided the range of adjustment \\nof the reflector is less than 2° (starting from the initial position), move it to the max. \\nadjustment position); afterwards, re-aim the driving beam with the test goniometer \\nat the opposite direction. Here, the photometric values of zone III (point ‘HV’) and \\n75R, for the passing beam, and of points ‘Emax’ and ‘EHV’, for the driving beam, \\nshall conform to the provisions of this Standard.  \\n6.3.6.4 \\nIn case of several operating positions of the reflector as specified by the \\nmanufacturer, the procedures set out in Paragraphs 6.3.6.1 ~ 6.3.6.3 shall be \\nrepeated at each of such positions.  \\n6.3.6.5 \\nProvided no operating position of the reflector is specified by the manufacturer, \\nconduct the test, according to Paragraphs 6.3.6.1 ~ 6.6.3.2, at the mean \\nadjustment position of the reflector. Then, move the reflector to the max. \\n\\n                                                               July/2011 \\n \\nACEA Translation                                                             13 \\nFor Reference Purposes Only \\n \\nadjustment position, and conduct the additional test according to Paragraph \\n6.3.6.3.  \\n6.3.7  \\nFor each test point/zone, the photometric value shall be the actually measured \\nphotometric value of the LED headlamp, multiplied by 0.7.  \\n6.3.8  \\nProvided that either beam (driving beam or passing beam) of LED headlamp is \\nproduced jointly by LED module and a filament lamp, the photometric values shall \\nbe separately measured and added up subsequently.  \\n6.4  \\nColorimetric check  \\n \\nConduct the direct measurements on passing beam at 50V after the correct aiming \\n(after 1 minute of operation and stabilization) according to GB/T 7922 “Methods of \\nMeasuring the Color of Light Source”; measuring driving beam at HV. The voltage \\nat measurement is in accordance with the voltage value in photometric \\nperformance test.   \\n6.5 \\nPhotometric performance stability of LED headlamp \\n \\nSee test method in Annex A \\n6.6 \\nLuminance and chromatic temperature stability \\n \\nSee test method in Annex B \\n6.7 \\nPlastic material lenses and plastic optical sub-assemblies of LED headlamps: \\n6.7.1 \\nThe lens or material sample of headlamps incorporating plastic lens and the \\ncomplete lamps should be tested according to Annex B of GB4599-2007. However, \\ninterior light source of headlamps shall be operated with test voltage in case of \\nactivating the light source.  \\n6.7.2 \\nUV-resistance of plastic materials for LED headlamps \\n \\nOne sample of each type of plastic components of headlamp or one headlamp \\nsample containing plastic optical components is illuminated with light emitted by \\nLED module for 1,500 hours of continuous operation. If the test is conduced on the \\noptical components, the corresponding position of each plastic sample and LED \\nmodule shall be same as those angle and distance they have in headlamps.  \\n6.8 \\nTemperature cycle test on LED headlamp \\n \\nSee test method in Annex C. \\n6.9 \\nColor rendering measurement \\n \\nThe minimum red content of the light shall be measured by Optical Spectrum \\nAnalysis.  \\n \\nThe results measured at 50V of passing beam or (and) HV of driving beam should \\ncomply with provisions of paragraph 5.6.  \\n6.10  \\nTests of inverse polarity of power supply and overvoltage on LED headlamp \\n6.10.1  \\nTest of inverse polarity  \\n\\n                                                               July/2011 \\n \\nACEA Translation                                                             14 \\nFor Reference Purposes Only \\n \\n \\nIn case of a 12 V electric system, apply, onto the input terminal of the power-supply \\ncontroller of the product, an inverse voltage of 14±0.1 V for 1 minute; and, in case \\nof a 24 V electric system, apply, onto the input terminal of the power-supply \\ncontroller of the product, an inverse voltage of 28±0.2 V for 1 minute. \\n6.10.2  \\nOvervoltage test of power supply  \\n \\nIn case of a 12 V electric system, apply, onto the input terminal of the power-supply \\ncontroller of the product, a voltage of 18±0.2 V for 60 minutes; and, in case of a 24 \\nV electric system, apply, onto the input terminal of the power-supply controller of \\nthe product, a voltage of 36±0.2 V for 60 minutes. \\n7  \\n Inspection Rules  \\n7.1  \\nHeadlamps of different types shall be decided according to Chapter 4 herein.  \\n7.2  \\nHeadlamps are subject to both type test and COP (conformity of production) test. If \\nmeeting provisions of paragraph 7.3 or 7.4, the product is granted with type \\napproval and COP.  \\n7.3  \\nType test  \\n7.3.1 \\nDocuments and samples furnished by manufacturer shall furnish \\n7.3.1.1 \\ndrawings in triplicate in sufficient detail to permit identification of the type of \\nheadlamp, indicating the characteristic layout of lens/reflector, as well as the \\nreference axis, reference center, geometry when fitted onto vehicle, operating \\npositions and adjustment range of reflector, etc. The adjustment scope of \\nheadlamp for bending light indicated in paragraph 5.3.3.5 shall be provided.  \\n7.3.1.2 \\na brief technical description including specification and size of the LED module(s), \\nelectrical and photometric values, objective luminous flux, and information on the \\nelectrical interface of electronic light source control gear; in case any filament lamp \\nis contained within the headlamp, specifying the category.  \\n7.3.1.3 \\ntwo samples of the type of headlamp, for the test of plastic material of the lenses \\nand optical sub-assemblies. \\n7.3.1.4 \\n14 lenses1) which shall be produced by the method to be used in mass production, \\nof which 13 lens should be tested according to table C.1 in Annex C of \\nGB4599-2007, and the other one should be conducted with UV-radiation resistance \\ntest (if needed). \\nOne sample for each type of related plastic part contained in the optical \\nsub-assemblies of the LED headlamp, or one sample of the headlamp containing \\nplastic optical sub-assemblies. Each type of sample shall present the same \\nappearance, color and surface treatment properties as the test lamp unit.  \\n7.3.1.5 \\n one complete lamp unit without lens (reflector included).  \\n\\n                                                               July/2011 \\n \\nACEA Translation                                                             15 \\nFor Reference Purposes Only \\n \\n7.3.2  \\nType approval test items \\n \\nIn compliance with Paragraph 5.1,5.2,5.3, 5.4, 5.5,5.6, 5.7, 5.8, 5.9(for the \\nheadlamp with plastic lens and plastic optical components),5.10 and 5.11. The test \\nreport shall be submitted as well if the characteristics of lens and painting materials \\nhave been tested.  \\n7.4  \\nCOP (conformity of production) test  \\n7.4.1  \\nAs for the type-approved products, the COP shall be decided based on the \\nrandomly sampled headlamps.  \\n7.4.2  \\nThe randomly sampled headlamps shall conform to the provisions of Paragraphs \\n5.1, 5.2, and 5.5 herein.  \\n7.4.3  \\nWhen tested according to Chapter 6 herein, the randomly sampled headlamps \\nshall meet the provisions below:  \\n7.4.3.1  \\nIn view of passing beam, either of the following requirements shall be met:  \\n \\na) The photometric values may deviate from the limits specified in paragraph \\n5.3.3.1 by 20%; provided, however, the value of B50L may deviate by 0.2 lx and \\nthat of zone III may deviate by 0.3 lx; \\n \\nb) For the passing beam, expand the effective measurement area of points ‘B50L’, \\n‘75R’, ‘50V’, ‘25R’ and ‘25L’ into a circle 15 cm in radius around each point. For \\nzone IV, decrease the height from 37.5 cm to 22.5 cm, while maintaining the \\noriginal width. The limits of photometric values shall be as per the original \\nprovisions, except for point ‘B50L’ (with a tolerance of 0.1 lx) and zone III (point \\n‘HV’) (with a tolerance of 0.2 lx).  \\n7.4.3.2  \\nFor the driving beam, the photometric values may deviate from the limits, as \\nspecified in Paragraph 5.3.4.1, by 20%，with that of point ‘HV’ being allowed to be \\n0.75Emax. \\n7.4.4  \\nThe provisions of Paragraph A.2.3 to Annex A herein shall be met. \\n7.4.5  \\nAny headlamp using a lens of plastic material shall conform to the provisions of \\nparagraph 5.9.1.  \\n---------------------------------------------------------------------------------------------------------------------------- \\n1) six of these lenses may be replaced by six samples of material at least 60mm×80mm in size, \\nhaving an outer surface with the radius of curvature not less than 300 mm and a substantially \\nflat area in the middle measuring at least 15mm×15mm \\n\\n                                                               July/2011 \\n \\nACEA Translation                                                             16 \\nFor Reference Purposes Only \\n \\nAnnex A \\n(Normative) \\nTests for Stability of Photometric Performance of LED Headlamps \\nA.1  \\nTest of stability of photometric performance  \\n \\nThe tests shall be carried out in a dry and still atmosphere at an ambient \\ntemperature of 23±5°C, the complete headlamp being mounted on a base \\nrepresenting the correct installation on the vehicle. \\nA.1.1  \\nClean headlamp  \\n \\nThe headlamp shall be operated for 12 hours as described in Paragraph A.1.1.1 \\nand checked as prescribed in Paragraph A.1.1.2.  \\nA.1.1.1  \\nTest procedure  \\n \\nThe headlamp shall be lit according to the specified patterns below: \\nA.1.1.1.1  (a) In case of driving or passing beam, the corresponding filament/LED module is lit \\nfor 12 hours 2);  \\n \\n(b) In the case of a reciprocally incorporated passing beam lamp and driving beam \\nlamp (a dual-filament lamp or two filament lamps/LED modules):  \\n \\n \\n1) \\nIf the manufacturer declares that the headlamp is to be used with a single \\nfilament/LED module lit 3) at a time, activate the passing-beam filament/LED \\nmodule and the driving-beam filament/LED module successively for 6 hours.  \\n \\n \\n2) \\nIn all other cases 2) 3), the passing-beam filament/LED module is lit for 15 \\nminutes, and all the filaments/LED modules are lit for 5 minutes, until 12 hours is \\nreached;  \\n \\n(c) In the case of grouped lighting functions:  \\n \\nAll the individual functions shall be lit simultaneously for the time specified for \\nindividual lighting functions (a), also taking into account the use of reciprocally \\nincorporated lighting functions (b), according to the manufacturer’s specifications.  \\nA.1.1.1.2  Test voltage  \\n \\n- As for LED module(s), the prescriptions of Paragraph 6.3 of this Standard shall \\napply.  \\n \\n- For a grouped LED headlamp containing filament lamps, the voltage shall be \\nadjusted so as to supply 90% of the maximum wattage specified in GB15766.1 or \\n                                                        \\n2) When the tested headlamp is grouped and/or reciprocally incorporated with signaling lamps, the latter \\nshall be lit for the duration of the test. In the case of a direction indicator lamp, it shall be lit in flashing \\noperation mode with an on/off time ratio of approximately one to one. \\n3) Should filaments of two or more lamps be simultaneously lit when headlamp flashing is used, this shall \\nnot be considered as being normal use of the light sources simultaneously. \\n\\n                                                               July/2011 \\n \\nACEA Translation                                                             17 \\nFor Reference Purposes Only \\n \\nECE R37 for the filament lamp(s) used. \\n \\n- The applied wattage shall in all cases comply with the corresponding value of a \\nfilament lamp of 12 V rated voltage, except if the manufacturer specifies that the \\nheadlamp may be used at a different voltage. In the latter case the test shall be \\ncarried out with the filament lamp whose wattage is the highest that can be used. \\nA.1.1.2  \\nTest result  \\nA.1.1.2.1  Visual inspection  \\n \\nOnce the headlamp has been cooled down to the ambient temperature, the \\nheadlamp lens shall be cleaned with a clean, damp cotton cloth. It shall then be \\ninspected visually; no distortion, deformation, cracking or change in color shall be \\nnoticeable. \\nA.1.1.2.2  Photometric test  \\n \\nTo comply with the requirements of this Standard, the photometric values shall be \\nverified in the following points: passing beam (50R, B50L, HV) and driving beam \\n(point of Emax). A 10% discrepancy between the photometric values measured prior \\nto and after the test is permissible including the tolerances of the photometric \\nprocedure. \\n \\nAnother aiming may be carried out to allow for any deformation of the headlamp \\nbase due to heat (the change of the position of the cut-off line is covered in \\nParagraph A.2 of this Annex). \\nA.1.2  \\nDirty headlamp  \\nA.1.2.1  \\nPreparation of headlamp  \\n \\nAfter being tested as specified in Paragraph A.1.1 above, the headlamp shall be \\noperated for one hour as described in Paragraph A.1.1.1, after being prepared as \\nprescribed in Paragraph A.1.2.2, and tested as prescribed in Paragraph A.1.1.2. \\nA.1.2.2  \\nTest mixture  \\nA.1.2.2.1 For headlamp with the outside lens in glass  \\n \\nA mixture to be applied to the headlamp lens shall consist of (by weight):  \\n \\n- 9 parts of silica sand with a particle size of 0 ~ 100 \\uf06dm;  \\n \\n- 1 part of vegetable carbon dust with a particle size of 0 ~ 100 \\uf06dm; \\n \\n- 0.2 part of NaCMC 4) and an appropriate quantity of distilled water (with a \\nconductivity < 1mS/m). \\n \\nThe mixture shall be valid only within 14 days.  \\n                                                        \\n4) NaCMC represents the sodium salt of carboxymethylcellulose, customarily referred to as CMC. The \\nNaCMC used in the test mixture shall have a degree of substitution (DS) of 0.6 ~ 0.7 and a viscosity of \\n200 ~ 300 cp for a 2% solution of 20\\uf0b0C. \\n\\n                                                               July/2011 \\n \\nACEA Translation                                                             18 \\nFor Reference Purposes Only \\n \\nA.1.2.2.2 For headlamp with outside lens in plastic material \\n \\nA mixture to be applied to the headlamp lens shall consist of (by weight):  \\n \\n- 9 parts of silica sand with a particle size of 0 ~ 100 \\uf06dm;  \\n \\n- 1 part of vegetable carbon dust with a particle size of 0 ~ 100 \\uf06dm; \\n \\n- 0.2 part of NaCMC; \\n \\n- 13 parts of distilled water (with a conductivity < 1mS/m);  \\n \\n- (2±1) parts of surfactant.  \\n \\nThe tolerance of surfactant consumption shall be such that the test mixture could \\nbe distributed onto the entire lens. The mixture shall be valid only within 14 days. \\nA.1.2.1.3  Application of the test mixture  \\n \\nThe test mixture shall be uniformly applied to the entire light-emitting surface of the \\nheadlamp and then left to dry. This procedure shall be repeated until the \\nilluminating value has dropped to 15 ~ 20% of the driving beam value initially \\nmeasured at point Emax and 50R and 50V for a passing lamp.  \\nA.1.2.1.4  Measuring equipment:  \\n \\nThe measuring equipment shall be equivalent to that used during headlamp \\napproval tests. A standard filament lamp shall be used for the photometric \\nverification of semi-enclosed headlamps.  \\nA.2  \\n \\nTest for change in vertical position of the cut-off line under the influence of \\nheat:  \\n \\nThis test is intended for checking whether the vertical drift of the cut-off line under \\nthe influence of heat exceeds a specified value.  \\n \\nThe headlamp tested in accordance with Paragraph A.1 shall be subjected to the \\ntest described in Paragraph A.2.1 below, without being removed from or readjusted \\nin relation to its test fixture. \\nA.2.1  \\nTest  \\n \\nThe test shall be carried out in a dry and still atmosphere at an ambient \\ntemperature of 23°C ± 5°C.  \\n \\nUsing a mass production LED module/filament lamp which has been aged for at \\nleast 1 hour, the headlamp shall be operated by adjusting the test voltage as per \\nParagraph A.1.1.1.2.  \\n \\nThe vertical position of the cut-off between line ‘vv’ and the vertical line passing \\nthrough point B50L shall be verified 3 minutes (r3) and 60 minutes (r60) respectively \\nafter operation.  \\n \\nThe measurement of the variation in the vertical cut-off line position as described \\nabove could be carried out by any method giving acceptable accuracy and \\nreproducible results.  \\n\\n                                                               July/2011 \\n \\nACEA Translation                                                             19 \\nFor Reference Purposes Only \\n \\nA.2.2  \\nTest result  \\n \\nThe result shall be considered as acceptable when ∆rI=|r3-r60|≤1mrad. \\n \\nIf 1mrad<∆rI≤1.5mrad, a second headlamp shall be tested as described in \\nParagraph A.2.1, after being subjected three consecutive times to the cycle \\n(operation for 1 hour and rest for 1 hour). The ignition voltage shall be regulated as \\nper Paragraph A.1.1.1.2. \\n \\nAfter the test, the headlamp type shall be considered as acceptable if \\n(∆rI+∆rII)/2≤1mrad. \\nA.2.3  \\nConformity of production  \\n \\nAfter having been subjected three consecutive times to the cycle as specified in \\nParagraph A.2.2, proceed with the tests as per Paragraph A.2.1 above, and the \\nresult shall be deemed satisfactory if ∆rI≤1.5mrad. \\n \\nProvided 1.5mrad<∆rI≤2.0mrad, a second headlamp shall be tested as per \\nprescriptions. If (∆rI+∆rII)/2≤1.5mrad, the result shall be deemed satisfactory. \\n \\n \\n  \\n \\n \\n\\n                                                               July/2011 \\n \\nACEA Translation                                                             20 \\nFor Reference Purposes Only \\n \\nAnnex B \\n(Normative)  \\nStability Test for Illumination and Color Temperature of LED Headlamp  \\n \\nB.1  \\nIllumination  \\nB.1.1  \\nA photometric measurement of the headlamp shall be made after 1 minute of \\noperation for the specific function at the test point specified below. For these \\nmeasurements, the aim can be approximate but must be maintained for before and \\nafter ratio measurements. \\nTest points to be measured:  \\n50V for passing beam  \\nHV for driving beam \\nB.1.2  \\nThe lamp shall continue operation until photometric stability has occurred. The \\nvariation of the photometric value, as required in Paragraph B.1.1, shall be less \\nthan 3% within a 15 minute period.  \\n \\nAfter stability has occurred, record the photometric value of the test points as \\nrequired in Paragraph B.1.1, aim shall be performed in accordance with the \\nrequirements of Paragraph 6.3.4 or 6.3.5, and measure photometric values at all \\ntest points required.  \\nB.1.3  \\nCalculate the ratio between the photometric test point value determined in \\nParagraph B.1.1 and the point value determined in Paragraph B.1.2. \\nB.1.4  \\nApply the ratio calculated above to each of the remainder of the test points to \\ncompute the complete photometry based on one minute of operation. \\nB.1.5  \\nThe photometric values, measured after one minute and after photometric stability \\nhas occurred, shall comply with the minimum and maximum requirements. \\nB.2  \\n Light color  \\nThe color of the light emitted measured after one minute and measured after \\nphotometric stability has been obtained, as described in Paragraph B.1.2 of this \\nAnnex, shall both be within the required color boundaries. \\nB.3  \\n \\nThe measurement of the objective luminous flux of LED module(s) producing \\nthe passing beam shall be carried out as follows  \\nB.3.1  \\nThe LED module(s) shall be in the configuration as described in the technical \\nspecification as defined in Paragraph 7.3 of this Standard. Secondary optical \\nelements shall be removed. This procedure and the conditions during the \\nmeasurements as described below shall be recorded in the test report. \\n\\n                                                               July/2011 \\n \\nACEA Translation                                                             21 \\nFor Reference Purposes Only \\n \\nB.3.2  \\nThree LED modules of each type shall be submitted with the light source control \\ngear, if applicable, and sufficient instructions. \\nB.3.3 \\nSuitable thermal management shall be provided, to simulate similar thermal \\nconditions as in the corresponding headlamp application. \\n \\nBefore the test, each LED module shall be aged at least for 72 hours under the \\nsame conditions as in the corresponding headlamp application. \\n \\nIn the case of use of an integrating sphere, the sphere shall have a minimum \\ndiameter of one meter, and at least ten times the maximum dimension of the LED \\nmodule. The luminous flux measurements can also be performed by integration \\nusing a goniophotometer.  \\n \\nThe LED module shall be burned in for approximately 1 hour in the closed sphere \\nor goniophotometer. \\n \\nThe luminous flux shall be measured after stability has occurred, as explained in \\nParagraph B.1.2 of this Annex. \\n \\nThe average of the measurements of the three samples of each type of LED \\nmodule shall be deemed to be its objective luminous flux. \\n \\n \\n\\n                                                               July/2011 \\n \\nACEA Translation                                                             22 \\nFor Reference Purposes Only \\n \\nAnnex C \\n(Normative)  \\nTest of Resistance of LED Headlamp to Temperature Change Cycle  \\nC.1  \\nTest conditions  \\nC.1.1  \\nPhotometric characteristics shall be checked prior to and after the test.  \\nC.1.2  \\nPrior to the placement of the samples, the air flow rate inside the cabin shall fall \\nwithin 1 m/s ~ 2 m/s. \\nC.1.3  \\nThe interval between sample and cabin wall shall be larger than 200 mm. \\nC.2  \\nTest procedures  \\nC.2.1  \\nTwo samples shall be mounted onto test brackets; when being placed into the test \\ncabin, each sample shall be such that its reference axis runs parallel to the \\nprincipal direction of the cooling air flow.  \\nC.2.2  \\nSamples shall undergo the 5 high and low temperature test cycles as shown in \\nFigure 1, with each cycle lasting 8h. Concretely,  \\nCycle initial temperature: 20\\uf0b0C; \\nLow temperature: -30\\uf0b0C/at least 2h; \\nHigh temperature: 50\\uf0b0C/at least 2h; \\nTemperature switching rate: 0.6\\uf0b0C/minute ~ 5.0\\uf0b0C/minute; \\nOperation mode: Turned on at point “A” and turned off at point “B”, as shown in \\nFigureC.1;  \\nTest voltage: 13.2V±0.1V (28.0±0.1V in case of LED headlamp with the rated \\nvoltage of 24V).  \\nC.2.3  \\nAt the end of test, take out the samples from the cabin, which shall then be \\npreserved for 1h at the room temperature 23\\uf0b0C±5\\uf0b0C and a relative humidity of 30% \\n~ 60%.  \\n \\nFigure C.1  Temperature vs. time curve for the temperature cycle test \\nTemperature (\\uf0b0C) \\nMin. 2h \\nTime (h) \\nMin. 2h \\nPoint ‘B’ \\nPoint ‘A’ \\n', metadata={'source': 'data/GB 25991-2010 Automotive Headlamps with LED Light Sources andor LED Modules (1) (2).pdf'})"
      ]
     },
     "execution_count": 5,
     "metadata": {},
     "output_type": "execute_result"
    }
   ],
   "source": [
    "loader = PyMuPDFLoader(path)\n",
    "documents = loader.load()\n",
    "combined_text = \"\\n\".join(doc.page_content for doc in documents)\n",
    "document = Document(page_content=combined_text, metadata={\"source\": path})\n",
    "document"
   ]
  },
  {
   "cell_type": "code",
   "execution_count": 6,
   "metadata": {},
   "outputs": [],
   "source": [
    "documents = [document]"
   ]
  },
  {
   "cell_type": "code",
   "execution_count": 7,
   "metadata": {
    "id": "EuHqhjLRL7YX"
   },
   "outputs": [],
   "source": [
    "# from langchain_community.document_loaders import TextLoader\n",
    "# from langchain_community.document_loaders import DirectoryLoader\n",
    "# # Load and process the text files\n",
    "# loader = DirectoryLoader('data/', glob=\"./*.txt\", loader_cls=TextLoader)\n",
    "# documents = loader.load()  # text file to [document]"
   ]
  },
  {
   "cell_type": "code",
   "execution_count": 8,
   "metadata": {},
   "outputs": [],
   "source": [
    "# loader = PyPDFLoader(path)\n",
    "# documents = loader.load()\n",
    "# len(documents)  # List of documents for each page"
   ]
  },
  {
   "cell_type": "markdown",
   "metadata": {
    "id": "zI5QaEbBL7Yd"
   },
   "source": [
    "# Parent Document Retriever\n",
    "Version 1 - Smaller chunks"
   ]
  },
  {
   "cell_type": "code",
   "execution_count": 23,
   "metadata": {
    "id": "1p7-H3CBL7Yd"
   },
   "outputs": [],
   "source": [
    "from langchain.storage import InMemoryStore\n",
    "from langchain.retrievers import ParentDocumentRetriever\n",
    "\n",
    "child_splitter = RecursiveCharacterTextSplitter(chunk_size=120, chunk_overlap=20)\n",
    "parent_splitter = RecursiveCharacterTextSplitter(chunk_size=500, chunk_overlap=20)\n",
    "\n",
    "vectorstore = Chroma(\n",
    "    collection_name=\"full_documents\", embedding_function=hf\n",
    ")\n",
    "store = InMemoryStore()\n",
    "retriever = ParentDocumentRetriever(\n",
    "    vectorstore=vectorstore,\n",
    "    docstore=store,\n",
    "    child_splitter=child_splitter,\n",
    "    parent_splitter=parent_splitter\n",
    ")"
   ]
  },
  {
   "cell_type": "code",
   "execution_count": 24,
   "metadata": {
    "colab": {
     "referenced_widgets": [
      "04c42c0e8efb4f6cb86be653a2e16c7b"
     ]
    },
    "id": "k-By_EODL7Yd",
    "outputId": "e3c80f66-94c8-4560-9bd5-c750eca95e38"
   },
   "outputs": [
    {
     "name": "stdout",
     "output_type": "stream",
     "text": [
      "Documents added in 225.83366322517395 seconds\n"
     ]
    }
   ],
   "source": [
    "s = time.time()\n",
    "retriever.add_documents(documents, ids=None)\n",
    "print(\"Documents added in\", time.time()-s,\"seconds\")"
   ]
  },
  {
   "cell_type": "code",
   "execution_count": 11,
   "metadata": {
    "id": "XtziT-MBL7Ye",
    "outputId": "5f28b29e-53a2-4e4b-e228-e83a96b8f4ce",
    "scrolled": true
   },
   "outputs": [],
   "source": [
    "# list(store.yield_keys())"
   ]
  },
  {
   "cell_type": "code",
   "execution_count": 12,
   "metadata": {
    "colab": {
     "referenced_widgets": [
      "3fb2b3e0cf5e405ca1c36dfd5c51afc2"
     ]
    },
    "id": "LXVA5Mn8L7Ye",
    "outputId": "5b5a71e1-8cf7-4461-9a9c-53cd3c07c45c"
   },
   "outputs": [
    {
     "data": {
      "text/plain": [
       "[Document(page_content='\\uf0b3 6 \\n \\n5.4  \\nLight color  \\n \\nThe color of the light emitted by LED headlamps shall be white. Expressed in CIE', metadata={'doc_id': 'df826b2c-562a-4d23-96d9-3e3fe9e539af', 'source': 'data/GB 25991-2010 Automotive Headlamps with LED Light Sources andor LED Modules (1) (2).pdf'}),\n",
       " Document(page_content='Color rendering  \\n \\nThe color rendering of LED headlamps or LED modules shall conform to the', metadata={'doc_id': '66f0e4c7-3a30-44cd-85de-5a0bb4adb62f', 'source': 'data/GB 25991-2010 Automotive Headlamps with LED Light Sources andor LED Modules (1) (2).pdf'}),\n",
       " Document(page_content='Light sources  \\n \\nLED headlamps shall use the LED light source/LED module(s) in compliance with', metadata={'doc_id': '4a98b493-7944-44f0-a681-f526ba476a09', 'source': 'data/GB 25991-2010 Automotive Headlamps with LED Light Sources andor LED Modules (1) (2).pdf'}),\n",
       " Document(page_content='The low-UV-radiation type LED headlamp or LED module shall be such that:', metadata={'doc_id': '266c3a1c-3be5-466c-991f-7fb6ae0f768b', 'source': 'data/GB 25991-2010 Automotive Headlamps with LED Light Sources andor LED Modules (1) (2).pdf'})]"
      ]
     },
     "execution_count": 12,
     "metadata": {},
     "output_type": "execute_result"
    }
   ],
   "source": [
    "query=\"The color of the light emitted by LED headlamps shall be?\"\n",
    "sub_docs = vectorstore.similarity_search(query)\n",
    "sub_docs"
   ]
  },
  {
   "cell_type": "code",
   "execution_count": 13,
   "metadata": {
    "colab": {
     "referenced_widgets": [
      "0fb8578b76e941efa07fea6333619e2a"
     ]
    },
    "id": "hBQk75vpL7Yf",
    "outputId": "a7ba4529-7513-4f64-989d-d3a60193cfd0"
   },
   "outputs": [
    {
     "name": "stderr",
     "output_type": "stream",
     "text": [
      "C:\\Users\\VISHAL MAURYA\\Desktop\\Document Comparision\\pdr_venv\\Lib\\site-packages\\langchain_core\\_api\\deprecation.py:119: LangChainDeprecationWarning: The method `BaseRetriever.get_relevant_documents` was deprecated in langchain-core 0.1.46 and will be removed in 0.3.0. Use invoke instead.\n",
      "  warn_deprecated(\n"
     ]
    },
    {
     "data": {
      "text/plain": [
       "[Document(page_content='Luminance \\nEmax \\n\\uf0b3 48 and \\uf0a3 240 \\nPoint ‘HV’ \\n\\uf0b3 0.80Emax \\nPoint ‘HV’ to 1125L and R \\n\\uf0b3 24 \\nPoint ‘HV’ to 2250L and R \\n\\uf0b3 6 \\n \\n5.4  \\nLight color  \\n \\nThe color of the light emitted by LED headlamps shall be white. Expressed in CIE \\nchromatic coordinates, the chromatic characteristics shall conform to the provisions \\nof GB 4785.  \\n5.5  \\nLight sources', metadata={'source': 'data/GB 25991-2010 Automotive Headlamps with LED Light Sources andor LED Modules (1) (2).pdf'}),\n",
       " Document(page_content='Color rendering  \\n \\nThe color rendering of LED headlamps or LED modules shall conform to the \\nrequirements of the minimum red content of the light:', metadata={'source': 'data/GB 25991-2010 Automotive Headlamps with LED Light Sources andor LED Modules (1) (2).pdf'}),\n",
       " Document(page_content='Light sources  \\n \\nLED headlamps shall use the LED light source/LED module(s) in compliance with \\nthis Standard; any other light source contained within the headlamp shall comply \\nwith GB 15766.1 or ECE R37.  \\n \\nFor the LED light source or LED module intended for emitting the passing beam, \\nthe objective luminous flux shall be no less than 1,000 lm. \\n5.6  \\nColor rendering', metadata={'source': 'data/GB 25991-2010 Automotive Headlamps with LED Light Sources andor LED Modules (1) (2).pdf'}),\n",
       " Document(page_content='met, and the surfaces of the samples shall be free of cracks, scratches, scalings or \\ndeformation. \\n5.9.2.2 \\n \\nThe testing is not necessary if the LED headlamp uses low-UV-radiation type LED \\nmodule, or the related optical sub-assemblies have been shielded from UV \\nradiation, e.g. by glass filters.  \\nThe low-UV-radiation type LED headlamp or LED module shall be such that:', metadata={'source': 'data/GB 25991-2010 Automotive Headlamps with LED Light Sources andor LED Modules (1) (2).pdf'})]"
      ]
     },
     "execution_count": 13,
     "metadata": {},
     "output_type": "execute_result"
    }
   ],
   "source": [
    "retrieved_docs = retriever.get_relevant_documents(query)\n",
    "retrieved_docs"
   ]
  },
  {
   "cell_type": "code",
   "execution_count": 30,
   "metadata": {},
   "outputs": [],
   "source": [
    "def get_relevant_chunks(query):\n",
    "    sub_docs = vectorstore.similarity_search(query)\n",
    "    retrieved_docs = retriever.get_relevant_documents(query)\n",
    "    for i in range(len(retrieved_docs)):\n",
    "        print(\"---------------------------------------------\",i+1)\n",
    "        print(retrieved_docs[i].page_content)"
   ]
  },
  {
   "cell_type": "code",
   "execution_count": 31,
   "metadata": {},
   "outputs": [
    {
     "name": "stdout",
     "output_type": "stream",
     "text": [
      "--------------------------------------------- 1\n",
      "luminometer being Class 1 as specified in the national calibration procedures \n",
      "(errors of indicated values not exceeding ±4%). \n",
      "6.2  \n",
      "The luminous and electrical performance shall be measured at the ambient \n",
      "temperature of 23C±5C and the relative humidity of 20% ~ 80%. \n",
      "6.3  \n",
      "Photometric measurements  \n",
      "6.3.1  \n",
      "The LED module of headlamp shall be operated for 15 h and cooled down to \n",
      "ambient temperature before starting the tests.   \n",
      "6.3.2\n",
      "--------------------------------------------- 2\n",
      "carried out with the filament lamp whose wattage is the highest that can be used. \n",
      "A.1.1.2  \n",
      "Test result  \n",
      "A.1.1.2.1  Visual inspection  \n",
      " \n",
      "Once the headlamp has been cooled down to the ambient temperature, the \n",
      "headlamp lens shall be cleaned with a clean, damp cotton cloth. It shall then be \n",
      "inspected visually; no distortion, deformation, cracking or change in color shall be \n",
      "noticeable. \n",
      "A.1.1.2.2  Photometric test\n"
     ]
    }
   ],
   "source": [
    "query1 = \"The LED module of headlamp shall be operated for how many hours before cooled down toambient temperature before starting the tests?\"\n",
    "get_relevant_chunks(query1)"
   ]
  },
  {
   "cell_type": "code",
   "execution_count": 32,
   "metadata": {},
   "outputs": [
    {
     "name": "stdout",
     "output_type": "stream",
     "text": [
      "--------------------------------------------- 1\n",
      "July/2011 \n",
      " \n",
      "ACEA Translation                                                             16 \n",
      "For Reference Purposes Only \n",
      " \n",
      "Annex A \n",
      "(Normative) \n",
      "Tests for Stability of Photometric Performance of LED Headlamps \n",
      "A.1  \n",
      "Test of stability of photometric performance  \n",
      " \n",
      "The tests shall be carried out in a dry and still atmosphere at an ambient \n",
      "temperature of 23±5°C, the complete headlamp being mounted on a base\n",
      "--------------------------------------------- 2\n",
      "B.1.5  \n",
      "The photometric values, measured after one minute and after photometric stability \n",
      "has occurred, shall comply with the minimum and maximum requirements. \n",
      "B.2  \n",
      " Light color  \n",
      "The color of the light emitted measured after one minute and measured after \n",
      "photometric stability has been obtained, as described in Paragraph B.1.2 of this \n",
      "Annex, shall both be within the required color boundaries. \n",
      "B.3  \n",
      " \n",
      "The measurement of the objective luminous flux of LED module(s) producing\n"
     ]
    }
   ],
   "source": [
    "query2 = \"Tell me about Test of stability of photometric performance.\"\n",
    "get_relevant_chunks(query2)"
   ]
  },
  {
   "cell_type": "code",
   "execution_count": 35,
   "metadata": {},
   "outputs": [
    {
     "name": "stdout",
     "output_type": "stream",
     "text": [
      "--------------------------------------------- 1\n",
      "illuminating value has dropped to 15 ~ 20% of the driving beam value initially \n",
      "measured at point Emax and 50R and 50V for a passing lamp.  \n",
      "A.1.2.1.4  Measuring equipment:  \n",
      " \n",
      "The measuring equipment shall be equivalent to that used during headlamp \n",
      "approval tests. A standard filament lamp shall be used for the photometric \n",
      "verification of semi-enclosed headlamps.  \n",
      "A.2  \n",
      " \n",
      "Test for change in vertical position of the cut-off line under the influence of \n",
      "heat:\n",
      "--------------------------------------------- 2\n",
      "heat:  \n",
      " \n",
      "This test is intended for checking whether the vertical drift of the cut-off line under \n",
      "the influence of heat exceeds a specified value.  \n",
      " \n",
      "The headlamp tested in accordance with Paragraph A.1 shall be subjected to the \n",
      "test described in Paragraph A.2.1 below, without being removed from or readjusted \n",
      "in relation to its test fixture. \n",
      "A.2.1  \n",
      "Test  \n",
      " \n",
      "The test shall be carried out in a dry and still atmosphere at an ambient \n",
      "temperature of 23°C ± 5°C.\n"
     ]
    }
   ],
   "source": [
    "query4 = \"What are environmental conditions for test for change in vertical position of the cut-off line under the influence ofheat?\"\n",
    "get_relevant_chunks(query4)"
   ]
  },
  {
   "cell_type": "code",
   "execution_count": 34,
   "metadata": {},
   "outputs": [
    {
     "name": "stdout",
     "output_type": "stream",
     "text": [
      "--------------------------------------------- 1\n",
      "A mixture to be applied to the headlamp lens shall consist of (by weight):  \n",
      " \n",
      "- 9 parts of silica sand with a particle size of 0 ~ 100 m;  \n",
      " \n",
      "- 1 part of vegetable carbon dust with a particle size of 0 ~ 100 m; \n",
      " \n",
      "- 0.2 part of NaCMC 4) and an appropriate quantity of distilled water (with a \n",
      "conductivity < 1mS/m). \n",
      " \n",
      "The mixture shall be valid only within 14 days.\n",
      "--------------------------------------------- 2\n",
      "July/2011 \n",
      " \n",
      "ACEA Translation                                                             18 \n",
      "For Reference Purposes Only \n",
      " \n",
      "A.1.2.2.2 For headlamp with outside lens in plastic material \n",
      " \n",
      "A mixture to be applied to the headlamp lens shall consist of (by weight):  \n",
      " \n",
      "- 9 parts of silica sand with a particle size of 0 ~ 100 m;  \n",
      " \n",
      "- 1 part of vegetable carbon dust with a particle size of 0 ~ 100 m; \n",
      " \n",
      "- 0.2 part of NaCMC;\n"
     ]
    }
   ],
   "source": [
    "query3 = \"For headlamp with the outside lens in glass, a mixture to be applied to the headlamp lens shall consist of which elements\"\n",
    "get_relevant_chunks(query3)\n"
   ]
  },
  {
   "cell_type": "code",
   "execution_count": null,
   "metadata": {},
   "outputs": [],
   "source": []
  },
  {
   "cell_type": "code",
   "execution_count": null,
   "metadata": {},
   "outputs": [],
   "source": []
  },
  {
   "cell_type": "code",
   "execution_count": null,
   "metadata": {},
   "outputs": [],
   "source": []
  },
  {
   "cell_type": "code",
   "execution_count": null,
   "metadata": {},
   "outputs": [],
   "source": []
  },
  {
   "cell_type": "code",
   "execution_count": null,
   "metadata": {},
   "outputs": [],
   "source": []
  },
  {
   "cell_type": "code",
   "execution_count": null,
   "metadata": {},
   "outputs": [],
   "source": []
  },
  {
   "cell_type": "code",
   "execution_count": 18,
   "metadata": {
    "id": "RU3auoHYL7Yh",
    "outputId": "aaecad31-a616-45b5-d100-f4773ca2f820"
   },
   "outputs": [
    {
     "name": "stdout",
     "output_type": "stream",
     "text": [
      "Collecting cohere\n",
      "  Obtaining dependency information for cohere from https://files.pythonhosted.org/packages/9c/69/4822001b6cbb23afb8b008eda54415e99d3adecd6faf07f28538bf447264/cohere-5.5.6-py3-none-any.whl.metadata\n",
      "  Downloading cohere-5.5.6-py3-none-any.whl.metadata (3.6 kB)\n",
      "Collecting boto3<2.0.0,>=1.34.0 (from cohere)\n",
      "  Obtaining dependency information for boto3<2.0.0,>=1.34.0 from https://files.pythonhosted.org/packages/8f/7b/fcee692d939f8b4dc5406d4daf15c4d98b8cfa6908a77f224092d445928f/boto3-1.34.122-py3-none-any.whl.metadata\n",
      "  Downloading boto3-1.34.122-py3-none-any.whl.metadata (6.6 kB)\n",
      "Collecting fastavro<2.0.0,>=1.9.4 (from cohere)\n",
      "  Obtaining dependency information for fastavro<2.0.0,>=1.9.4 from https://files.pythonhosted.org/packages/2b/7e/18d9b5c3e1621f58c1f4bee67ec1e4dd8ce8287e70c97262088a5673145c/fastavro-1.9.4-cp311-cp311-win_amd64.whl.metadata\n",
      "  Downloading fastavro-1.9.4-cp311-cp311-win_amd64.whl.metadata (5.7 kB)\n",
      "Requirement already satisfied: httpx>=0.21.2 in c:\\users\\vishal maurya\\desktop\\document comparision\\pdr_venv\\lib\\site-packages (from cohere) (0.27.0)\n",
      "Collecting httpx-sse<0.5.0,>=0.4.0 (from cohere)\n",
      "  Obtaining dependency information for httpx-sse<0.5.0,>=0.4.0 from https://files.pythonhosted.org/packages/e1/9b/a181f281f65d776426002f330c31849b86b31fc9d848db62e16f03ff739f/httpx_sse-0.4.0-py3-none-any.whl.metadata\n",
      "  Downloading httpx_sse-0.4.0-py3-none-any.whl.metadata (9.0 kB)\n",
      "Collecting parameterized<0.10.0,>=0.9.0 (from cohere)\n",
      "  Obtaining dependency information for parameterized<0.10.0,>=0.9.0 from https://files.pythonhosted.org/packages/00/2f/804f58f0b856ab3bf21617cccf5b39206e6c4c94c2cd227bde125ea6105f/parameterized-0.9.0-py2.py3-none-any.whl.metadata\n",
      "  Downloading parameterized-0.9.0-py2.py3-none-any.whl.metadata (18 kB)\n",
      "Requirement already satisfied: pydantic>=1.9.2 in c:\\users\\vishal maurya\\desktop\\document comparision\\pdr_venv\\lib\\site-packages (from cohere) (2.7.3)\n",
      "Requirement already satisfied: requests<3.0.0,>=2.0.0 in c:\\users\\vishal maurya\\desktop\\document comparision\\pdr_venv\\lib\\site-packages (from cohere) (2.32.3)\n",
      "Collecting tokenizers<0.16,>=0.15 (from cohere)\n",
      "  Obtaining dependency information for tokenizers<0.16,>=0.15 from https://files.pythonhosted.org/packages/c1/02/40725eebedea8175918bd59ab80b2174d6ef3b3ef9ac8ec996e84c38d3ca/tokenizers-0.15.2-cp311-none-win_amd64.whl.metadata\n",
      "  Using cached tokenizers-0.15.2-cp311-none-win_amd64.whl.metadata (6.8 kB)\n",
      "Collecting types-requests<3.0.0,>=2.0.0 (from cohere)\n",
      "  Obtaining dependency information for types-requests<3.0.0,>=2.0.0 from https://files.pythonhosted.org/packages/3b/b1/aad4376acab3bba3c155fdcfd8eccedf0d33b453fc6e67ca3960f3086909/types_requests-2.32.0.20240602-py3-none-any.whl.metadata\n",
      "  Downloading types_requests-2.32.0.20240602-py3-none-any.whl.metadata (1.8 kB)\n",
      "Requirement already satisfied: typing_extensions>=4.0.0 in c:\\users\\vishal maurya\\desktop\\document comparision\\pdr_venv\\lib\\site-packages (from cohere) (4.12.1)\n",
      "Collecting botocore<1.35.0,>=1.34.122 (from boto3<2.0.0,>=1.34.0->cohere)\n",
      "  Obtaining dependency information for botocore<1.35.0,>=1.34.122 from https://files.pythonhosted.org/packages/b5/60/0d5d689b295ba08b72db0643987fad14a1e29a341c508f2edd4ff29856b9/botocore-1.34.122-py3-none-any.whl.metadata\n",
      "  Downloading botocore-1.34.122-py3-none-any.whl.metadata (5.7 kB)\n",
      "Collecting jmespath<2.0.0,>=0.7.1 (from boto3<2.0.0,>=1.34.0->cohere)\n",
      "  Obtaining dependency information for jmespath<2.0.0,>=0.7.1 from https://files.pythonhosted.org/packages/31/b4/b9b800c45527aadd64d5b442f9b932b00648617eb5d63d2c7a6587b7cafc/jmespath-1.0.1-py3-none-any.whl.metadata\n",
      "  Downloading jmespath-1.0.1-py3-none-any.whl.metadata (7.6 kB)\n",
      "Collecting s3transfer<0.11.0,>=0.10.0 (from boto3<2.0.0,>=1.34.0->cohere)\n",
      "  Obtaining dependency information for s3transfer<0.11.0,>=0.10.0 from https://files.pythonhosted.org/packages/83/37/395cdb6ee92925fa211e55d8f07b9f93cf93f60d7d4ce5e66fd73f1ea986/s3transfer-0.10.1-py3-none-any.whl.metadata\n",
      "  Downloading s3transfer-0.10.1-py3-none-any.whl.metadata (1.7 kB)\n",
      "Requirement already satisfied: anyio in c:\\users\\vishal maurya\\desktop\\document comparision\\pdr_venv\\lib\\site-packages (from httpx>=0.21.2->cohere) (4.4.0)\n",
      "Requirement already satisfied: certifi in c:\\users\\vishal maurya\\desktop\\document comparision\\pdr_venv\\lib\\site-packages (from httpx>=0.21.2->cohere) (2024.6.2)\n",
      "Requirement already satisfied: httpcore==1.* in c:\\users\\vishal maurya\\desktop\\document comparision\\pdr_venv\\lib\\site-packages (from httpx>=0.21.2->cohere) (1.0.5)\n",
      "Requirement already satisfied: idna in c:\\users\\vishal maurya\\desktop\\document comparision\\pdr_venv\\lib\\site-packages (from httpx>=0.21.2->cohere) (3.7)\n",
      "Requirement already satisfied: sniffio in c:\\users\\vishal maurya\\desktop\\document comparision\\pdr_venv\\lib\\site-packages (from httpx>=0.21.2->cohere) (1.3.1)\n",
      "Requirement already satisfied: h11<0.15,>=0.13 in c:\\users\\vishal maurya\\desktop\\document comparision\\pdr_venv\\lib\\site-packages (from httpcore==1.*->httpx>=0.21.2->cohere) (0.14.0)\n",
      "Requirement already satisfied: annotated-types>=0.4.0 in c:\\users\\vishal maurya\\desktop\\document comparision\\pdr_venv\\lib\\site-packages (from pydantic>=1.9.2->cohere) (0.7.0)\n",
      "Requirement already satisfied: pydantic-core==2.18.4 in c:\\users\\vishal maurya\\desktop\\document comparision\\pdr_venv\\lib\\site-packages (from pydantic>=1.9.2->cohere) (2.18.4)\n",
      "Requirement already satisfied: charset-normalizer<4,>=2 in c:\\users\\vishal maurya\\desktop\\document comparision\\pdr_venv\\lib\\site-packages (from requests<3.0.0,>=2.0.0->cohere) (3.3.2)\n",
      "Requirement already satisfied: urllib3<3,>=1.21.1 in c:\\users\\vishal maurya\\desktop\\document comparision\\pdr_venv\\lib\\site-packages (from requests<3.0.0,>=2.0.0->cohere) (2.2.1)\n",
      "Requirement already satisfied: huggingface_hub<1.0,>=0.16.4 in c:\\users\\vishal maurya\\desktop\\document comparision\\pdr_venv\\lib\\site-packages (from tokenizers<0.16,>=0.15->cohere) (0.23.3)\n",
      "Requirement already satisfied: python-dateutil<3.0.0,>=2.1 in c:\\users\\vishal maurya\\desktop\\document comparision\\pdr_venv\\lib\\site-packages (from botocore<1.35.0,>=1.34.122->boto3<2.0.0,>=1.34.0->cohere) (2.9.0.post0)\n",
      "Requirement already satisfied: filelock in c:\\users\\vishal maurya\\desktop\\document comparision\\pdr_venv\\lib\\site-packages (from huggingface_hub<1.0,>=0.16.4->tokenizers<0.16,>=0.15->cohere) (3.14.0)\n",
      "Requirement already satisfied: fsspec>=2023.5.0 in c:\\users\\vishal maurya\\desktop\\document comparision\\pdr_venv\\lib\\site-packages (from huggingface_hub<1.0,>=0.16.4->tokenizers<0.16,>=0.15->cohere) (2024.6.0)\n",
      "Requirement already satisfied: packaging>=20.9 in c:\\users\\vishal maurya\\desktop\\document comparision\\pdr_venv\\lib\\site-packages (from huggingface_hub<1.0,>=0.16.4->tokenizers<0.16,>=0.15->cohere) (23.2)\n",
      "Requirement already satisfied: pyyaml>=5.1 in c:\\users\\vishal maurya\\desktop\\document comparision\\pdr_venv\\lib\\site-packages (from huggingface_hub<1.0,>=0.16.4->tokenizers<0.16,>=0.15->cohere) (6.0.1)\n",
      "Requirement already satisfied: tqdm>=4.42.1 in c:\\users\\vishal maurya\\desktop\\document comparision\\pdr_venv\\lib\\site-packages (from huggingface_hub<1.0,>=0.16.4->tokenizers<0.16,>=0.15->cohere) (4.66.4)\n",
      "Requirement already satisfied: six>=1.5 in c:\\users\\vishal maurya\\desktop\\document comparision\\pdr_venv\\lib\\site-packages (from python-dateutil<3.0.0,>=2.1->botocore<1.35.0,>=1.34.122->boto3<2.0.0,>=1.34.0->cohere) (1.16.0)\n",
      "Requirement already satisfied: colorama in c:\\users\\vishal maurya\\desktop\\document comparision\\pdr_venv\\lib\\site-packages (from tqdm>=4.42.1->huggingface_hub<1.0,>=0.16.4->tokenizers<0.16,>=0.15->cohere) (0.4.6)\n",
      "Downloading cohere-5.5.6-py3-none-any.whl (165 kB)\n",
      "   ---------------------------------------- 0.0/165.1 kB ? eta -:--:--\n",
      "   -- ------------------------------------- 10.2/165.1 kB ? eta -:--:--\n",
      "   ------- ------------------------------- 30.7/165.1 kB 640.0 kB/s eta 0:00:01\n",
      "   -------------- ------------------------ 61.4/165.1 kB 544.7 kB/s eta 0:00:01\n",
      "   ------------------- ------------------- 81.9/165.1 kB 573.4 kB/s eta 0:00:01\n",
      "   --------------------- ----------------- 92.2/165.1 kB 581.0 kB/s eta 0:00:01\n",
      "   ---------------------------- --------- 122.9/165.1 kB 554.9 kB/s eta 0:00:01\n",
      "   -------------------------------------  163.8/165.1 kB 577.4 kB/s eta 0:00:01\n",
      "   -------------------------------------- 165.1/165.1 kB 582.0 kB/s eta 0:00:00\n",
      "Downloading boto3-1.34.122-py3-none-any.whl (139 kB)\n",
      "   ---------------------------------------- 0.0/139.3 kB ? eta -:--:--\n",
      "   -------- ------------------------------- 30.7/139.3 kB 1.3 MB/s eta 0:00:01\n",
      "   ----------------- --------------------- 61.4/139.3 kB 812.7 kB/s eta 0:00:01\n",
      "   ------------------------- ------------- 92.2/139.3 kB 751.6 kB/s eta 0:00:01\n",
      "   ------------------------------ ------- 112.6/139.3 kB 726.2 kB/s eta 0:00:01\n",
      "   -------------------------------------- 139.3/139.3 kB 635.9 kB/s eta 0:00:00\n",
      "Downloading fastavro-1.9.4-cp311-cp311-win_amd64.whl (499 kB)\n",
      "   ---------------------------------------- 0.0/499.4 kB ? eta -:--:--\n",
      "   -- ------------------------------------ 30.7/499.4 kB 660.6 kB/s eta 0:00:01\n",
      "   ---- ---------------------------------- 61.4/499.4 kB 825.8 kB/s eta 0:00:01\n",
      "   -------- ----------------------------- 112.6/499.4 kB 819.2 kB/s eta 0:00:01\n",
      "   ---------- --------------------------- 143.4/499.4 kB 774.0 kB/s eta 0:00:01\n",
      "   -------------- ----------------------- 194.6/499.4 kB 845.5 kB/s eta 0:00:01\n",
      "   ----------------- -------------------- 225.3/499.4 kB 765.3 kB/s eta 0:00:01\n",
      "   ------------------- ------------------ 256.0/499.4 kB 749.3 kB/s eta 0:00:01\n",
      "   ----------------------- -------------- 307.2/499.4 kB 791.9 kB/s eta 0:00:01\n",
      "   --------------------------- ---------- 358.4/499.4 kB 796.7 kB/s eta 0:00:01\n",
      "   ----------------------------- -------- 389.1/499.4 kB 809.6 kB/s eta 0:00:01\n",
      "   --------------------------------- ---- 440.3/499.4 kB 835.1 kB/s eta 0:00:01\n",
      "   ----------------------------------- -- 471.0/499.4 kB 819.9 kB/s eta 0:00:01\n",
      "   -------------------------------------- 499.4/499.4 kB 803.2 kB/s eta 0:00:00\n",
      "Downloading httpx_sse-0.4.0-py3-none-any.whl (7.8 kB)\n",
      "Downloading parameterized-0.9.0-py2.py3-none-any.whl (20 kB)\n",
      "Using cached tokenizers-0.15.2-cp311-none-win_amd64.whl (2.2 MB)\n",
      "Downloading types_requests-2.32.0.20240602-py3-none-any.whl (15 kB)\n",
      "Downloading botocore-1.34.122-py3-none-any.whl (12.3 MB)\n",
      "   ---------------------------------------- 0.0/12.3 MB ? eta -:--:--\n",
      "   ---------------------------------------- 0.0/12.3 MB ? eta -:--:--\n",
      "   ---------------------------------------- 0.1/12.3 MB 991.0 kB/s eta 0:00:13\n",
      "   ---------------------------------------- 0.1/12.3 MB 991.0 kB/s eta 0:00:13\n",
      "   ---------------------------------------- 0.1/12.3 MB 658.3 kB/s eta 0:00:19\n",
      "    --------------------------------------- 0.2/12.3 MB 706.2 kB/s eta 0:00:18\n",
      "    --------------------------------------- 0.2/12.3 MB 696.3 kB/s eta 0:00:18\n",
      "    --------------------------------------- 0.2/12.3 MB 801.7 kB/s eta 0:00:16\n",
      "    --------------------------------------- 0.3/12.3 MB 842.9 kB/s eta 0:00:15\n",
      "   - -------------------------------------- 0.3/12.3 MB 873.8 kB/s eta 0:00:14\n",
      "   - -------------------------------------- 0.4/12.3 MB 897.8 kB/s eta 0:00:14\n",
      "   - -------------------------------------- 0.4/12.3 MB 867.4 kB/s eta 0:00:14\n",
      "   - -------------------------------------- 0.5/12.3 MB 887.1 kB/s eta 0:00:14\n",
      "   - -------------------------------------- 0.6/12.3 MB 913.7 kB/s eta 0:00:13\n",
      "   -- ------------------------------------- 0.6/12.3 MB 944.0 kB/s eta 0:00:13\n",
      "   -- ------------------------------------- 0.7/12.3 MB 953.9 kB/s eta 0:00:13\n",
      "   -- ------------------------------------- 0.7/12.3 MB 982.7 kB/s eta 0:00:12\n",
      "   -- ------------------------------------- 0.8/12.3 MB 957.1 kB/s eta 0:00:13\n",
      "   -- ------------------------------------- 0.8/12.3 MB 989.4 kB/s eta 0:00:12\n",
      "   -- ------------------------------------- 0.9/12.3 MB 971.3 kB/s eta 0:00:12\n",
      "   --- ------------------------------------ 0.9/12.3 MB 972.6 kB/s eta 0:00:12\n",
      "   --- ------------------------------------ 1.0/12.3 MB 993.4 kB/s eta 0:00:12\n",
      "   --- ------------------------------------ 1.0/12.3 MB 998.8 kB/s eta 0:00:12\n",
      "   --- ------------------------------------ 1.1/12.3 MB 1.0 MB/s eta 0:00:12\n",
      "   --- ------------------------------------ 1.1/12.3 MB 1.0 MB/s eta 0:00:11\n",
      "   --- ------------------------------------ 1.2/12.3 MB 1.0 MB/s eta 0:00:11\n",
      "   ---- ----------------------------------- 1.2/12.3 MB 1.0 MB/s eta 0:00:11\n",
      "   ---- ----------------------------------- 1.3/12.3 MB 1.0 MB/s eta 0:00:11\n",
      "   ---- ----------------------------------- 1.4/12.3 MB 1.1 MB/s eta 0:00:11\n",
      "   ---- ----------------------------------- 1.4/12.3 MB 1.1 MB/s eta 0:00:11\n",
      "   ---- ----------------------------------- 1.5/12.3 MB 1.1 MB/s eta 0:00:11\n",
      "   ---- ----------------------------------- 1.5/12.3 MB 1.1 MB/s eta 0:00:10\n",
      "   ----- ---------------------------------- 1.6/12.3 MB 1.1 MB/s eta 0:00:10\n",
      "   ----- ---------------------------------- 1.6/12.3 MB 1.1 MB/s eta 0:00:10\n",
      "   ----- ---------------------------------- 1.7/12.3 MB 1.1 MB/s eta 0:00:10\n",
      "   ----- ---------------------------------- 1.8/12.3 MB 1.1 MB/s eta 0:00:10\n",
      "   ----- ---------------------------------- 1.8/12.3 MB 1.1 MB/s eta 0:00:10\n",
      "   ------ --------------------------------- 1.9/12.3 MB 1.1 MB/s eta 0:00:10\n",
      "   ------ --------------------------------- 1.9/12.3 MB 1.1 MB/s eta 0:00:10\n",
      "   ------ --------------------------------- 2.0/12.3 MB 1.1 MB/s eta 0:00:10\n",
      "   ------ --------------------------------- 2.0/12.3 MB 1.1 MB/s eta 0:00:10\n",
      "   ------ --------------------------------- 2.1/12.3 MB 1.1 MB/s eta 0:00:10\n",
      "   ------ --------------------------------- 2.1/12.3 MB 1.1 MB/s eta 0:00:10\n",
      "   ------- -------------------------------- 2.2/12.3 MB 1.1 MB/s eta 0:00:09\n",
      "   ------- -------------------------------- 2.3/12.3 MB 1.1 MB/s eta 0:00:09\n",
      "   ------- -------------------------------- 2.3/12.3 MB 1.1 MB/s eta 0:00:09\n",
      "   ------- -------------------------------- 2.4/12.3 MB 1.1 MB/s eta 0:00:09\n",
      "   -------- ------------------------------- 2.5/12.3 MB 1.2 MB/s eta 0:00:09\n",
      "   -------- ------------------------------- 2.6/12.3 MB 1.2 MB/s eta 0:00:09\n",
      "   -------- ------------------------------- 2.6/12.3 MB 1.2 MB/s eta 0:00:09\n",
      "   -------- ------------------------------- 2.7/12.3 MB 1.2 MB/s eta 0:00:09\n",
      "   -------- ------------------------------- 2.7/12.3 MB 1.2 MB/s eta 0:00:09\n",
      "   --------- ------------------------------ 2.8/12.3 MB 1.2 MB/s eta 0:00:09\n",
      "   --------- ------------------------------ 2.9/12.3 MB 1.2 MB/s eta 0:00:08\n",
      "   --------- ------------------------------ 2.9/12.3 MB 1.2 MB/s eta 0:00:08\n",
      "   --------- ------------------------------ 2.9/12.3 MB 1.2 MB/s eta 0:00:09\n",
      "   --------- ------------------------------ 3.0/12.3 MB 1.2 MB/s eta 0:00:08\n",
      "   ---------- ----------------------------- 3.1/12.3 MB 1.2 MB/s eta 0:00:08\n",
      "   ---------- ----------------------------- 3.2/12.3 MB 1.2 MB/s eta 0:00:08\n",
      "   ---------- ----------------------------- 3.2/12.3 MB 1.2 MB/s eta 0:00:08\n",
      "   ---------- ----------------------------- 3.3/12.3 MB 1.2 MB/s eta 0:00:08\n",
      "   ---------- ----------------------------- 3.4/12.3 MB 1.2 MB/s eta 0:00:08\n",
      "   ----------- ---------------------------- 3.5/12.3 MB 1.2 MB/s eta 0:00:08\n",
      "   ----------- ---------------------------- 3.5/12.3 MB 1.2 MB/s eta 0:00:08\n",
      "   ----------- ---------------------------- 3.6/12.3 MB 1.2 MB/s eta 0:00:07\n",
      "   ------------ --------------------------- 3.8/12.3 MB 1.3 MB/s eta 0:00:07\n",
      "   ------------ --------------------------- 3.9/12.3 MB 1.3 MB/s eta 0:00:07\n",
      "   ------------ --------------------------- 4.0/12.3 MB 1.3 MB/s eta 0:00:07\n",
      "   ------------- -------------------------- 4.1/12.3 MB 1.3 MB/s eta 0:00:07\n",
      "   ------------- -------------------------- 4.2/12.3 MB 1.3 MB/s eta 0:00:07\n",
      "   ------------- -------------------------- 4.3/12.3 MB 1.3 MB/s eta 0:00:07\n",
      "   -------------- ------------------------- 4.4/12.3 MB 1.3 MB/s eta 0:00:06\n",
      "   -------------- ------------------------- 4.5/12.3 MB 1.3 MB/s eta 0:00:06\n",
      "   -------------- ------------------------- 4.5/12.3 MB 1.3 MB/s eta 0:00:06\n",
      "   -------------- ------------------------- 4.6/12.3 MB 1.3 MB/s eta 0:00:06\n",
      "   --------------- ------------------------ 4.6/12.3 MB 1.3 MB/s eta 0:00:06\n",
      "   --------------- ------------------------ 4.8/12.3 MB 1.3 MB/s eta 0:00:06\n",
      "   --------------- ------------------------ 4.8/12.3 MB 1.3 MB/s eta 0:00:06\n",
      "   ---------------- ----------------------- 4.9/12.3 MB 1.3 MB/s eta 0:00:06\n",
      "   ---------------- ----------------------- 5.0/12.3 MB 1.4 MB/s eta 0:00:06\n",
      "   ---------------- ----------------------- 5.1/12.3 MB 1.4 MB/s eta 0:00:06\n",
      "   ---------------- ----------------------- 5.2/12.3 MB 1.4 MB/s eta 0:00:06\n",
      "   ----------------- ---------------------- 5.3/12.3 MB 1.4 MB/s eta 0:00:06\n",
      "   ----------------- ---------------------- 5.4/12.3 MB 1.4 MB/s eta 0:00:06\n",
      "   ----------------- ---------------------- 5.4/12.3 MB 1.4 MB/s eta 0:00:05\n",
      "   ------------------ --------------------- 5.5/12.3 MB 1.4 MB/s eta 0:00:05\n",
      "   ------------------ --------------------- 5.6/12.3 MB 1.4 MB/s eta 0:00:05\n",
      "   ------------------ --------------------- 5.6/12.3 MB 1.4 MB/s eta 0:00:05\n",
      "   ------------------ --------------------- 5.7/12.3 MB 1.4 MB/s eta 0:00:05\n",
      "   ------------------- -------------------- 5.8/12.3 MB 1.4 MB/s eta 0:00:05\n",
      "   ------------------- -------------------- 5.9/12.3 MB 1.4 MB/s eta 0:00:05\n",
      "   ------------------- -------------------- 6.0/12.3 MB 1.4 MB/s eta 0:00:05\n",
      "   ------------------- -------------------- 6.1/12.3 MB 1.4 MB/s eta 0:00:05\n",
      "   -------------------- ------------------- 6.2/12.3 MB 1.4 MB/s eta 0:00:05\n",
      "   -------------------- ------------------- 6.3/12.3 MB 1.4 MB/s eta 0:00:05\n",
      "   -------------------- ------------------- 6.4/12.3 MB 1.4 MB/s eta 0:00:05\n",
      "   --------------------- ------------------ 6.5/12.3 MB 1.4 MB/s eta 0:00:04\n",
      "   --------------------- ------------------ 6.6/12.3 MB 1.5 MB/s eta 0:00:04\n",
      "   --------------------- ------------------ 6.7/12.3 MB 1.5 MB/s eta 0:00:04\n",
      "   ---------------------- ----------------- 6.8/12.3 MB 1.5 MB/s eta 0:00:04\n",
      "   ---------------------- ----------------- 6.8/12.3 MB 1.5 MB/s eta 0:00:04\n",
      "   ---------------------- ----------------- 6.9/12.3 MB 1.5 MB/s eta 0:00:04\n",
      "   ----------------------- ---------------- 7.1/12.3 MB 1.5 MB/s eta 0:00:04\n",
      "   ----------------------- ---------------- 7.2/12.3 MB 1.5 MB/s eta 0:00:04\n",
      "   ----------------------- ---------------- 7.4/12.3 MB 1.5 MB/s eta 0:00:04\n",
      "   ------------------------ --------------- 7.5/12.3 MB 1.5 MB/s eta 0:00:04\n",
      "   ------------------------ --------------- 7.6/12.3 MB 1.5 MB/s eta 0:00:04\n",
      "   ------------------------- -------------- 7.7/12.3 MB 1.5 MB/s eta 0:00:03\n",
      "   ------------------------- -------------- 7.9/12.3 MB 1.5 MB/s eta 0:00:03\n",
      "   ------------------------- -------------- 8.0/12.3 MB 1.5 MB/s eta 0:00:03\n",
      "   -------------------------- ------------- 8.0/12.3 MB 1.5 MB/s eta 0:00:03\n",
      "   -------------------------- ------------- 8.1/12.3 MB 1.5 MB/s eta 0:00:03\n",
      "   -------------------------- ------------- 8.3/12.3 MB 1.5 MB/s eta 0:00:03\n",
      "   --------------------------- ------------ 8.3/12.3 MB 1.5 MB/s eta 0:00:03\n",
      "   --------------------------- ------------ 8.4/12.3 MB 1.5 MB/s eta 0:00:03\n",
      "   --------------------------- ------------ 8.6/12.3 MB 1.6 MB/s eta 0:00:03\n",
      "   ---------------------------- ----------- 8.7/12.3 MB 1.6 MB/s eta 0:00:03\n",
      "   ---------------------------- ----------- 8.8/12.3 MB 1.6 MB/s eta 0:00:03\n",
      "   ---------------------------- ----------- 8.8/12.3 MB 1.6 MB/s eta 0:00:03\n",
      "   ----------------------------- ---------- 8.9/12.3 MB 1.6 MB/s eta 0:00:03\n",
      "   ----------------------------- ---------- 9.0/12.3 MB 1.6 MB/s eta 0:00:03\n",
      "   ----------------------------- ---------- 9.1/12.3 MB 1.6 MB/s eta 0:00:03\n",
      "   ------------------------------ --------- 9.2/12.3 MB 1.6 MB/s eta 0:00:02\n",
      "   ------------------------------ --------- 9.3/12.3 MB 1.6 MB/s eta 0:00:02\n",
      "   ------------------------------ --------- 9.4/12.3 MB 1.6 MB/s eta 0:00:02\n",
      "   ------------------------------ --------- 9.5/12.3 MB 1.6 MB/s eta 0:00:02\n",
      "   ------------------------------- -------- 9.6/12.3 MB 1.6 MB/s eta 0:00:02\n",
      "   ------------------------------- -------- 9.7/12.3 MB 1.6 MB/s eta 0:00:02\n",
      "   ------------------------------- -------- 9.8/12.3 MB 1.6 MB/s eta 0:00:02\n",
      "   -------------------------------- ------- 9.9/12.3 MB 1.6 MB/s eta 0:00:02\n",
      "   -------------------------------- ------- 10.0/12.3 MB 1.6 MB/s eta 0:00:02\n",
      "   -------------------------------- ------- 10.1/12.3 MB 1.6 MB/s eta 0:00:02\n",
      "   --------------------------------- ------ 10.2/12.3 MB 1.6 MB/s eta 0:00:02\n",
      "   --------------------------------- ------ 10.3/12.3 MB 1.6 MB/s eta 0:00:02\n",
      "   ---------------------------------- ----- 10.4/12.3 MB 1.7 MB/s eta 0:00:02\n",
      "   ---------------------------------- ----- 10.6/12.3 MB 1.7 MB/s eta 0:00:02\n",
      "   ---------------------------------- ----- 10.7/12.3 MB 1.7 MB/s eta 0:00:01\n",
      "   ----------------------------------- ---- 10.8/12.3 MB 1.7 MB/s eta 0:00:01\n",
      "   ----------------------------------- ---- 11.0/12.3 MB 1.8 MB/s eta 0:00:01\n",
      "   ------------------------------------ --- 11.1/12.3 MB 1.8 MB/s eta 0:00:01\n",
      "   ------------------------------------ --- 11.2/12.3 MB 1.8 MB/s eta 0:00:01\n",
      "   ------------------------------------ --- 11.3/12.3 MB 1.8 MB/s eta 0:00:01\n",
      "   ------------------------------------- -- 11.4/12.3 MB 1.8 MB/s eta 0:00:01\n",
      "   ------------------------------------- -- 11.5/12.3 MB 1.8 MB/s eta 0:00:01\n",
      "   -------------------------------------- - 11.7/12.3 MB 1.9 MB/s eta 0:00:01\n",
      "   -------------------------------------- - 11.8/12.3 MB 1.9 MB/s eta 0:00:01\n",
      "   ---------------------------------------  12.0/12.3 MB 1.9 MB/s eta 0:00:01\n",
      "   ---------------------------------------  12.2/12.3 MB 1.9 MB/s eta 0:00:01\n",
      "   ---------------------------------------  12.2/12.3 MB 1.9 MB/s eta 0:00:01\n",
      "   ---------------------------------------  12.3/12.3 MB 1.9 MB/s eta 0:00:01\n",
      "   ---------------------------------------- 12.3/12.3 MB 1.9 MB/s eta 0:00:00\n",
      "Downloading jmespath-1.0.1-py3-none-any.whl (20 kB)\n",
      "Downloading s3transfer-0.10.1-py3-none-any.whl (82 kB)\n",
      "   ---------------------------------------- 0.0/82.2 kB ? eta -:--:--\n",
      "   ---------------------------------------- 82.2/82.2 kB 2.3 MB/s eta 0:00:00\n",
      "Installing collected packages: types-requests, parameterized, jmespath, httpx-sse, fastavro, botocore, tokenizers, s3transfer, boto3, cohere\n",
      "  Attempting uninstall: tokenizers\n",
      "    Found existing installation: tokenizers 0.19.1\n",
      "    Uninstalling tokenizers-0.19.1:\n",
      "      Successfully uninstalled tokenizers-0.19.1\n",
      "Note: you may need to restart the kernel to use updated packages.\n"
     ]
    },
    {
     "name": "stderr",
     "output_type": "stream",
     "text": [
      "ERROR: Could not install packages due to an OSError: [WinError 5] Access is denied: 'C:\\\\Users\\\\VISHAL MAURYA\\\\Desktop\\\\Document Comparision\\\\pdr_venv\\\\Lib\\\\site-packages\\\\~okenizers\\\\tokenizers.cp311-win_amd64.pyd'\n",
      "Check the permissions.\n",
      "\n",
      "\n",
      "[notice] A new release of pip is available: 23.2.1 -> 24.0\n",
      "[notice] To update, run: python.exe -m pip install --upgrade pip\n"
     ]
    }
   ],
   "source": [
    "pip install cohere"
   ]
  },
  {
   "cell_type": "code",
   "execution_count": 19,
   "metadata": {
    "id": "NPAwX35sL7Yh"
   },
   "outputs": [
    {
     "ename": "ModuleNotFoundError",
     "evalue": "No module named 'cohere'",
     "output_type": "error",
     "traceback": [
      "\u001b[1;31m---------------------------------------------------------------------------\u001b[0m",
      "\u001b[1;31mModuleNotFoundError\u001b[0m                       Traceback (most recent call last)",
      "Cell \u001b[1;32mIn[19], line 1\u001b[0m\n\u001b[1;32m----> 1\u001b[0m \u001b[38;5;28;01mimport\u001b[39;00m \u001b[38;5;21;01mcohere\u001b[39;00m\n\u001b[0;32m      2\u001b[0m co \u001b[38;5;241m=\u001b[39m cohere\u001b[38;5;241m.\u001b[39mClient(\u001b[38;5;124m'\u001b[39m\u001b[38;5;124mw8CnnlzVol2aZEiirZNLUs0onAqXUUYBZCw2Oj7g\u001b[39m\u001b[38;5;124m'\u001b[39m)\n",
      "\u001b[1;31mModuleNotFoundError\u001b[0m: No module named 'cohere'"
     ]
    }
   ],
   "source": [
    "import cohere\n",
    "co = cohere.Client('w8CnnlzVol2aZEiirZNLUs0onAqXUUYBZCw2Oj7g')"
   ]
  },
  {
   "cell_type": "code",
   "execution_count": null,
   "metadata": {
    "id": "jukaV60YL7Yh"
   },
   "outputs": [],
   "source": [
    "retrieved_docs_query1=[]\n",
    "for i in range(len(retrieved_docs_1)):\n",
    "  retrieved_docs_query1.append(retrieved_docs_1[i].page_content)"
   ]
  },
  {
   "cell_type": "code",
   "execution_count": null,
   "metadata": {
    "id": "dkE78buML7Yo"
   },
   "outputs": [],
   "source": [
    "results = co.rerank(query=query_1, documents=retrieved_docs_query1, top_n=3, model='rerank-english-v2.0') # Change top_n to change the number of results returned. If top_n is not passed, all results will be returned."
   ]
  },
  {
   "cell_type": "code",
   "execution_count": null,
   "metadata": {
    "id": "vCc8AxBGL7Yo",
    "outputId": "c1a6e081-8d4b-466d-fbf3-9755a50af531"
   },
   "outputs": [],
   "source": [
    "results"
   ]
  },
  {
   "cell_type": "code",
   "execution_count": null,
   "metadata": {
    "id": "-8vcZKJjL7Yp",
    "outputId": "986afcc0-ad24-4c11-d0d8-744dc518a528"
   },
   "outputs": [],
   "source": [
    "print(query_1)"
   ]
  },
  {
   "cell_type": "code",
   "execution_count": null,
   "metadata": {
    "id": "CWIzNGsvL7Yp",
    "outputId": "3c424528-4829-48f4-823e-d573a272ed14"
   },
   "outputs": [],
   "source": [
    "results = co.rerank(query=query_1, documents=retrieved_docs_query1, top_n=3, model='rerank-english-v2.0') # Change top_n to change the number of results returned. If top_n is not passed, all results will be returned.\n",
    "for idx, r in enumerate(results.results):\n",
    "    print(f\"Document Rank: {idx + 1}, Document Index: {r.index}\")\n",
    "    print(f\"Source Document: {retrieved_docs_1[r.index].metadata}\")\n",
    "    print(f\"Document: {retrieved_docs_query1[r.index]}\")\n",
    "    print(f\"Relevance Score: {r.relevance_score:.2f}\")\n",
    "    print(\"\\n\")"
   ]
  },
  {
   "cell_type": "code",
   "execution_count": null,
   "metadata": {
    "id": "bXCvbwAAL7Yp"
   },
   "outputs": [],
   "source": [
    "retrieved_docs_query2=[]\n",
    "for i in range(len(retrieved_docs_2)):\n",
    "  retrieved_docs_query2.append(retrieved_docs_2[i].page_content)"
   ]
  },
  {
   "cell_type": "code",
   "execution_count": null,
   "metadata": {
    "id": "9F5k1xHjL7Yp",
    "outputId": "827f733b-6ae3-4a2d-d09a-77e98aa426f4"
   },
   "outputs": [],
   "source": [
    "print(query_2)"
   ]
  },
  {
   "cell_type": "code",
   "execution_count": null,
   "metadata": {
    "id": "GBSuKGMKL7Yp",
    "outputId": "63ff8573-b494-486a-d93b-1b142811f71e"
   },
   "outputs": [],
   "source": [
    "results = co.rerank(query=query_2, documents=retrieved_docs_query2, top_n=3, model='rerank-english-v2.0') # Change top_n to change the number of results returned. If top_n is not passed, all results will be returned.\n",
    "for idx, r in enumerate(results.results):\n",
    "  print(f\"Document Rank: {idx + 1}, Document Index: {r.index}\")\n",
    "  print(f\"Source Document: {retrieved_docs_2[r.index].metadata}\")\n",
    "  print(f\"Document: {retrieved_docs_query2[r.index]}\")\n",
    "  print(f\"Relevance Score: {r.relevance_score:.2f}\")\n",
    "  print(\"\\n\")"
   ]
  },
  {
   "cell_type": "code",
   "execution_count": null,
   "metadata": {
    "id": "PseqspuhL7Yq",
    "outputId": "7e5975ec-92b7-4f0c-94f8-b1318dc9d579"
   },
   "outputs": [],
   "source": [
    "retrieved_docs_query3=[]\n",
    "for i in range(len(retrieved_docs_3)):\n",
    "  retrieved_docs_query3.append(retrieved_docs_3[i].page_content)\n",
    "\n",
    "print(query_3,\"\\n\")\n",
    "results = co.rerank(query=query_3, documents=retrieved_docs_query3, top_n=3, model='rerank-english-v2.0') # Change top_n to change the number of results returned. If top_n is not passed, all results will be returned.\n",
    "for idx, r in enumerate(results.results):\n",
    "  print(f\"Document Rank: {idx + 1}, Document Index: {r.index}\")\n",
    "  print(f\"Source Document: {retrieved_docs_3[r.index].metadata}\")\n",
    "  print(f\"Document: {retrieved_docs_query3[r.index]}\")\n",
    "  print(f\"Relevance Score: {r.relevance_score:.2f}\")\n",
    "  print(\"\\n\")"
   ]
  },
  {
   "cell_type": "code",
   "execution_count": null,
   "metadata": {
    "id": "Wj2agSdiL7Yq",
    "outputId": "4cec0692-0370-43fd-cca6-2003f0f0d16f"
   },
   "outputs": [],
   "source": [
    "retrieved_docs_query4=[]\n",
    "for i in range(len(retrieved_docs_4)):\n",
    "  retrieved_docs_query4.append(retrieved_docs_4[i].page_content)\n",
    "\n",
    "print(query_4,\"\\n\")\n",
    "results = co.rerank(query=query_4, documents=retrieved_docs_query4, top_n=3, model='rerank-english-v2.0') # Change top_n to change the number of results returned. If top_n is not passed, all results will be returned.\n",
    "for idx, r in enumerate(results.results):\n",
    "  print(f\"Document Rank: {idx + 1}, Document Index: {r.index}\")\n",
    "  print(f\"Source Document: {retrieved_docs_4[r.index].metadata}\")\n",
    "  print(f\"Document: {retrieved_docs_query4[r.index]}\")\n",
    "  print(f\"Relevance Score: {r.relevance_score:.2f}\")\n",
    "  print(\"\\n\")"
   ]
  },
  {
   "cell_type": "code",
   "execution_count": null,
   "metadata": {
    "id": "SHHhMN5lL7Yq",
    "outputId": "dd60b6c8-c313-4d5d-ec45-7f147c155cef"
   },
   "outputs": [],
   "source": [
    "retrieved_docs_query5=[]\n",
    "for i in range(len(retrieved_docs_5)):\n",
    "  retrieved_docs_query5.append(retrieved_docs_5[i].page_content)\n",
    "\n",
    "print(query_5,\"\\n\")\n",
    "results = co.rerank(query=query_5, documents=retrieved_docs_query5, top_n=3, model='rerank-english-v2.0') # Change top_n to change the number of results returned. If top_n is not passed, all results will be returned.\n",
    "for idx, r in enumerate(results.results):\n",
    "  print(f\"Document Rank: {idx + 1}, Document Index: {r.index}\")\n",
    "  print(f\"Source Document: {retrieved_docs_5[r.index].metadata}\")\n",
    "  print(f\"Document: {retrieved_docs_query5[r.index]}\")\n",
    "  print(f\"Relevance Score: {r.relevance_score:.2f}\")\n",
    "  print(\"\\n\")"
   ]
  },
  {
   "cell_type": "markdown",
   "metadata": {
    "id": "jJ1wjLRDL7Yr"
   },
   "source": [
    "# Parent Document Retriever\n",
    "Version 2 - Larger chunks"
   ]
  },
  {
   "cell_type": "code",
   "execution_count": null,
   "metadata": {
    "id": "FJWaVW_GL7Yr"
   },
   "outputs": [],
   "source": [
    "from langchain.storage import InMemoryStore\n",
    "from langchain.retrievers import ParentDocumentRetriever\n",
    "\n",
    "child_splitter = RecursiveCharacterTextSplitter(chunk_size=700, chunk_overlap=50)\n",
    "parent_splitter = RecursiveCharacterTextSplitter(chunk_size=2000, chunk_overlap=200)\n",
    "vectorstore = Chroma(\n",
    "    collection_name=\"full_documents\", embedding_function=hf\n",
    ")\n",
    "store = InMemoryStore()\n",
    "retriever = ParentDocumentRetriever(\n",
    "    vectorstore=vectorstore,\n",
    "    docstore=store,\n",
    "    child_splitter=child_splitter,\n",
    "    parent_splitter=parent_splitter\n",
    ")"
   ]
  },
  {
   "cell_type": "code",
   "execution_count": null,
   "metadata": {
    "id": "mdXssW4lL7Yr"
   },
   "outputs": [],
   "source": [
    "# adding original documents before splitting or chunking as the retriever already does these\n",
    "retriever.add_documents(documents, ids=None)"
   ]
  },
  {
   "cell_type": "code",
   "execution_count": null,
   "metadata": {
    "colab": {
     "base_uri": "https://localhost:8080/"
    },
    "id": "-wrGMOd5L7Yr",
    "outputId": "04230ec1-f8e9-4fd4-bf45-f9f749ea639f",
    "scrolled": true
   },
   "outputs": [],
   "source": [
    "list(store.yield_keys())"
   ]
  },
  {
   "cell_type": "markdown",
   "metadata": {
    "id": "jLNgcjFMYFTo"
   },
   "source": [
    "## Query 1"
   ]
  },
  {
   "cell_type": "code",
   "execution_count": null,
   "metadata": {
    "id": "CAck-DYnL7Ys"
   },
   "outputs": [],
   "source": [
    "query_1=\" What are some challenges associated with data collection?\"\n",
    "sub_docs_1 = vectorstore.similarity_search(query_1)"
   ]
  },
  {
   "cell_type": "code",
   "execution_count": null,
   "metadata": {
    "colab": {
     "base_uri": "https://localhost:8080/"
    },
    "id": "udWLdebML7Ys",
    "outputId": "642b5b85-d8b1-44d4-889a-907c6398d306"
   },
   "outputs": [],
   "source": [
    "print(sub_docs_1[0].page_content)"
   ]
  },
  {
   "cell_type": "code",
   "execution_count": null,
   "metadata": {
    "colab": {
     "base_uri": "https://localhost:8080/"
    },
    "id": "jScYTbOhL7Yt",
    "outputId": "fcdde94d-6950-4764-b9f7-78553f8f836a"
   },
   "outputs": [],
   "source": [
    "sub_docs_1"
   ]
  },
  {
   "cell_type": "code",
   "execution_count": null,
   "metadata": {
    "id": "Q-yenRdOL7Yt"
   },
   "outputs": [],
   "source": [
    "retrieved_docs_1 = retriever.get_relevant_documents(query_1)"
   ]
  },
  {
   "cell_type": "code",
   "execution_count": null,
   "metadata": {
    "colab": {
     "base_uri": "https://localhost:8080/"
    },
    "id": "5N3ujf_pL7Yt",
    "outputId": "21d32dc9-b234-4552-ab24-3cfb977388da"
   },
   "outputs": [],
   "source": [
    "len(retrieved_docs_1[0].page_content)"
   ]
  },
  {
   "cell_type": "code",
   "execution_count": null,
   "metadata": {
    "colab": {
     "base_uri": "https://localhost:8080/"
    },
    "id": "ihfwSuJXL7Yt",
    "outputId": "3bef9c23-bc14-4250-cb0a-ffd1a5eee5ee"
   },
   "outputs": [],
   "source": [
    "retrieved_docs_1"
   ]
  },
  {
   "cell_type": "markdown",
   "metadata": {
    "id": "tKYFDtpAYKdd"
   },
   "source": [
    "## Query 2"
   ]
  },
  {
   "cell_type": "code",
   "execution_count": null,
   "metadata": {
    "colab": {
     "base_uri": "https://localhost:8080/"
    },
    "id": "mqLlRo3cL7Yu",
    "outputId": "c24f23eb-544d-43e7-df15-fae4269885b2"
   },
   "outputs": [],
   "source": [
    "#query_1=\" What are some challenges associated with data collection?\"\n",
    "query_2=\" What are the advantages of the Apriori algorithm?\"\n",
    "\n",
    "sub_docs_2 = vectorstore.similarity_search(query_2)\n",
    "retrieved_docs_2 = retriever.get_relevant_documents(query_2)\n",
    "retrieved_docs_2"
   ]
  },
  {
   "cell_type": "code",
   "execution_count": null,
   "metadata": {
    "colab": {
     "base_uri": "https://localhost:8080/"
    },
    "id": "-mVfsk6zL7Yu",
    "outputId": "9dccf338-ab66-4915-cbea-b99736193aff"
   },
   "outputs": [],
   "source": [
    "sub_docs_2"
   ]
  },
  {
   "cell_type": "markdown",
   "metadata": {
    "id": "_d7zKFnOYzAr"
   },
   "source": [
    "## Query 3"
   ]
  },
  {
   "cell_type": "code",
   "execution_count": null,
   "metadata": {
    "colab": {
     "base_uri": "https://localhost:8080/"
    },
    "id": "GxGuL1RkL7Yu",
    "outputId": "8bcc6a13-dbff-43f8-fcf2-2638bd0187b2"
   },
   "outputs": [],
   "source": [
    "#query_1=\" What are some challenges associated with data collection?\"\n",
    "#query_2=\" What are the advantages of the Apriori algorithm?\"\n",
    "query_3=\" What distinguishes training data in supervised learning, and what is its purpose? \"\n",
    "\n",
    "sub_docs_3 = vectorstore.similarity_search(query_3)\n",
    "retrieved_docs_3 = retriever.get_relevant_documents(query_3)\n",
    "retrieved_docs_3"
   ]
  },
  {
   "cell_type": "markdown",
   "metadata": {
    "id": "DBuRkJ1QY7D_"
   },
   "source": [
    "## Query 4"
   ]
  },
  {
   "cell_type": "code",
   "execution_count": null,
   "metadata": {
    "colab": {
     "base_uri": "https://localhost:8080/"
    },
    "id": "TPHtVrgaL7Yu",
    "outputId": "fff0beec-03ab-4257-ed2f-222ddcb7b32a"
   },
   "outputs": [],
   "source": [
    "#query_1=\" What are some challenges associated with data collection?\"\n",
    "#query_2=\" What are the advantages of the Apriori algorithm?\"\n",
    "#query_3=\" What distinguishes training data in supervised learning, and what is its purpose? \"\n",
    "query_4=\" What is cross-validation?\"\n",
    "\n",
    "sub_docs_4 = vectorstore.similarity_search(query_4)\n",
    "retrieved_docs_4 = retriever.get_relevant_documents(query_4)\n",
    "retrieved_docs_4"
   ]
  },
  {
   "cell_type": "code",
   "execution_count": null,
   "metadata": {
    "colab": {
     "base_uri": "https://localhost:8080/"
    },
    "id": "MuixB7BtL7Yv",
    "outputId": "9347d52d-5dac-439e-fb77-cb0272747717"
   },
   "outputs": [],
   "source": [
    "sub_docs_4"
   ]
  },
  {
   "cell_type": "markdown",
   "metadata": {
    "id": "-svmIHR_Y9bi"
   },
   "source": [
    "## Query 5"
   ]
  },
  {
   "cell_type": "code",
   "execution_count": null,
   "metadata": {
    "colab": {
     "base_uri": "https://localhost:8080/"
    },
    "id": "wTasMU4WL7Yv",
    "outputId": "b0ce8312-1b50-4fad-d074-d01a826abc52"
   },
   "outputs": [],
   "source": [
    "#query_1=\" What are some challenges associated with data collection?\"\n",
    "#query_2=\" What are the advantages of the Apriori algorithm?\"\n",
    "#query_3=\" What distinguishes training data in supervised learning, and what is its purpose? \"\n",
    "#query_4=\" What is cross-validation?\"\n",
    "query_5=\"What is the process of building the decision tree classifier, and how is it trained on the dataset?\"\n",
    "\n",
    "sub_docs_5 = vectorstore.similarity_search(query_5)\n",
    "retrieved_docs_5 = retriever.get_relevant_documents(query_5)\n",
    "retrieved_docs_5"
   ]
  },
  {
   "cell_type": "code",
   "execution_count": null,
   "metadata": {
    "colab": {
     "base_uri": "https://localhost:8080/"
    },
    "id": "3oqeSnpiL7Yw",
    "outputId": "93b56d11-4b7b-450f-e856-327aa4341776"
   },
   "outputs": [],
   "source": [
    "sub_docs_5"
   ]
  },
  {
   "cell_type": "markdown",
   "metadata": {
    "id": "XK5dZy6MjeI7"
   },
   "source": [
    "## Query 6"
   ]
  },
  {
   "cell_type": "code",
   "execution_count": null,
   "metadata": {
    "colab": {
     "base_uri": "https://localhost:8080/"
    },
    "id": "ZjX_lVTqjdZV",
    "outputId": "5a01ae6f-dbc2-44cf-8f1e-ae674d18dd1b"
   },
   "outputs": [],
   "source": [
    "query_6=\"What is the challenge associated with supervised learning?\"\n",
    "\n",
    "sub_docs_6 = vectorstore.similarity_search(query_6)\n",
    "retrieved_docs_6 = retriever.get_relevant_documents(query_6)\n",
    "retrieved_docs_6"
   ]
  },
  {
   "cell_type": "markdown",
   "metadata": {
    "id": "WrWR6zzGjjS2"
   },
   "source": [
    "## Query 7"
   ]
  },
  {
   "cell_type": "code",
   "execution_count": null,
   "metadata": {
    "colab": {
     "base_uri": "https://localhost:8080/"
    },
    "id": "pfLs--TtjjTA",
    "outputId": "8af7a48f-b1df-42ff-822b-3d13f73f06c0"
   },
   "outputs": [],
   "source": [
    "query_7=\"What considerations should businesses keep in mind when applying market basket analysis to understand customer behavior?\"\n",
    "\n",
    "sub_docs_7 = vectorstore.similarity_search(query_7)\n",
    "retrieved_docs_7 = retriever.get_relevant_documents(query_7)\n",
    "retrieved_docs_7"
   ]
  },
  {
   "cell_type": "markdown",
   "metadata": {
    "id": "bfnVogJJjlwP"
   },
   "source": [
    "## Query 8"
   ]
  },
  {
   "cell_type": "code",
   "execution_count": null,
   "metadata": {
    "colab": {
     "base_uri": "https://localhost:8080/"
    },
    "id": "bfoMCTdZjlwX",
    "outputId": "5181c36d-f647-46c1-bf98-773483a00853"
   },
   "outputs": [],
   "source": [
    "query_8=\"How does the genie index contribute to decision tree construction, and why is it favored in practice, particularly in Python libraries?\"\n",
    "\n",
    "sub_docs_8 = vectorstore.similarity_search(query_8)\n",
    "retrieved_docs_8 = retriever.get_relevant_documents(query_8)\n",
    "retrieved_docs_8"
   ]
  },
  {
   "cell_type": "markdown",
   "metadata": {
    "id": "DYYd0a-LjoJK"
   },
   "source": [
    "## Query 9"
   ]
  },
  {
   "cell_type": "code",
   "execution_count": null,
   "metadata": {
    "colab": {
     "base_uri": "https://localhost:8080/"
    },
    "id": "8wuU5NmMjoJa",
    "outputId": "2daca168-d7d6-4ed7-c63a-6af6f7e49b15"
   },
   "outputs": [],
   "source": [
    "query_9=\"What is the harmonic mean, and how does it enable the combination of precision and recall into a single metric?\"\n",
    "\n",
    "sub_docs_9 = vectorstore.similarity_search(query_9)\n",
    "retrieved_docs_9 = retriever.get_relevant_documents(query_9)\n",
    "retrieved_docs_9"
   ]
  },
  {
   "cell_type": "markdown",
   "metadata": {
    "id": "X_1vrGm9jrJl"
   },
   "source": [
    "## Query 10"
   ]
  },
  {
   "cell_type": "code",
   "execution_count": null,
   "metadata": {
    "colab": {
     "base_uri": "https://localhost:8080/"
    },
    "id": "j855JPegjrJu",
    "outputId": "c9ae53ea-8f4a-4d48-d04b-ca063c760dcc"
   },
   "outputs": [],
   "source": [
    "query_10=\"What are the implications of choosing a large or small learning rate?\"\n",
    "\n",
    "sub_docs_10 = vectorstore.similarity_search(query_10)\n",
    "retrieved_docs_10 = retriever.get_relevant_documents(query_10)\n",
    "retrieved_docs_10"
   ]
  },
  {
   "cell_type": "code",
   "execution_count": null,
   "metadata": {
    "colab": {
     "base_uri": "https://localhost:8080/"
    },
    "id": "sF4HW1f1L7Yw",
    "outputId": "ea846203-a145-440a-e699-dcb219635464"
   },
   "outputs": [],
   "source": [
    "pip install cohere"
   ]
  },
  {
   "cell_type": "markdown",
   "metadata": {
    "id": "Xand7DRVcgX9"
   },
   "source": [
    "# Co-here Re-ranking"
   ]
  },
  {
   "cell_type": "code",
   "execution_count": null,
   "metadata": {
    "id": "fCgmNQTGL7Yx"
   },
   "outputs": [],
   "source": [
    "import cohere\n",
    "co = cohere.Client('w8CnnlzVol2aZEiirZNLUs0onAqXUUYBZCw2Oj7g')"
   ]
  },
  {
   "cell_type": "markdown",
   "metadata": {
    "id": "Ety4_Dgfktc_"
   },
   "source": [
    "## Query 1"
   ]
  },
  {
   "cell_type": "code",
   "execution_count": null,
   "metadata": {
    "id": "Oj5eGFxVL7Yx"
   },
   "outputs": [],
   "source": [
    "retrieved_docs_query1=[]\n",
    "for i in range(len(retrieved_docs_1)):\n",
    "  retrieved_docs_query1.append(retrieved_docs_1[i].page_content)"
   ]
  },
  {
   "cell_type": "code",
   "execution_count": null,
   "metadata": {
    "id": "GFrqPbGFL7Yx"
   },
   "outputs": [],
   "source": [
    "results = co.rerank(query=query_1, documents=retrieved_docs_query1, top_n=3, model='rerank-english-v2.0') # Change top_n to change the number of results returned. If top_n is not passed, all results will be returned."
   ]
  },
  {
   "cell_type": "code",
   "execution_count": null,
   "metadata": {
    "colab": {
     "base_uri": "https://localhost:8080/"
    },
    "id": "laY6TA7ML7Yy",
    "outputId": "1e25bd01-bf8f-40a9-8543-3852b243ec61"
   },
   "outputs": [],
   "source": [
    "results"
   ]
  },
  {
   "cell_type": "code",
   "execution_count": null,
   "metadata": {
    "colab": {
     "base_uri": "https://localhost:8080/"
    },
    "id": "n0g82kFKL7Yy",
    "outputId": "99f34086-d432-4197-d0c7-e7e696b54740"
   },
   "outputs": [],
   "source": [
    "print(query_1)"
   ]
  },
  {
   "cell_type": "code",
   "execution_count": null,
   "metadata": {
    "colab": {
     "base_uri": "https://localhost:8080/"
    },
    "id": "VEaO16UdL7Yz",
    "outputId": "55a9d004-7f24-4240-cc3b-2cf82e6dcf5c"
   },
   "outputs": [],
   "source": [
    "#results = co.rerank(query=query_1, documents=retrieved_docs_query1, top_n=3, model='rerank-english-v2.0') # Change top_n to change the number of results returned. If top_n is not passed, all results will be returned.\n",
    "print(query_1,\"\\n\")\n",
    "for idx, r in enumerate(results.results):\n",
    "    print(f\"Document Rank: {idx + 1}, Document Index: {r.index}\")\n",
    "    print(f\"Source Document: {retrieved_docs_1[r.index].metadata}\")\n",
    "    print(f\"Document: {retrieved_docs_query1[r.index]}\")\n",
    "    print(f\"Relevance Score: {r.relevance_score:.2f}\")\n",
    "    print(\"\\n\")"
   ]
  },
  {
   "cell_type": "markdown",
   "metadata": {
    "id": "NpvCAW1bk0Ay"
   },
   "source": [
    "## Query 2"
   ]
  },
  {
   "cell_type": "code",
   "execution_count": null,
   "metadata": {
    "id": "oVI5i5C2L7Yz"
   },
   "outputs": [],
   "source": [
    "retrieved_docs_query2=[]\n",
    "for i in range(len(retrieved_docs_2)):\n",
    "  retrieved_docs_query2.append(retrieved_docs_2[i].page_content)"
   ]
  },
  {
   "cell_type": "code",
   "execution_count": null,
   "metadata": {
    "colab": {
     "base_uri": "https://localhost:8080/"
    },
    "id": "9Ck7LvhLL7Y0",
    "outputId": "b8a5fda4-80d2-4e40-dae9-9f66bab9d76f"
   },
   "outputs": [],
   "source": [
    "print(query_2)"
   ]
  },
  {
   "cell_type": "code",
   "execution_count": null,
   "metadata": {
    "colab": {
     "base_uri": "https://localhost:8080/"
    },
    "id": "YO-yBxajL7Y0",
    "outputId": "b9c6dec9-c13f-4356-aca8-286933ca2144"
   },
   "outputs": [],
   "source": [
    "results = co.rerank(query=query_2, documents=retrieved_docs_query2, top_n=3, model='rerank-english-v2.0') # Change top_n to change the number of results returned. If top_n is not passed, all results will be returned.\n",
    "print(query_2,\"\\n\")\n",
    "for idx, r in enumerate(results.results):\n",
    "  print(f\"Document Rank: {idx + 1}, Document Index: {r.index}\")\n",
    "  print(f\"Source Document: {retrieved_docs_2[r.index].metadata}\")\n",
    "  print(f\"Document: {retrieved_docs_query2[r.index]}\")\n",
    "  print(f\"Relevance Score: {r.relevance_score:.2f}\")\n",
    "  print(\"\\n\")"
   ]
  },
  {
   "cell_type": "markdown",
   "metadata": {
    "id": "uNICmSrkk5gB"
   },
   "source": [
    "## Query 3"
   ]
  },
  {
   "cell_type": "code",
   "execution_count": null,
   "metadata": {
    "colab": {
     "base_uri": "https://localhost:8080/"
    },
    "id": "muzHnafgL7Y0",
    "outputId": "1c333185-69ef-46b4-ad3f-3671fdeddb3f"
   },
   "outputs": [],
   "source": [
    "retrieved_docs_query3=[]\n",
    "for i in range(len(retrieved_docs_3)):\n",
    "  retrieved_docs_query3.append(retrieved_docs_3[i].page_content)\n",
    "\n",
    "print(query_3,\"\\n\")\n",
    "results = co.rerank(query=query_3, documents=retrieved_docs_query3, top_n=3, model='rerank-english-v2.0') # Change top_n to change the number of results returned. If top_n is not passed, all results will be returned.\n",
    "for idx, r in enumerate(results.results):\n",
    "  print(f\"Document Rank: {idx + 1}, Document Index: {r.index}\")\n",
    "  print(f\"Source Document: {retrieved_docs_3[r.index].metadata}\")\n",
    "  print(f\"Document: {retrieved_docs_query3[r.index]}\")\n",
    "  print(f\"Relevance Score: {r.relevance_score:.2f}\")\n",
    "  print(\"\\n\")"
   ]
  },
  {
   "cell_type": "markdown",
   "metadata": {
    "id": "y6ngiuAKk-L1"
   },
   "source": [
    "## Query 4"
   ]
  },
  {
   "cell_type": "code",
   "execution_count": null,
   "metadata": {
    "colab": {
     "base_uri": "https://localhost:8080/"
    },
    "id": "edbCuQieL7Y1",
    "outputId": "5fc55749-860f-4f5b-ed56-9196c474fb19"
   },
   "outputs": [],
   "source": [
    "retrieved_docs_query4=[]\n",
    "for i in range(len(retrieved_docs_4)):\n",
    "  retrieved_docs_query4.append(retrieved_docs_4[i].page_content)\n",
    "\n",
    "print(query_4,\"\\n\")\n",
    "results = co.rerank(query=query_4, documents=retrieved_docs_query4, top_n=3, model='rerank-english-v2.0') # Change top_n to change the number of results returned. If top_n is not passed, all results will be returned.\n",
    "for idx, r in enumerate(results.results):\n",
    "  print(f\"Document Rank: {idx + 1}, Document Index: {r.index}\")\n",
    "  print(f\"Source Document: {retrieved_docs_4[r.index].metadata}\")\n",
    "  print(f\"Document: {retrieved_docs_query4[r.index]}\")\n",
    "  print(f\"Relevance Score: {r.relevance_score:.2f}\")\n",
    "  print(\"\\n\")"
   ]
  },
  {
   "cell_type": "markdown",
   "metadata": {
    "id": "hdxOk36plB3D"
   },
   "source": [
    "## Query 5"
   ]
  },
  {
   "cell_type": "code",
   "execution_count": null,
   "metadata": {
    "colab": {
     "base_uri": "https://localhost:8080/"
    },
    "id": "7-sHgtpoL7Y2",
    "outputId": "28e67859-641a-4a22-af8b-885864d8cbe0"
   },
   "outputs": [],
   "source": [
    "retrieved_docs_query5=[]\n",
    "for i in range(len(retrieved_docs_5)):\n",
    "  retrieved_docs_query5.append(retrieved_docs_5[i].page_content)\n",
    "\n",
    "print(query_5,\"\\n\")\n",
    "results = co.rerank(query=query_5, documents=retrieved_docs_query5, top_n=3, model='rerank-english-v2.0') # Change top_n to change the number of results returned. If top_n is not passed, all results will be returned.\n",
    "for idx, r in enumerate(results.results):\n",
    "  print(f\"Document Rank: {idx + 1}, Document Index: {r.index}\")\n",
    "  print(f\"Source Document: {retrieved_docs_5[r.index].metadata}\")\n",
    "  print(f\"Document: {retrieved_docs_query5[r.index]}\")\n",
    "  print(f\"Relevance Score: {r.relevance_score:.2f}\")\n",
    "  print(\"\\n\")"
   ]
  },
  {
   "cell_type": "markdown",
   "metadata": {
    "id": "nfXPH-yulIWU"
   },
   "source": [
    "## Query 6"
   ]
  },
  {
   "cell_type": "code",
   "execution_count": null,
   "metadata": {
    "colab": {
     "base_uri": "https://localhost:8080/"
    },
    "id": "whnTycKtlIWb",
    "outputId": "06f52e10-c6f4-4246-b5bf-59aa8cc1ba0c"
   },
   "outputs": [],
   "source": [
    "retrieved_docs_query6=[]\n",
    "for i in range(len(retrieved_docs_6)):\n",
    "  retrieved_docs_query6.append(retrieved_docs_6[i].page_content)\n",
    "\n",
    "print(query_6,\"\\n\")\n",
    "results = co.rerank(query=query_6, documents=retrieved_docs_query6, top_n=3, model='rerank-english-v2.0') # Change top_n to change the number of results returned. If top_n is not passed, all results will be returned.\n",
    "for idx, r in enumerate(results.results):\n",
    "  print(f\"Document Rank: {idx + 1}, Document Index: {r.index}\")\n",
    "  print(f\"Source Document: {retrieved_docs_6[r.index].metadata}\")\n",
    "  print(f\"Document: {retrieved_docs_query6[r.index]}\")\n",
    "  print(f\"Relevance Score: {r.relevance_score:.2f}\")\n",
    "  print(\"\\n\")"
   ]
  },
  {
   "cell_type": "markdown",
   "metadata": {
    "id": "In7tbtVOlQin"
   },
   "source": [
    "## Query 7"
   ]
  },
  {
   "cell_type": "code",
   "execution_count": null,
   "metadata": {
    "colab": {
     "base_uri": "https://localhost:8080/"
    },
    "id": "5qH14OaclQin",
    "outputId": "1e01083b-9fb0-4bb6-ee55-6d236044dee9"
   },
   "outputs": [],
   "source": [
    "retrieved_docs_query7=[]\n",
    "for i in range(len(retrieved_docs_7)):\n",
    "  retrieved_docs_query7.append(retrieved_docs_7[i].page_content)\n",
    "\n",
    "print(query_7,\"\\n\")\n",
    "results = co.rerank(query=query_7, documents=retrieved_docs_query7, top_n=3, model='rerank-english-v2.0') # Change top_n to change the number of results returned. If top_n is not passed, all results will be returned.\n",
    "for idx, r in enumerate(results.results):\n",
    "  print(f\"Document Rank: {idx + 1}, Document Index: {r.index}\")\n",
    "  print(f\"Source Document: {retrieved_docs_7[r.index].metadata}\")\n",
    "  print(f\"Document: {retrieved_docs_query7[r.index]}\")\n",
    "  print(f\"Relevance Score: {r.relevance_score:.2f}\")\n",
    "  print(\"\\n\")"
   ]
  },
  {
   "cell_type": "markdown",
   "metadata": {
    "id": "BLxdsJe_lX5L"
   },
   "source": [
    "## Query 8"
   ]
  },
  {
   "cell_type": "code",
   "execution_count": null,
   "metadata": {
    "colab": {
     "base_uri": "https://localhost:8080/"
    },
    "id": "-3Jjw5rClX5L",
    "outputId": "6e94026c-9ce0-4404-ed64-16668cbaacf6"
   },
   "outputs": [],
   "source": [
    "retrieved_docs_query8=[]\n",
    "for i in range(len(retrieved_docs_8)):\n",
    "  retrieved_docs_query8.append(retrieved_docs_8[i].page_content)\n",
    "\n",
    "print(query_8,\"\\n\")\n",
    "results = co.rerank(query=query_8, documents=retrieved_docs_query8, top_n=3, model='rerank-english-v2.0') # Change top_n to change the number of results returned. If top_n is not passed, all results will be returned.\n",
    "for idx, r in enumerate(results.results):\n",
    "  print(f\"Document Rank: {idx + 1}, Document Index: {r.index}\")\n",
    "  print(f\"Source Document: {retrieved_docs_8[r.index].metadata}\")\n",
    "  print(f\"Document: {retrieved_docs_query8[r.index]}\")\n",
    "  print(f\"Relevance Score: {r.relevance_score:.2f}\")\n",
    "  print(\"\\n\")"
   ]
  },
  {
   "cell_type": "markdown",
   "metadata": {
    "id": "hv1pxXaala3i"
   },
   "source": [
    "## Query 9"
   ]
  },
  {
   "cell_type": "code",
   "execution_count": null,
   "metadata": {
    "colab": {
     "base_uri": "https://localhost:8080/"
    },
    "id": "huhaQQ_Ula3y",
    "outputId": "694f8676-07e6-4bc0-f550-a57715f8d54a"
   },
   "outputs": [],
   "source": [
    "retrieved_docs_query9=[]\n",
    "for i in range(len(retrieved_docs_9)):\n",
    "  retrieved_docs_query9.append(retrieved_docs_9[i].page_content)\n",
    "\n",
    "print(query_9,\"\\n\")\n",
    "results = co.rerank(query=query_9, documents=retrieved_docs_query9, top_n=3, model='rerank-english-v2.0') # Change top_n to change the number of results returned. If top_n is not passed, all results will be returned.\n",
    "for idx, r in enumerate(results.results):\n",
    "  print(f\"Document Rank: {idx + 1}, Document Index: {r.index}\")\n",
    "  print(f\"Source Document: {retrieved_docs_9[r.index].metadata}\")\n",
    "  print(f\"Document: {retrieved_docs_query9[r.index]}\")\n",
    "  print(f\"Relevance Score: {r.relevance_score:.2f}\")\n",
    "  print(\"\\n\")"
   ]
  },
  {
   "cell_type": "markdown",
   "metadata": {
    "id": "3a48V3jildv9"
   },
   "source": [
    "## Query 10"
   ]
  },
  {
   "cell_type": "code",
   "execution_count": null,
   "metadata": {
    "colab": {
     "base_uri": "https://localhost:8080/"
    },
    "id": "gpPdKdQnldwO",
    "outputId": "3a471558-fa28-4932-c708-ba3cd443cda7"
   },
   "outputs": [],
   "source": [
    "retrieved_docs_query10=[]\n",
    "for i in range(len(retrieved_docs_10)):\n",
    "  retrieved_docs_query10.append(retrieved_docs_10[i].page_content)\n",
    "\n",
    "print(query_10,\"\\n\")\n",
    "results = co.rerank(query=query_10, documents=retrieved_docs_query10, top_n=3, model='rerank-english-v2.0') # Change top_n to change the number of results returned. If top_n is not passed, all results will be returned.\n",
    "for idx, r in enumerate(results.results):\n",
    "  print(f\"Document Rank: {idx + 1}, Document Index: {r.index}\")\n",
    "  print(f\"Source Document: {retrieved_docs_10[r.index].metadata}\")\n",
    "  print(f\"Document: {retrieved_docs_query10[r.index]}\")\n",
    "  print(f\"Relevance Score: {r.relevance_score:.2f}\")\n",
    "  print(\"\\n\")"
   ]
  }
 ],
 "metadata": {
  "colab": {
   "provenance": [],
   "toc_visible": true
  },
  "kaggle": {
   "accelerator": "nvidiaTeslaT4",
   "dataSources": [
    {
     "datasetId": 4711455,
     "sourceId": 8000798,
     "sourceType": "datasetVersion"
    }
   ],
   "dockerImageVersionId": 30674,
   "isGpuEnabled": true,
   "isInternetEnabled": true,
   "language": "python",
   "sourceType": "notebook"
  },
  "kernelspec": {
   "display_name": "Python (pdr_venv)",
   "language": "python",
   "name": "pdr_venv"
  },
  "language_info": {
   "codemirror_mode": {
    "name": "ipython",
    "version": 3
   },
   "file_extension": ".py",
   "mimetype": "text/x-python",
   "name": "python",
   "nbconvert_exporter": "python",
   "pygments_lexer": "ipython3",
   "version": "3.11.5"
  },
  "widgets": {
   "application/vnd.jupyter.widget-state+json": {
    "state": {},
    "version_major": 2,
    "version_minor": 0
   }
  }
 },
 "nbformat": 4,
 "nbformat_minor": 4
}
