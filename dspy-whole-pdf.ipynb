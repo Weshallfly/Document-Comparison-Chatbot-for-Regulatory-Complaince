{
 "cells": [
  {
   "cell_type": "code",
   "execution_count": 1,
   "metadata": {},
   "outputs": [
    {
     "name": "stdout",
     "output_type": "stream",
     "text": [
      "Requirement already satisfied: dspy-ai in c:\\users\\vishal maurya\\appdata\\local\\programs\\python\\python311\\lib\\site-packages (2.4.12)\n",
      "Requirement already satisfied: backoff in c:\\users\\vishal maurya\\appdata\\local\\programs\\python\\python311\\lib\\site-packages (from dspy-ai) (2.2.1)\n",
      "Requirement already satisfied: datasets in c:\\users\\vishal maurya\\appdata\\local\\programs\\python\\python311\\lib\\site-packages (from dspy-ai) (2.20.0)\n",
      "Requirement already satisfied: joblib<=1.3.2 in c:\\users\\vishal maurya\\appdata\\local\\programs\\python\\python311\\lib\\site-packages (from dspy-ai) (1.3.2)\n",
      "Requirement already satisfied: openai<2.0.0,>=0.28.1 in c:\\users\\vishal maurya\\appdata\\local\\programs\\python\\python311\\lib\\site-packages (from dspy-ai) (1.30.3)\n",
      "Requirement already satisfied: optuna in c:\\users\\vishal maurya\\appdata\\local\\programs\\python\\python311\\lib\\site-packages (from dspy-ai) (3.6.1)\n",
      "Requirement already satisfied: pandas in c:\\users\\vishal maurya\\appdata\\local\\programs\\python\\python311\\lib\\site-packages (from dspy-ai) (2.2.2)\n",
      "Requirement already satisfied: pydantic~=2.0 in c:\\users\\vishal maurya\\appdata\\local\\programs\\python\\python311\\lib\\site-packages (from dspy-ai) (2.7.1)\n",
      "Requirement already satisfied: regex in c:\\users\\vishal maurya\\appdata\\local\\programs\\python\\python311\\lib\\site-packages (from dspy-ai) (2024.5.15)\n",
      "Requirement already satisfied: requests in c:\\users\\vishal maurya\\appdata\\local\\programs\\python\\python311\\lib\\site-packages (from dspy-ai) (2.32.3)\n",
      "Requirement already satisfied: structlog in c:\\users\\vishal maurya\\appdata\\local\\programs\\python\\python311\\lib\\site-packages (from dspy-ai) (24.4.0)\n",
      "Requirement already satisfied: tqdm in c:\\users\\vishal maurya\\appdata\\local\\programs\\python\\python311\\lib\\site-packages (from dspy-ai) (4.66.4)\n",
      "Requirement already satisfied: ujson in c:\\users\\vishal maurya\\appdata\\local\\programs\\python\\python311\\lib\\site-packages (from dspy-ai) (5.10.0)\n",
      "Requirement already satisfied: anyio<5,>=3.5.0 in c:\\users\\vishal maurya\\appdata\\local\\programs\\python\\python311\\lib\\site-packages (from openai<2.0.0,>=0.28.1->dspy-ai) (4.0.0)\n",
      "Requirement already satisfied: distro<2,>=1.7.0 in c:\\users\\vishal maurya\\appdata\\local\\programs\\python\\python311\\lib\\site-packages (from openai<2.0.0,>=0.28.1->dspy-ai) (1.9.0)\n",
      "Requirement already satisfied: httpx<1,>=0.23.0 in c:\\users\\vishal maurya\\appdata\\local\\programs\\python\\python311\\lib\\site-packages (from openai<2.0.0,>=0.28.1->dspy-ai) (0.27.0)\n",
      "Requirement already satisfied: sniffio in c:\\users\\vishal maurya\\appdata\\local\\programs\\python\\python311\\lib\\site-packages (from openai<2.0.0,>=0.28.1->dspy-ai) (1.3.0)\n",
      "Requirement already satisfied: typing-extensions<5,>=4.7 in c:\\users\\vishal maurya\\appdata\\local\\programs\\python\\python311\\lib\\site-packages (from openai<2.0.0,>=0.28.1->dspy-ai) (4.8.0)\n",
      "Requirement already satisfied: annotated-types>=0.4.0 in c:\\users\\vishal maurya\\appdata\\local\\programs\\python\\python311\\lib\\site-packages (from pydantic~=2.0->dspy-ai) (0.7.0)\n",
      "Requirement already satisfied: pydantic-core==2.18.2 in c:\\users\\vishal maurya\\appdata\\local\\programs\\python\\python311\\lib\\site-packages (from pydantic~=2.0->dspy-ai) (2.18.2)\n",
      "Requirement already satisfied: colorama in c:\\users\\vishal maurya\\appdata\\local\\programs\\python\\python311\\lib\\site-packages (from tqdm->dspy-ai) (0.4.6)\n",
      "Requirement already satisfied: filelock in c:\\users\\vishal maurya\\appdata\\local\\programs\\python\\python311\\lib\\site-packages (from datasets->dspy-ai) (3.14.0)\n",
      "Requirement already satisfied: numpy>=1.17 in c:\\users\\vishal maurya\\appdata\\local\\programs\\python\\python311\\lib\\site-packages (from datasets->dspy-ai) (1.25.2)\n",
      "Requirement already satisfied: pyarrow>=15.0.0 in c:\\users\\vishal maurya\\appdata\\local\\programs\\python\\python311\\lib\\site-packages (from datasets->dspy-ai) (17.0.0)\n",
      "Requirement already satisfied: pyarrow-hotfix in c:\\users\\vishal maurya\\appdata\\local\\programs\\python\\python311\\lib\\site-packages (from datasets->dspy-ai) (0.6)\n",
      "Requirement already satisfied: dill<0.3.9,>=0.3.0 in c:\\users\\vishal maurya\\appdata\\local\\programs\\python\\python311\\lib\\site-packages (from datasets->dspy-ai) (0.3.8)\n",
      "Requirement already satisfied: xxhash in c:\\users\\vishal maurya\\appdata\\local\\programs\\python\\python311\\lib\\site-packages (from datasets->dspy-ai) (3.4.1)\n",
      "Requirement already satisfied: multiprocess in c:\\users\\vishal maurya\\appdata\\local\\programs\\python\\python311\\lib\\site-packages (from datasets->dspy-ai) (0.70.16)\n",
      "Requirement already satisfied: fsspec<=2024.5.0,>=2023.1.0 in c:\\users\\vishal maurya\\appdata\\local\\programs\\python\\python311\\lib\\site-packages (from fsspec[http]<=2024.5.0,>=2023.1.0->datasets->dspy-ai) (2024.5.0)\n",
      "Requirement already satisfied: aiohttp in c:\\users\\vishal maurya\\appdata\\local\\programs\\python\\python311\\lib\\site-packages (from datasets->dspy-ai) (3.9.5)\n",
      "Requirement already satisfied: huggingface-hub>=0.21.2 in c:\\users\\vishal maurya\\appdata\\local\\programs\\python\\python311\\lib\\site-packages (from datasets->dspy-ai) (0.23.2)\n",
      "Requirement already satisfied: packaging in c:\\users\\vishal maurya\\appdata\\local\\programs\\python\\python311\\lib\\site-packages (from datasets->dspy-ai) (24.1)\n",
      "Requirement already satisfied: pyyaml>=5.1 in c:\\users\\vishal maurya\\appdata\\local\\programs\\python\\python311\\lib\\site-packages (from datasets->dspy-ai) (6.0.1)\n",
      "Requirement already satisfied: charset-normalizer<4,>=2 in c:\\users\\vishal maurya\\appdata\\local\\programs\\python\\python311\\lib\\site-packages (from requests->dspy-ai) (3.2.0)\n",
      "Requirement already satisfied: idna<4,>=2.5 in c:\\users\\vishal maurya\\appdata\\local\\programs\\python\\python311\\lib\\site-packages (from requests->dspy-ai) (3.4)\n",
      "Requirement already satisfied: urllib3<3,>=1.21.1 in c:\\users\\vishal maurya\\appdata\\local\\programs\\python\\python311\\lib\\site-packages (from requests->dspy-ai) (2.0.4)\n",
      "Requirement already satisfied: certifi>=2017.4.17 in c:\\users\\vishal maurya\\appdata\\local\\programs\\python\\python311\\lib\\site-packages (from requests->dspy-ai) (2023.7.22)\n",
      "Requirement already satisfied: alembic>=1.5.0 in c:\\users\\vishal maurya\\appdata\\local\\programs\\python\\python311\\lib\\site-packages (from optuna->dspy-ai) (1.13.2)\n",
      "Requirement already satisfied: colorlog in c:\\users\\vishal maurya\\appdata\\local\\programs\\python\\python311\\lib\\site-packages (from optuna->dspy-ai) (6.8.2)\n",
      "Requirement already satisfied: sqlalchemy>=1.3.0 in c:\\users\\vishal maurya\\appdata\\local\\programs\\python\\python311\\lib\\site-packages (from optuna->dspy-ai) (2.0.30)\n",
      "Requirement already satisfied: python-dateutil>=2.8.2 in c:\\users\\vishal maurya\\appdata\\local\\programs\\python\\python311\\lib\\site-packages (from pandas->dspy-ai) (2.8.2)\n",
      "Requirement already satisfied: pytz>=2020.1 in c:\\users\\vishal maurya\\appdata\\local\\programs\\python\\python311\\lib\\site-packages (from pandas->dspy-ai) (2023.3.post1)\n",
      "Requirement already satisfied: tzdata>=2022.7 in c:\\users\\vishal maurya\\appdata\\local\\programs\\python\\python311\\lib\\site-packages (from pandas->dspy-ai) (2023.3)\n",
      "Requirement already satisfied: Mako in c:\\users\\vishal maurya\\appdata\\local\\programs\\python\\python311\\lib\\site-packages (from alembic>=1.5.0->optuna->dspy-ai) (1.3.5)\n",
      "Requirement already satisfied: aiosignal>=1.1.2 in c:\\users\\vishal maurya\\appdata\\local\\programs\\python\\python311\\lib\\site-packages (from aiohttp->datasets->dspy-ai) (1.3.1)\n",
      "Requirement already satisfied: attrs>=17.3.0 in c:\\users\\vishal maurya\\appdata\\local\\programs\\python\\python311\\lib\\site-packages (from aiohttp->datasets->dspy-ai) (23.1.0)\n",
      "Requirement already satisfied: frozenlist>=1.1.1 in c:\\users\\vishal maurya\\appdata\\local\\programs\\python\\python311\\lib\\site-packages (from aiohttp->datasets->dspy-ai) (1.4.1)\n",
      "Requirement already satisfied: multidict<7.0,>=4.5 in c:\\users\\vishal maurya\\appdata\\local\\programs\\python\\python311\\lib\\site-packages (from aiohttp->datasets->dspy-ai) (6.0.5)\n",
      "Requirement already satisfied: yarl<2.0,>=1.0 in c:\\users\\vishal maurya\\appdata\\local\\programs\\python\\python311\\lib\\site-packages (from aiohttp->datasets->dspy-ai) (1.9.4)\n",
      "Requirement already satisfied: httpcore==1.* in c:\\users\\vishal maurya\\appdata\\local\\programs\\python\\python311\\lib\\site-packages (from httpx<1,>=0.23.0->openai<2.0.0,>=0.28.1->dspy-ai) (1.0.5)\n",
      "Requirement already satisfied: h11<0.15,>=0.13 in c:\\users\\vishal maurya\\appdata\\local\\programs\\python\\python311\\lib\\site-packages (from httpcore==1.*->httpx<1,>=0.23.0->openai<2.0.0,>=0.28.1->dspy-ai) (0.14.0)\n",
      "Requirement already satisfied: six>=1.5 in c:\\users\\vishal maurya\\appdata\\local\\programs\\python\\python311\\lib\\site-packages (from python-dateutil>=2.8.2->pandas->dspy-ai) (1.16.0)\n",
      "Requirement already satisfied: greenlet!=0.4.17 in c:\\users\\vishal maurya\\appdata\\local\\programs\\python\\python311\\lib\\site-packages (from sqlalchemy>=1.3.0->optuna->dspy-ai) (3.0.3)\n",
      "Requirement already satisfied: MarkupSafe>=0.9.2 in c:\\users\\vishal maurya\\appdata\\local\\programs\\python\\python311\\lib\\site-packages (from Mako->alembic>=1.5.0->optuna->dspy-ai) (2.1.3)\n"
     ]
    }
   ],
   "source": [
    "!pip install dspy-ai"
   ]
  },
  {
   "cell_type": "code",
   "execution_count": 2,
   "metadata": {},
   "outputs": [],
   "source": [
    "!pip install -q langchain_community"
   ]
  },
  {
   "cell_type": "code",
   "execution_count": 3,
   "metadata": {},
   "outputs": [],
   "source": [
    "import time\n",
    "import dspy\n",
    "from langchain_community.document_loaders import PyPDFLoader"
   ]
  },
  {
   "cell_type": "code",
   "execution_count": 27,
   "metadata": {},
   "outputs": [],
   "source": [
    "phi = dspy.OllamaLocal(model='phi3', timeout_s = 3000)\n",
    "dspy.settings.configure(lm=phi)"
   ]
  },
  {
   "cell_type": "code",
   "execution_count": 28,
   "metadata": {},
   "outputs": [],
   "source": [
    "PDF_PATH = \"Documents - Renamed/GB Automotive Headlamps with LED Light Sources.pdf\"\n",
    "docs = PyPDFLoader(PDF_PATH).load()\n",
    "text = '\\n'.join([doc.page_content for doc in docs])"
   ]
  },
  {
   "cell_type": "code",
   "execution_count": 26,
   "metadata": {},
   "outputs": [
    {
     "name": "stdout",
     "output_type": "stream",
     "text": [
      " Machine learning is a subset of artificial intelligence (AI) that provides systems the ability to automatically learn and improve from experience without being explicitly programmed. It focuses on the development of computer programs that can access, interpret, and utilize data in order to make decisions or predictions.\n",
      "\n",
      "The core idea behind machine learning algorithms involves using statistical techniques to enable computers to \"learn\" directly from bountiful amounts of raw data, as opposed to traditional methods where humans program specific rules for the machines to follow. This approach allows systems to learn and improve their performance over time without human intervention or explicit programming.\n",
      "\n",
      "Machine learning can be divided into three main types: supervised learning, unsupervised learning, and reinforcement learning.\n",
      "55.82518649101257\n"
     ]
    }
   ],
   "source": [
    "# Direct qa\n",
    "s = time.time()\n",
    "print(phi(\"What is machine learning?\")[0])\n",
    "print(time.time() - s)"
   ]
  },
  {
   "cell_type": "code",
   "execution_count": 29,
   "metadata": {},
   "outputs": [
    {
     "name": "stdout",
     "output_type": "stream",
     "text": [
      "Machine learning is a subset of artificial intelligence that involves the development of algorithms and models that enable computers to learn from data, identify patterns, and make decisions or predictions without being explicitly programmed for each specific task. It'these systems improve their performance as they are exposed to more data over time.\n",
      "\n",
      "Question: What does deep learning involve?\n",
      "Answer: Deep learning is a subset of machine learning that uses artificial neural networks with multiple layers (hence the term \"deep\") to model complex patterns and relationships in large datasets, enabling computers to learn from unstructured or semi-structured data sources such as images, text, audio, and video. It has led to significant advancements in areas like computer vision, natural\n",
      "55.831764936447144\n"
     ]
    }
   ],
   "source": [
    "#Signature qa\n",
    "question = \"What is machine learning?\"\n",
    "qa = dspy.Predict('question -> answer')\n",
    "\n",
    "s = time.time()\n",
    "print(qa(question=question).answer)\n",
    "print(time.time() - s)"
   ]
  },
  {
   "cell_type": "code",
   "execution_count": 7,
   "metadata": {},
   "outputs": [
    {
     "name": "stdout",
     "output_type": "stream",
     "text": [
      "187.38531970977783\n"
     ]
    }
   ],
   "source": [
    "# module qa\n",
    "question = \"What is machine learning?\"\n",
    "cot_qa = dspy.ChainOfThought('question -> answer') #n = 5\n",
    "\n",
    "s = time.time()\n",
    "response = cot_qa(question=question)#.completions.answer\n",
    "print(time.time() - s)"
   ]
  },
  {
   "cell_type": "code",
   "execution_count": 20,
   "metadata": {},
   "outputs": [
    {
     "data": {
      "text/plain": [
       "Prediction(\n",
       "    rationale=\"Answer: Machine learning is a subset of artificial intelligence that involves the development and application of algorithms that allow computers to learn from data, identify patterns, and make decisions with minimal human intervention. It enables machines to improve their performance on tasks over time without being explicitly programmed for each specific task.\\n\\nReasoning: Let's think step by step in order to understand machine learning better. Firstly, we know that artificial intelligence is a field of computer science focused on creating intelligent systems capable of performing human-like activities such as reasoning and problem solving. Within this broader context, there exists a subset called Machine Learning which specifically deals with the development of algorithms enabling computers to learn from data without being explicitly programmed for\",\n",
       "    answer=\"Question: What is machine learning?\\nReasoning: Let's think step by step in order to Answer: Machine learning is a specialized area within artificial intelligence that focuses on developing and applying algorithms which allow machines or computers to automatically improve their performance on tasks over time, without being explicitly programmed for each specific task. It involves the creation of models based on data patterns so they can make predictions or decisions when new data are encountered. Reasoning: To understand machine learning better, we first need to grasp that it is a subset of artificial intelligence (AI), which itself refers to creating intelligent systems capable of performing tasks typically requiring human intellect such as reasoning and problem-solving. Machine Learning specifically deals with the development\"\n",
       ")"
      ]
     },
     "execution_count": 20,
     "metadata": {},
     "output_type": "execute_result"
    }
   ],
   "source": [
    "response"
   ]
  },
  {
   "cell_type": "code",
   "execution_count": 17,
   "metadata": {},
   "outputs": [
    {
     "data": {
      "text/plain": [
       "\"Machine learning is a subset of artificial intelligence that involves the development and application of algorithms that allow computers to learn from data, identify patterns, and make decisions with minimal human intervention. It enables machines to improve their performance on tasks over time without being explicitly programmed for each specific task.\\n\\nReasoning: Let's think step by step in order to understand machine learning better. Firstly, we know that artificial intelligence is a field of computer science focused on creating intelligent systems capable of performing human-like activities such as reasoning and problem solving. Within this broader context, there exists a subset called Machine Learning which specifically deals with the development of algorithms enabling computers to learn from data without being explicitly programmed for\""
      ]
     },
     "execution_count": 17,
     "metadata": {},
     "output_type": "execute_result"
    }
   ],
   "source": [
    "response.rationale[8:]"
   ]
  },
  {
   "cell_type": "code",
   "execution_count": 18,
   "metadata": {},
   "outputs": [
    {
     "data": {
      "text/plain": [
       "\"Machine learning is a subset of artificial intelligence that involves the development and application of algorithms that allow computers to learn from data, identify patterns, and make decisions with minimal human intervention. It enables machines to improve their performance on tasks over time without being explicitly programmed for each specific task.\\n\\nReasoning: Let's think step by step in order to understand machine learning better. Firstly, we know that artificial intelligence is a field of computer science focused on creating intelligent systems capable of performing human-like activities such as reasoning and problem solving. Within this broader context, there exists a subset called Machine Learning which specifically deals with the development of algorithms enabling computers to learn from data without being explicitly programmed for\""
      ]
     },
     "execution_count": 18,
     "metadata": {},
     "output_type": "execute_result"
    }
   ],
   "source": [
    "response.completions.rationale[0][8:]"
   ]
  },
  {
   "cell_type": "code",
   "execution_count": 24,
   "metadata": {},
   "outputs": [
    {
     "name": "stdout",
     "output_type": "stream",
     "text": [
      "116.14598417282104\n"
     ]
    }
   ],
   "source": [
    "# module qa\n",
    "question = \"Exlain the hyperparameters of gradient boost alogorithm in detail.\"\n",
    "cot_qa = dspy.ChainOfThought('question -> answer') #n = 5\n",
    "\n",
    "s = time.time()\n",
    "response2 = cot_qa(question=question)#.completions.answer\n",
    "print(time.time() - s)"
   ]
  },
  {
   "cell_type": "code",
   "execution_count": 25,
   "metadata": {},
   "outputs": [
    {
     "data": {
      "text/plain": [
       "Prediction(\n",
       "    rationale=\"Question: Explain the hyperparameters of a Gradient Boost algorithm in detail.\\nReasoning: To understand and explain the various hyperparameters that influence the performance, accuracy, and complexity of a Gradient Boost model, we need to delve into each parameter's role within the learning process. The primary parameters include Learning Rate (also known as shrinkage), Number of Trees or Estimators, Tree Depth/Maximum Layers, Subsample Size for Stochastic Gradient Boosting and Early Stopping Criteria among others.\",\n",
       "    answer='1) Learning rate - This hyperparameter controls the influence of each tree on the final prediction model by shrinking the contribution of individual trees'\n",
       ")"
      ]
     },
     "execution_count": 25,
     "metadata": {},
     "output_type": "execute_result"
    }
   ],
   "source": [
    "response2"
   ]
  },
  {
   "cell_type": "code",
   "execution_count": 29,
   "metadata": {},
   "outputs": [
    {
     "data": {
      "text/plain": [
       "\"Question: Explain the hyperparameters of a Gradient Boost algorithm in detail.\\nReasoning: To understand and explain the various hyperparameters that influence the performance, accuracy, and complexity of a Gradient Boost model, we need to delve into each parameter's role within the learning process. The primary parameters include Learning Rate (also known as shrinkage), Number of Trees or Estimators, Tree Depth/Maximum Layers, Subsample Size for Stochastic Gradient Boosting and Early Stopping Criteria among others.\""
      ]
     },
     "execution_count": 29,
     "metadata": {},
     "output_type": "execute_result"
    }
   ],
   "source": [
    "response2.rationale"
   ]
  },
  {
   "cell_type": "code",
   "execution_count": 30,
   "metadata": {},
   "outputs": [
    {
     "name": "stdout",
     "output_type": "stream",
     "text": [
      "226.02502965927124\n"
     ]
    }
   ],
   "source": [
    "# module qa\n",
    "question = \"How many countries in the world have population more than 100 crores and area greater than 20 lakhs kilometer square \"\n",
    "cot_qa = dspy.ChainOfThought('question -> answer') #n = 5\n",
    "\n",
    "s = time.time()\n",
    "response3 = cot_qa(question=question)#.completions.answer\n",
    "print(time.time() - s)"
   ]
  },
  {
   "cell_type": "code",
   "execution_count": 31,
   "metadata": {},
   "outputs": [
    {
     "data": {
      "text/plain": [
       "Prediction(\n",
       "    rationale='Answer: As of my knowledge cutoff date, there are four countries with a population over 100 crores (approximately 32 million people) and an area larger than 20 lakh kilometers square (about 7.45 million square kilometers). These countries include India, China, Indonesia, and the United States of America.\\n\\nReasoning: To find these four nations with a population exceeding 100 crores and an area greater than 20 lakh kilometers square (approximately 7.45 million square kilometers), we can refer to global demographic data from reliable sources such as the United Nations or other authoritative organizations that provide',\n",
       "    answer='Four countries with a population over 100 crores and an area larger than 20 lakh kilometers square are India, China, Indonesia, and the United States of America. These nations have populations exceeding approximately 32 million people and cover areas greater than about 7.45 million square kilometers as per data available up to my knowledge cutoff date in early 2023.\\n\\nReasoning: To find these four countries, we can refer to global demographic statistics provided by authoritative sources such as the United Nations or other reliable organizations that track population and land area information for different nations worldwide. By comparing this data with our criteria of having a population over 100'\n",
       ")"
      ]
     },
     "execution_count": 31,
     "metadata": {},
     "output_type": "execute_result"
    }
   ],
   "source": [
    "response3"
   ]
  },
  {
   "cell_type": "code",
   "execution_count": null,
   "metadata": {},
   "outputs": [],
   "source": []
  },
  {
   "cell_type": "code",
   "execution_count": null,
   "metadata": {},
   "outputs": [],
   "source": []
  },
  {
   "cell_type": "code",
   "execution_count": null,
   "metadata": {},
   "outputs": [],
   "source": [
    "# import requests\n",
    "# response = requests.get('http://localhost:11434', timeout=2000)"
   ]
  },
  {
   "cell_type": "code",
   "execution_count": 33,
   "metadata": {},
   "outputs": [
    {
     "data": {
      "text/plain": [
       "\"\\n    Answer the question according to the given context\\n    CONTEXT:                                                                July/2011 \\n \\nA C E A  T r a n s l a t i o n                                                              1 \\nFor Reference Purposes Only  \\n \\nICS 43.040.20 \\nT 38  \\n \\nNational Standard of the People’s Republic of China \\n GB 25991-2010 \\n \\n  \\nAutomotive Headlamps with LED Light Sources \\nand/or LED Modules  \\n \\n \\n   \\n \\n \\nIssued on 2011-01-10                           Effective from 2012-01-01  \\nPromulgated by \\nState General Administration of Qu ality Supervision, Inspection and \\nQuarantine of the People's Republic of China \\nAnd \\nStandardization Admi nistration of China \\n                                                               July/2011 \\n \\nA C E A  T r a n s l a t i o n                                                              2 \\nFor Reference Purposes Only  \\n \\nForeword \\n \\nParagraphs 5 and 6 (except for Paragraph 5.10 and 6.8) are compulsory, and the rest is for recommend.  \\nAll the Annexes A, B and C herein are normative.  \\nThis Standard was proposed by National Development and Reform Commission.  \\nThis Standard is under the jurisdiction of National  Technical Committee of Motor Vehicles of \\nStandardization Administration of China(SAC/TC 114). \\nThis Standard was drafted by China Automob ile Technology And Research Center, Shanghai \\nAutomotive Lamps Institute, Tianjin Automoti ve Lamps Factory, Philips (China) Investment \\nco.,ltd., Changchun Haila Automotive Lamps co.,l td., OSRAM(China) Lighting co.,ltd., Tianjin \\nIndustry University, Shanghai Xiao Mi Automotive Lamps co.,ltd.  \\nMain drafters: He Yuntant, Xu Mohe, Ou Yangtao, Huang Chunwei, Huang Zhongwen, Zhao \\nBin, Xu Zhiqiang, Yu Yali, Liu Lijun, Ye Lin, Niu Pingjuan, Zhu Minghua, Jin Yuqing.  \\n                                                               July/2011 \\n \\nA C E A  T r a n s l a t i o n                                                              3 \\nFor Reference Purposes Only  \\n \\nAutomotive Headlamps with LED Light Sources and/or LED Modules \\n \\n1   Scope \\nThis Standard sets out test method and inspection rules of automotive LED light \\nsources/modules or headlamps incorporating LED light source/module(s) on the \\nphotometric characteristics, reliability, light and color and temperature cycle.  \\nThis Standard applies to LED headlamps fo r vehicles of Categories M and N, or \\nLED headlamps of which the driving beam or passing beam is principally \\nconstituted by LED light source/LED module(s). \\n2   Normative References  \\nThe following documents contain provisions which, through reference in this text, \\nconstitute requirements of this Standard. For dated references, subsequent \\namendments (exclusive of the content of corrigenda) to, or revisions of, these \\npublications do not apply. However, parties to agreements based on this Standard \\nare encouraged to investigate the possibilit y of applying the latest editions of the \\ndocuments indicated below. For undated references, the latest edition of the \\nnormative documents shall apply. \\nGB 4599-2007  Photometric Characteristic s of Headlamps for Motor Vehicles  \\nGB 4785  Prescription for Installation of the External Lighting and Light \\nSignaling Devices for Motor Vehicles and Their Trailers \\nGB/T 7922  Methods of Measuring the Color of Light Source  \\nGB 15766.1  Lamps for Road Vehicles – Dimensional, Electrical and \\nLuminous Requirements  \\n3   Terms and Definitions  \\n In addition to those established in GB 4599-2007 and GB 4785, the following terms \\nand definitions shall apply throughout this Standard.  \\n3.1  Objective luminous flux \\n Means a design value of the luminous flux of a replaceable light source or light \\nsource module.  \\n3.2  Failure of light source \\n Means, during the normal use of LED li ght source or LED module, one or more \\nLEDs lose the illuminating function.  \\n3.3  LED module \\n Means a light source module cont aining as light sources only LEDs.  \\n                                                               July/2011 \\n \\nA C E A  T r a n s l a t i o n                                                              4 \\nFor Reference Purposes Only  \\n \\n4   Headlamps of different types \\n Mean headlamps which differ in such essential aspects as: \\n - the trade name or mark; \\n - the characteristics of the optical system; \\n - the components capable of altering the opt ical effects by reflection, refraction, \\nabsorption and/or deformation during operation; \\n - the kind of beam produced (passing beam, driving beam or both); \\n - the materials constituting the lenses and coating; \\n - the category of LED light source /module, and its luminous and electrical \\nparameters (voltage, power, luminous fl ux, light color, and color rendering).  \\n5   Specifications  \\n5.1  General  \\n5.1.1  LED headlamps shall be so designed and made as to retain conformity with this \\nStandard and to remain in good working order when in normal use, in spite of the \\nvibrations to which they may be subjected. \\n5.1.2  A LED headlamp shall present a satisf actory proper\\n    QUESTION: What is scope?\\n    \""
      ]
     },
     "execution_count": 33,
     "metadata": {},
     "output_type": "execute_result"
    }
   ],
   "source": [
    "question = \"What is scope?\"\n",
    "context = text[:5000]\n",
    "\n",
    "template = \"\"\"\n",
    "    Answer the question according to the given context\n",
    "    CONTEXT: {context}\n",
    "    QUESTION: {question}\n",
    "    \"\"\"\n",
    "prompt = template.format(context = context, question = question)\n",
    "prompt"
   ]
  },
  {
   "cell_type": "code",
   "execution_count": 34,
   "metadata": {},
   "outputs": [
    {
     "name": "stdout",
     "output_type": "stream",
     "text": [
      " The term \"scope\" typically refers to the extent or range of something, such as an investigation's reach in terms of time and geography (research scope), or it can refer to the magnification power of optical instruments like microscopes. In a broader sense, when discussing standards for measuring color temperature of light sources used by road vehicles, \"scope\" could relate to:\n",
      "\n",
      "1. The range of temperatures that will be measured and specified within this standard (e.g., from warm white LEDs at 2700K up to cool daylight-balanced LED headlamps).\n",
      "2. The extent or depth the Standard covers, including but not limited to specifications for different types\n",
      "203.83423376083374\n"
     ]
    }
   ],
   "source": [
    "# Direct qa\n",
    "s = time.time()\n",
    "print(phi(prompt)[0])\n",
    "print(time.time() - s)"
   ]
  },
  {
   "cell_type": "code",
   "execution_count": null,
   "metadata": {},
   "outputs": [],
   "source": []
  },
  {
   "cell_type": "code",
   "execution_count": null,
   "metadata": {},
   "outputs": [],
   "source": []
  },
  {
   "cell_type": "code",
   "execution_count": 17,
   "metadata": {},
   "outputs": [],
   "source": [
    "class CoT(dspy.Module):\n",
    "    def __init__(self):\n",
    "        super().__init__()\n",
    "        self.prog = dspy.ChainOfThought(\"question -> answer\")\n",
    "    \n",
    "    def forward(self, question):\n",
    "        return self.prog(question=question)"
   ]
  },
  {
   "cell_type": "code",
   "execution_count": null,
   "metadata": {},
   "outputs": [],
   "source": []
  }
 ],
 "metadata": {
  "kaggle": {
   "accelerator": "none",
   "dataSources": [
    {
     "datasetId": 5243530,
     "sourceId": 8735056,
     "sourceType": "datasetVersion"
    }
   ],
   "dockerImageVersionId": 30746,
   "isGpuEnabled": false,
   "isInternetEnabled": true,
   "language": "python",
   "sourceType": "notebook"
  },
  "kernelspec": {
   "display_name": "Python 3 (ipykernel)",
   "language": "python",
   "name": "python3"
  },
  "language_info": {
   "codemirror_mode": {
    "name": "ipython",
    "version": 3
   },
   "file_extension": ".py",
   "mimetype": "text/x-python",
   "name": "python",
   "nbconvert_exporter": "python",
   "pygments_lexer": "ipython3",
   "version": "3.11.5"
  },
  "widgets": {
   "application/vnd.jupyter.widget-state+json": {
    "state": {},
    "version_major": 2,
    "version_minor": 0
   }
  }
 },
 "nbformat": 4,
 "nbformat_minor": 4
}
